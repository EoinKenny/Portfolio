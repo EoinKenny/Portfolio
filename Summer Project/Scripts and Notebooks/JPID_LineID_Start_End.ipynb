{
 "cells": [
  {
   "cell_type": "code",
   "execution_count": 102,
   "metadata": {
    "collapsed": true
   },
   "outputs": [],
   "source": [
    "import pandas as pd\n",
    "import numpy as np"
   ]
  },
  {
   "cell_type": "code",
   "execution_count": 103,
   "metadata": {
    "collapsed": true
   },
   "outputs": [],
   "source": [
    "df = pd.read_hdf(\"cleaned_store.h5\", key=\"table_name\")"
   ]
  },
  {
   "cell_type": "code",
   "execution_count": 104,
   "metadata": {
    "collapsed": true
   },
   "outputs": [],
   "source": [
    "j_patterns = df[\"Journey_Pattern_ID\"].value_counts().index.tolist()"
   ]
  },
  {
   "cell_type": "code",
   "execution_count": 105,
   "metadata": {},
   "outputs": [],
   "source": [
    "sql_table = pd.DataFrame()"
   ]
  },
  {
   "cell_type": "code",
   "execution_count": 106,
   "metadata": {},
   "outputs": [],
   "source": [
    "# insert jpid into sql_table\n",
    "sql_table[\"Journey_Pattern_ID\"] = pd.Series(j_patterns)"
   ]
  },
  {
   "cell_type": "code",
   "execution_count": 107,
   "metadata": {
    "collapsed": true
   },
   "outputs": [],
   "source": [
    "# this column encodes the main journey pattern id for each variation. e.g. 046A0001, 046A0002, 046A0003 etc.. will have 046A0001\n",
    "# as the main journey pattern id. 046A1001, 046A1002, 046A1003 will have 046A1001 as their main journey pattern id instead.\n",
    "# therefore direction is kept encoded.\n",
    "# very important: 046A1000 does not exist! the main route is always with 1!\n",
    "sql_table['Main_Journey_Pattern_ID'] = sql_table[\"Journey_Pattern_ID\"].astype(str).str[:-1]"
   ]
  },
  {
   "cell_type": "code",
   "execution_count": 108,
   "metadata": {},
   "outputs": [],
   "source": [
    "sql_table['Main_Journey_Pattern_ID'] = sql_table['Main_Journey_Pattern_ID'] + '1'"
   ]
  },
  {
   "cell_type": "code",
   "execution_count": 109,
   "metadata": {},
   "outputs": [],
   "source": [
    "#encoding a better line_id compared to the one available from gps data\n",
    "sql_table['Line_ID'] = sql_table[\"Journey_Pattern_ID\"].astype(str).str[:-4]"
   ]
  },
  {
   "cell_type": "code",
   "execution_count": 110,
   "metadata": {},
   "outputs": [],
   "source": [
    "sql_table['Line_ID'] = sql_table['Line_ID'].apply(lambda x: x.lstrip('0'))"
   ]
  },
  {
   "cell_type": "code",
   "execution_count": 111,
   "metadata": {},
   "outputs": [],
   "source": [
    "#direction where the bus is going, can only be 0 or 1\n",
    "sql_table['Direction'] = sql_table[\"Journey_Pattern_ID\"].astype(str).str[4]"
   ]
  },
  {
   "cell_type": "code",
   "execution_count": 112,
   "metadata": {},
   "outputs": [],
   "source": [
    "#encode the different sub routes within a lineid\n",
    "sql_table['Variation'] = sql_table[\"Journey_Pattern_ID\"].astype(str).str[-1]"
   ]
  },
  {
   "cell_type": "code",
   "execution_count": null,
   "metadata": {
    "collapsed": true
   },
   "outputs": [],
   "source": []
  },
  {
   "cell_type": "code",
   "execution_count": 113,
   "metadata": {
    "collapsed": true
   },
   "outputs": [],
   "source": [
    "#loading csv file which has same information as the table with same name in our database\n",
    "df2 = pd.read_csv('JourneyPatternID_StopID.csv')"
   ]
  },
  {
   "cell_type": "code",
   "execution_count": 114,
   "metadata": {
    "collapsed": true
   },
   "outputs": [],
   "source": [
    "idx_max = df2.groupby(['Journey_Pattern_ID'])['Distance'].transform(max) == df2['Distance']"
   ]
  },
  {
   "cell_type": "code",
   "execution_count": 115,
   "metadata": {},
   "outputs": [],
   "source": [
    "#dataframe with stops for each journey pattern id which have largest distance or in other words, the destination stop for each jpid\n",
    "df3 = df2[idx_max]"
   ]
  },
  {
   "cell_type": "code",
   "execution_count": 116,
   "metadata": {},
   "outputs": [
    {
     "name": "stderr",
     "output_type": "stream",
     "text": [
      "C:\\Users\\Daniele\\Anaconda3\\lib\\site-packages\\pandas\\core\\frame.py:2844: SettingWithCopyWarning: \n",
      "A value is trying to be set on a copy of a slice from a DataFrame\n",
      "\n",
      "See the caveats in the documentation: http://pandas.pydata.org/pandas-docs/stable/indexing.html#indexing-view-versus-copy\n",
      "  **kwargs)\n",
      "C:\\Users\\Daniele\\Anaconda3\\lib\\site-packages\\ipykernel_launcher.py:3: SettingWithCopyWarning: \n",
      "A value is trying to be set on a copy of a slice from a DataFrame\n",
      "\n",
      "See the caveats in the documentation: http://pandas.pydata.org/pandas-docs/stable/indexing.html#indexing-view-versus-copy\n",
      "  This is separate from the ipykernel package so we can avoid doing imports until\n"
     ]
    }
   ],
   "source": [
    "#let us rename columns and drop distance\n",
    "df3.rename(columns={'Stop_ID': 'Destination_Stop_ID'}, inplace=True)\n",
    "df3.drop('Distance', inplace=True, axis=1)"
   ]
  },
  {
   "cell_type": "code",
   "execution_count": 117,
   "metadata": {},
   "outputs": [],
   "source": [
    "idx_min = df2.groupby(['Journey_Pattern_ID'])['Distance'].transform(min) == df2['Distance']"
   ]
  },
  {
   "cell_type": "code",
   "execution_count": 118,
   "metadata": {
    "collapsed": true
   },
   "outputs": [],
   "source": [
    "#dataframe with stops for each journey pattern id which have smallest distance or in other words, the starting stop for each jpid\n",
    "df4 = df2[idx_min]"
   ]
  },
  {
   "cell_type": "code",
   "execution_count": 119,
   "metadata": {},
   "outputs": [
    {
     "name": "stderr",
     "output_type": "stream",
     "text": [
      "C:\\Users\\Daniele\\Anaconda3\\lib\\site-packages\\pandas\\core\\frame.py:2844: SettingWithCopyWarning: \n",
      "A value is trying to be set on a copy of a slice from a DataFrame\n",
      "\n",
      "See the caveats in the documentation: http://pandas.pydata.org/pandas-docs/stable/indexing.html#indexing-view-versus-copy\n",
      "  **kwargs)\n",
      "C:\\Users\\Daniele\\Anaconda3\\lib\\site-packages\\ipykernel_launcher.py:3: SettingWithCopyWarning: \n",
      "A value is trying to be set on a copy of a slice from a DataFrame\n",
      "\n",
      "See the caveats in the documentation: http://pandas.pydata.org/pandas-docs/stable/indexing.html#indexing-view-versus-copy\n",
      "  This is separate from the ipykernel package so we can avoid doing imports until\n"
     ]
    }
   ],
   "source": [
    "#let us rename columns and drop distance\n",
    "df4.rename(columns={'Stop_ID': 'Source_Stop_ID'}, inplace=True)\n",
    "df4.drop('Distance', inplace=True, axis=1)"
   ]
  },
  {
   "cell_type": "code",
   "execution_count": 120,
   "metadata": {},
   "outputs": [],
   "source": [
    "# merge sql table with table with sources\n",
    "sql_table = pd.merge(sql_table,df4, how='inner', on='Journey_Pattern_ID')"
   ]
  },
  {
   "cell_type": "code",
   "execution_count": 121,
   "metadata": {},
   "outputs": [],
   "source": [
    "# merge sql table with table with destinations\n",
    "sql_table = pd.merge(sql_table,df3, how='inner', on='Journey_Pattern_ID')"
   ]
  },
  {
   "cell_type": "code",
   "execution_count": 122,
   "metadata": {
    "collapsed": true
   },
   "outputs": [],
   "source": [
    "sql_table.sort_values([\"Journey_Pattern_ID\"], ascending=True, inplace=True)\n",
    "sql_table.reset_index(inplace=True, drop=True)"
   ]
  },
  {
   "cell_type": "code",
   "execution_count": 123,
   "metadata": {},
   "outputs": [],
   "source": [
    "sql_table.to_csv(\"JPID_LineID_Start_End.csv\",index=False)"
   ]
  },
  {
   "cell_type": "code",
   "execution_count": null,
   "metadata": {
    "collapsed": true
   },
   "outputs": [],
   "source": []
  }
 ],
 "metadata": {
  "kernelspec": {
   "display_name": "Python 3",
   "language": "python",
   "name": "python3"
  },
  "language_info": {
   "codemirror_mode": {
    "name": "ipython",
    "version": 3
   },
   "file_extension": ".py",
   "mimetype": "text/x-python",
   "name": "python",
   "nbconvert_exporter": "python",
   "pygments_lexer": "ipython3",
   "version": "3.6.1"
  }
 },
 "nbformat": 4,
 "nbformat_minor": 2
}
