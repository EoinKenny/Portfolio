{
 "cells": [
  {
   "cell_type": "code",
   "execution_count": 1,
   "metadata": {
    "collapsed": true
   },
   "outputs": [],
   "source": [
    "import pandas as pd"
   ]
  },
  {
   "cell_type": "code",
   "execution_count": 2,
   "metadata": {
    "collapsed": true
   },
   "outputs": [],
   "source": [
    "# Read in data with proper titles\n",
    "df = pd.read_csv(\"TwoWeeksData.csv\", low_memory = False)"
   ]
  },
  {
   "cell_type": "code",
   "execution_count": 3,
   "metadata": {
    "collapsed": false
   },
   "outputs": [
    {
     "data": {
      "text/html": [
       "<div>\n",
       "<table border=\"1\" class=\"dataframe\">\n",
       "  <thead>\n",
       "    <tr style=\"text-align: right;\">\n",
       "      <th></th>\n",
       "      <th>TimeStamp</th>\n",
       "      <th>LineId</th>\n",
       "      <th>Direction</th>\n",
       "      <th>JourneyPatternId</th>\n",
       "      <th>TimeFrame</th>\n",
       "      <th>VehicleJourneyId</th>\n",
       "      <th>BusOperator</th>\n",
       "      <th>Congestion</th>\n",
       "      <th>Long</th>\n",
       "      <th>Lat</th>\n",
       "      <th>Delay</th>\n",
       "      <th>BlockId</th>\n",
       "      <th>VehicleId</th>\n",
       "      <th>StopId</th>\n",
       "      <th>AtStop</th>\n",
       "      <th>Address</th>\n",
       "    </tr>\n",
       "  </thead>\n",
       "  <tbody>\n",
       "    <tr>\n",
       "      <th>0</th>\n",
       "      <td>1352160000000000</td>\n",
       "      <td>15</td>\n",
       "      <td>0</td>\n",
       "      <td>00150001</td>\n",
       "      <td>2012-11-05</td>\n",
       "      <td>5826</td>\n",
       "      <td>RD</td>\n",
       "      <td>0</td>\n",
       "      <td>-6.258584</td>\n",
       "      <td>53.340099</td>\n",
       "      <td>-361</td>\n",
       "      <td>15013</td>\n",
       "      <td>33210</td>\n",
       "      <td>4870</td>\n",
       "      <td>0</td>\n",
       "      <td>St. Colmcille's Way</td>\n",
       "    </tr>\n",
       "    <tr>\n",
       "      <th>1</th>\n",
       "      <td>1352160000000000</td>\n",
       "      <td>46</td>\n",
       "      <td>0</td>\n",
       "      <td>046A1002</td>\n",
       "      <td>2012-11-05</td>\n",
       "      <td>7267</td>\n",
       "      <td>D2</td>\n",
       "      <td>0</td>\n",
       "      <td>-6.259093</td>\n",
       "      <td>53.345425</td>\n",
       "      <td>-1101</td>\n",
       "      <td>46004</td>\n",
       "      <td>36024</td>\n",
       "      <td>794</td>\n",
       "      <td>0</td>\n",
       "      <td>Stop missing</td>\n",
       "    </tr>\n",
       "    <tr>\n",
       "      <th>2</th>\n",
       "      <td>1352160000000000</td>\n",
       "      <td>14</td>\n",
       "      <td>0</td>\n",
       "      <td>00140001</td>\n",
       "      <td>2012-11-05</td>\n",
       "      <td>6206</td>\n",
       "      <td>D2</td>\n",
       "      <td>0</td>\n",
       "      <td>-6.257329</td>\n",
       "      <td>53.287521</td>\n",
       "      <td>-126</td>\n",
       "      <td>14003</td>\n",
       "      <td>33325</td>\n",
       "      <td>1047</td>\n",
       "      <td>0</td>\n",
       "      <td>Beaumont Avenue</td>\n",
       "    </tr>\n",
       "    <tr>\n",
       "      <th>3</th>\n",
       "      <td>1352160002000000</td>\n",
       "      <td>41</td>\n",
       "      <td>0</td>\n",
       "      <td>041B0002</td>\n",
       "      <td>2012-11-05</td>\n",
       "      <td>61</td>\n",
       "      <td>SL</td>\n",
       "      <td>0</td>\n",
       "      <td>-6.264167</td>\n",
       "      <td>53.453217</td>\n",
       "      <td>-623</td>\n",
       "      <td>41008</td>\n",
       "      <td>33631</td>\n",
       "      <td>3874</td>\n",
       "      <td>1</td>\n",
       "      <td>Rolestown</td>\n",
       "    </tr>\n",
       "    <tr>\n",
       "      <th>4</th>\n",
       "      <td>1352160002000000</td>\n",
       "      <td>63</td>\n",
       "      <td>0</td>\n",
       "      <td>null</td>\n",
       "      <td>2012-11-05</td>\n",
       "      <td>1116</td>\n",
       "      <td>D2</td>\n",
       "      <td>0</td>\n",
       "      <td>-6.171050</td>\n",
       "      <td>53.259201</td>\n",
       "      <td>292</td>\n",
       "      <td>63003</td>\n",
       "      <td>33137</td>\n",
       "      <td>3283</td>\n",
       "      <td>0</td>\n",
       "      <td>Enniskerry Rd</td>\n",
       "    </tr>\n",
       "  </tbody>\n",
       "</table>\n",
       "</div>"
      ],
      "text/plain": [
       "          TimeStamp LineId  Direction JourneyPatternId   TimeFrame  \\\n",
       "0  1352160000000000     15          0         00150001  2012-11-05   \n",
       "1  1352160000000000     46          0         046A1002  2012-11-05   \n",
       "2  1352160000000000     14          0         00140001  2012-11-05   \n",
       "3  1352160002000000     41          0         041B0002  2012-11-05   \n",
       "4  1352160002000000     63          0             null  2012-11-05   \n",
       "\n",
       "   VehicleJourneyId BusOperator  Congestion      Long        Lat  Delay  \\\n",
       "0              5826          RD           0 -6.258584  53.340099   -361   \n",
       "1              7267          D2           0 -6.259093  53.345425  -1101   \n",
       "2              6206          D2           0 -6.257329  53.287521   -126   \n",
       "3                61          SL           0 -6.264167  53.453217   -623   \n",
       "4              1116          D2           0 -6.171050  53.259201    292   \n",
       "\n",
       "   BlockId  VehicleId StopId  AtStop              Address  \n",
       "0    15013      33210   4870       0  St. Colmcille's Way  \n",
       "1    46004      36024    794       0         Stop missing  \n",
       "2    14003      33325   1047       0      Beaumont Avenue  \n",
       "3    41008      33631   3874       1            Rolestown  \n",
       "4    63003      33137   3283       0        Enniskerry Rd  "
      ]
     },
     "execution_count": 3,
     "metadata": {},
     "output_type": "execute_result"
    }
   ],
   "source": [
    "df.head()"
   ]
  },
  {
   "cell_type": "code",
   "execution_count": null,
   "metadata": {
    "collapsed": true
   },
   "outputs": [],
   "source": []
  }
 ],
 "metadata": {
  "anaconda-cloud": {},
  "kernelspec": {
   "display_name": "Python [conda root]",
   "language": "python",
   "name": "conda-root-py"
  },
  "language_info": {
   "codemirror_mode": {
    "name": "ipython",
    "version": 3
   },
   "file_extension": ".py",
   "mimetype": "text/x-python",
   "name": "python",
   "nbconvert_exporter": "python",
   "pygments_lexer": "ipython3",
   "version": "3.5.2"
  }
 },
 "nbformat": 4,
 "nbformat_minor": 0
}
