{
 "cells": [
  {
   "cell_type": "markdown",
   "metadata": {
    "collapsed": false
   },
   "source": [
    "# Combine CSV Files Into One Cleaned DataFrame"
   ]
  },
  {
   "cell_type": "code",
   "execution_count": 1,
   "metadata": {
    "collapsed": true
   },
   "outputs": [],
   "source": [
    "import pandas as pd\n",
    "import datetime\n",
    "from geopy.distance import vincenty"
   ]
  },
  {
   "cell_type": "code",
   "execution_count": 2,
   "metadata": {
    "collapsed": false
   },
   "outputs": [],
   "source": [
    "\"\"\" Loop though 3 CSV Files In January (Thursday-08, Friday-09, Saturday-10) and Add Together Into One File \"\"\"\n",
    "\n",
    "# Make main df with first file\n",
    "df = pd.read_csv(\"siri.20121108.csv\", header = None, low_memory = False)\n",
    "df.columns = [\"Timestamp\", \"LineId\", \"Direction\", \"JourneyPatternId\", \"TimeFrame\", \"VehicleJourneyId\", \"BusOperator\", \"Congestion\", \"Long\", \"Lat\", \"Delay\", \"BlockId\", \"VehicleId\", \"StopId\", \"AtStop\"]\n",
    "\n",
    "for i in range(9, 11):\n",
    "    \n",
    "    if i < 10:\n",
    "        i = \"0\" + str(i)\n",
    "    \n",
    "    # Next file to add\n",
    "    file = \"siri.201211\" + str(i) + \".csv\"\n",
    "\n",
    "    # Make DataFrame to add to main df\n",
    "    df_to_add = pd.read_csv(file, header = None, low_memory = False)\n",
    "    df_to_add.columns = [\"Timestamp\", \"LineId\", \"Direction\", \"JourneyPatternId\", \"TimeFrame\", \"VehicleJourneyId\", \"BusOperator\", \"Congestion\", \"Long\", \"Lat\", \"Delay\", \"BlockId\", \"VehicleId\", \"StopId\", \"AtStop\"]\n",
    "\n",
    "    # Combine DataFrames\n",
    "    df = df.append(df_to_add ,ignore_index = True)"
   ]
  },
  {
   "cell_type": "code",
   "execution_count": 3,
   "metadata": {
    "collapsed": false
   },
   "outputs": [
    {
     "data": {
      "text/plain": [
       "(4766421, 15)"
      ]
     },
     "execution_count": 3,
     "metadata": {},
     "output_type": "execute_result"
    }
   ],
   "source": [
    "df.shape"
   ]
  },
  {
   "cell_type": "code",
   "execution_count": 4,
   "metadata": {
    "collapsed": false
   },
   "outputs": [
    {
     "data": {
      "text/html": [
       "<div>\n",
       "<table border=\"1\" class=\"dataframe\">\n",
       "  <thead>\n",
       "    <tr style=\"text-align: right;\">\n",
       "      <th></th>\n",
       "      <th>Timestamp</th>\n",
       "      <th>LineId</th>\n",
       "      <th>Direction</th>\n",
       "      <th>JourneyPatternId</th>\n",
       "      <th>TimeFrame</th>\n",
       "      <th>VehicleJourneyId</th>\n",
       "      <th>BusOperator</th>\n",
       "      <th>Congestion</th>\n",
       "      <th>Long</th>\n",
       "      <th>Lat</th>\n",
       "      <th>Delay</th>\n",
       "      <th>BlockId</th>\n",
       "      <th>VehicleId</th>\n",
       "      <th>StopId</th>\n",
       "      <th>AtStop</th>\n",
       "    </tr>\n",
       "  </thead>\n",
       "  <tbody>\n",
       "    <tr>\n",
       "      <th>0</th>\n",
       "      <td>1352332801000000</td>\n",
       "      <td>39</td>\n",
       "      <td>0</td>\n",
       "      <td>00390002</td>\n",
       "      <td>2012-11-07</td>\n",
       "      <td>3810</td>\n",
       "      <td>PO</td>\n",
       "      <td>0</td>\n",
       "      <td>-6.398326</td>\n",
       "      <td>53.393314</td>\n",
       "      <td>-296</td>\n",
       "      <td>39025</td>\n",
       "      <td>36049</td>\n",
       "      <td>4362</td>\n",
       "      <td>0</td>\n",
       "    </tr>\n",
       "    <tr>\n",
       "      <th>1</th>\n",
       "      <td>1352332801000000</td>\n",
       "      <td>27</td>\n",
       "      <td>0</td>\n",
       "      <td>00270001</td>\n",
       "      <td>2012-11-07</td>\n",
       "      <td>4958</td>\n",
       "      <td>RD</td>\n",
       "      <td>0</td>\n",
       "      <td>-6.393233</td>\n",
       "      <td>53.284412</td>\n",
       "      <td>-879</td>\n",
       "      <td>27014</td>\n",
       "      <td>33230</td>\n",
       "      <td>2622</td>\n",
       "      <td>0</td>\n",
       "    </tr>\n",
       "    <tr>\n",
       "      <th>2</th>\n",
       "      <td>1352332801000000</td>\n",
       "      <td>27</td>\n",
       "      <td>0</td>\n",
       "      <td>077A1001</td>\n",
       "      <td>2012-11-07</td>\n",
       "      <td>4993</td>\n",
       "      <td>RD</td>\n",
       "      <td>0</td>\n",
       "      <td>-6.246746</td>\n",
       "      <td>53.344143</td>\n",
       "      <td>-510</td>\n",
       "      <td>27023</td>\n",
       "      <td>33319</td>\n",
       "      <td>350</td>\n",
       "      <td>0</td>\n",
       "    </tr>\n",
       "    <tr>\n",
       "      <th>3</th>\n",
       "      <td>1352332801000000</td>\n",
       "      <td>76</td>\n",
       "      <td>0</td>\n",
       "      <td>00760001</td>\n",
       "      <td>2012-11-07</td>\n",
       "      <td>4553</td>\n",
       "      <td>CD</td>\n",
       "      <td>0</td>\n",
       "      <td>-6.361800</td>\n",
       "      <td>53.311016</td>\n",
       "      <td>-263</td>\n",
       "      <td>76001</td>\n",
       "      <td>33352</td>\n",
       "      <td>4341</td>\n",
       "      <td>1</td>\n",
       "    </tr>\n",
       "    <tr>\n",
       "      <th>4</th>\n",
       "      <td>1352332801000000</td>\n",
       "      <td>13</td>\n",
       "      <td>0</td>\n",
       "      <td>00131005</td>\n",
       "      <td>2012-11-07</td>\n",
       "      <td>4175</td>\n",
       "      <td>CD</td>\n",
       "      <td>0</td>\n",
       "      <td>-6.279008</td>\n",
       "      <td>53.342808</td>\n",
       "      <td>-156</td>\n",
       "      <td>13003</td>\n",
       "      <td>38063</td>\n",
       "      <td>1998</td>\n",
       "      <td>0</td>\n",
       "    </tr>\n",
       "  </tbody>\n",
       "</table>\n",
       "</div>"
      ],
      "text/plain": [
       "          Timestamp LineId  Direction JourneyPatternId   TimeFrame  \\\n",
       "0  1352332801000000     39          0         00390002  2012-11-07   \n",
       "1  1352332801000000     27          0         00270001  2012-11-07   \n",
       "2  1352332801000000     27          0         077A1001  2012-11-07   \n",
       "3  1352332801000000     76          0         00760001  2012-11-07   \n",
       "4  1352332801000000     13          0         00131005  2012-11-07   \n",
       "\n",
       "   VehicleJourneyId BusOperator  Congestion      Long        Lat  Delay  \\\n",
       "0              3810          PO           0 -6.398326  53.393314   -296   \n",
       "1              4958          RD           0 -6.393233  53.284412   -879   \n",
       "2              4993          RD           0 -6.246746  53.344143   -510   \n",
       "3              4553          CD           0 -6.361800  53.311016   -263   \n",
       "4              4175          CD           0 -6.279008  53.342808   -156   \n",
       "\n",
       "   BlockId  VehicleId StopId  AtStop  \n",
       "0    39025      36049   4362       0  \n",
       "1    27014      33230   2622       0  \n",
       "2    27023      33319    350       0  \n",
       "3    76001      33352   4341       1  \n",
       "4    13003      38063   1998       0  "
      ]
     },
     "execution_count": 4,
     "metadata": {},
     "output_type": "execute_result"
    }
   ],
   "source": [
    "df.head()"
   ]
  },
  {
   "cell_type": "code",
   "execution_count": 5,
   "metadata": {
    "collapsed": true
   },
   "outputs": [],
   "source": [
    "# Constant Column\n",
    "del df[\"Direction\"]"
   ]
  },
  {
   "cell_type": "code",
   "execution_count": 6,
   "metadata": {
    "collapsed": true
   },
   "outputs": [],
   "source": [
    "# Organise the Data\n",
    "df = df.sort_values(['TimeFrame', 'VehicleJourneyId', 'Timestamp'], ascending=True)\n",
    "\n",
    "# Clean up index\n",
    "df = df.reset_index()\n",
    "del df['index']"
   ]
  },
  {
   "cell_type": "code",
   "execution_count": 7,
   "metadata": {
    "collapsed": false
   },
   "outputs": [],
   "source": [
    "df.to_csv(\"raw_data.csv\", index=False)"
   ]
  },
  {
   "cell_type": "markdown",
   "metadata": {},
   "source": [
    "## Clean Up Some Aspects of the Dataframe"
   ]
  },
  {
   "cell_type": "code",
   "execution_count": 13,
   "metadata": {
    "collapsed": true
   },
   "outputs": [],
   "source": [
    "\"\"\" Before each bus begins its journey it may not have a JourneyPatternId and records literal 'null' values instead\n",
    "of actual data. These rows refer to instances where the bus is idle and hasn't moved anywhere, therefore they can \n",
    "confidently be deleted. \"\"\"\n",
    "\n",
    "# Filter out null values\n",
    "df = df[df.JourneyPatternId != 'null']"
   ]
  },
  {
   "cell_type": "code",
   "execution_count": 14,
   "metadata": {
    "collapsed": true
   },
   "outputs": [],
   "source": [
    "# Organise the Data\n",
    "df = df.sort_values(['TimeFrame', 'VehicleJourneyId', 'Timestamp'], ascending=True)\n",
    "\n",
    "# Clean up index\n",
    "df = df.reset_index()\n",
    "del df['index']"
   ]
  },
  {
   "cell_type": "code",
   "execution_count": 15,
   "metadata": {
    "collapsed": false
   },
   "outputs": [
    {
     "data": {
      "text/plain": [
       "(4058710, 14)"
      ]
     },
     "execution_count": 15,
     "metadata": {},
     "output_type": "execute_result"
    }
   ],
   "source": [
    "# Check deletion worked\n",
    "df.shape"
   ]
  },
  {
   "cell_type": "code",
   "execution_count": 11,
   "metadata": {
    "collapsed": true
   },
   "outputs": [],
   "source": [
    "# Drop any duplicated rows\n",
    "df = df.drop_duplicates()"
   ]
  },
  {
   "cell_type": "code",
   "execution_count": 12,
   "metadata": {
    "collapsed": false
   },
   "outputs": [],
   "source": [
    "# Organise the Data\n",
    "df = df.sort_values(['TimeFrame', 'VehicleJourneyId', 'Timestamp'], ascending=True)\n",
    "\n",
    "# Clean up index\n",
    "df = df.reset_index()\n",
    "del df['index']"
   ]
  },
  {
   "cell_type": "code",
   "execution_count": 13,
   "metadata": {
    "collapsed": false
   },
   "outputs": [
    {
     "data": {
      "text/plain": [
       "(4058710, 14)"
      ]
     },
     "execution_count": 13,
     "metadata": {},
     "output_type": "execute_result"
    }
   ],
   "source": [
    "df.shape"
   ]
  },
  {
   "cell_type": "code",
   "execution_count": 16,
   "metadata": {
    "collapsed": true
   },
   "outputs": [],
   "source": [
    "df.to_csv(\"first_stage.csv\", index=False)"
   ]
  },
  {
   "cell_type": "code",
   "execution_count": 17,
   "metadata": {
    "collapsed": false
   },
   "outputs": [
    {
     "data": {
      "text/html": [
       "<div>\n",
       "<table border=\"1\" class=\"dataframe\">\n",
       "  <thead>\n",
       "    <tr style=\"text-align: right;\">\n",
       "      <th></th>\n",
       "      <th>Timestamp</th>\n",
       "      <th>LineId</th>\n",
       "      <th>JourneyPatternId</th>\n",
       "      <th>TimeFrame</th>\n",
       "      <th>VehicleJourneyId</th>\n",
       "      <th>BusOperator</th>\n",
       "      <th>Congestion</th>\n",
       "      <th>Long</th>\n",
       "      <th>Lat</th>\n",
       "      <th>Delay</th>\n",
       "      <th>BlockId</th>\n",
       "      <th>VehicleId</th>\n",
       "      <th>StopId</th>\n",
       "      <th>AtStop</th>\n",
       "    </tr>\n",
       "  </thead>\n",
       "  <tbody>\n",
       "    <tr>\n",
       "      <th>0</th>\n",
       "      <td>1352332811000000</td>\n",
       "      <td>16</td>\n",
       "      <td>00160001</td>\n",
       "      <td>2012-11-07</td>\n",
       "      <td>5591</td>\n",
       "      <td>SL</td>\n",
       "      <td>0</td>\n",
       "      <td>-6.267933</td>\n",
       "      <td>53.356716</td>\n",
       "      <td>-624</td>\n",
       "      <td>16013</td>\n",
       "      <td>24559</td>\n",
       "      <td>2975</td>\n",
       "      <td>1</td>\n",
       "    </tr>\n",
       "    <tr>\n",
       "      <th>1</th>\n",
       "      <td>1352332831000000</td>\n",
       "      <td>16</td>\n",
       "      <td>00160001</td>\n",
       "      <td>2012-11-07</td>\n",
       "      <td>5591</td>\n",
       "      <td>SL</td>\n",
       "      <td>0</td>\n",
       "      <td>-6.265700</td>\n",
       "      <td>53.356167</td>\n",
       "      <td>-624</td>\n",
       "      <td>16013</td>\n",
       "      <td>24559</td>\n",
       "      <td>2975</td>\n",
       "      <td>1</td>\n",
       "    </tr>\n",
       "    <tr>\n",
       "      <th>2</th>\n",
       "      <td>1352332852000000</td>\n",
       "      <td>16</td>\n",
       "      <td>00160001</td>\n",
       "      <td>2012-11-07</td>\n",
       "      <td>5591</td>\n",
       "      <td>SL</td>\n",
       "      <td>0</td>\n",
       "      <td>-6.265717</td>\n",
       "      <td>53.356152</td>\n",
       "      <td>-624</td>\n",
       "      <td>16013</td>\n",
       "      <td>24559</td>\n",
       "      <td>2975</td>\n",
       "      <td>1</td>\n",
       "    </tr>\n",
       "    <tr>\n",
       "      <th>3</th>\n",
       "      <td>1352332874000000</td>\n",
       "      <td>16</td>\n",
       "      <td>00160001</td>\n",
       "      <td>2012-11-07</td>\n",
       "      <td>5591</td>\n",
       "      <td>SL</td>\n",
       "      <td>0</td>\n",
       "      <td>-6.265666</td>\n",
       "      <td>53.356232</td>\n",
       "      <td>-624</td>\n",
       "      <td>16013</td>\n",
       "      <td>24559</td>\n",
       "      <td>2975</td>\n",
       "      <td>1</td>\n",
       "    </tr>\n",
       "    <tr>\n",
       "      <th>4</th>\n",
       "      <td>1352332892000000</td>\n",
       "      <td>16</td>\n",
       "      <td>00160001</td>\n",
       "      <td>2012-11-07</td>\n",
       "      <td>5591</td>\n",
       "      <td>SL</td>\n",
       "      <td>0</td>\n",
       "      <td>-6.265200</td>\n",
       "      <td>53.356033</td>\n",
       "      <td>-624</td>\n",
       "      <td>16013</td>\n",
       "      <td>24559</td>\n",
       "      <td>2975</td>\n",
       "      <td>1</td>\n",
       "    </tr>\n",
       "  </tbody>\n",
       "</table>\n",
       "</div>"
      ],
      "text/plain": [
       "          Timestamp LineId JourneyPatternId   TimeFrame  VehicleJourneyId  \\\n",
       "0  1352332811000000     16         00160001  2012-11-07              5591   \n",
       "1  1352332831000000     16         00160001  2012-11-07              5591   \n",
       "2  1352332852000000     16         00160001  2012-11-07              5591   \n",
       "3  1352332874000000     16         00160001  2012-11-07              5591   \n",
       "4  1352332892000000     16         00160001  2012-11-07              5591   \n",
       "\n",
       "  BusOperator  Congestion      Long        Lat  Delay  BlockId  VehicleId  \\\n",
       "0          SL           0 -6.267933  53.356716   -624    16013      24559   \n",
       "1          SL           0 -6.265700  53.356167   -624    16013      24559   \n",
       "2          SL           0 -6.265717  53.356152   -624    16013      24559   \n",
       "3          SL           0 -6.265666  53.356232   -624    16013      24559   \n",
       "4          SL           0 -6.265200  53.356033   -624    16013      24559   \n",
       "\n",
       "  StopId  AtStop  \n",
       "0   2975       1  \n",
       "1   2975       1  \n",
       "2   2975       1  \n",
       "3   2975       1  \n",
       "4   2975       1  "
      ]
     },
     "execution_count": 17,
     "metadata": {},
     "output_type": "execute_result"
    }
   ],
   "source": [
    "df.head()"
   ]
  },
  {
   "cell_type": "code",
   "execution_count": 14,
   "metadata": {
    "collapsed": false
   },
   "outputs": [],
   "source": [
    "\"\"\" When a bus driver starts their journey the GPS sends out loads of information before the bus even starts moving.\n",
    "The cell will delete all information before the bus driver leaves their initial position. It is important to filter by GPS \n",
    "specifically.\"\"\"\n",
    "\n",
    "df = df.drop_duplicates([\"TimeFrame\", \"VehicleJourneyId\", \"Long\", \"Lat\"], keep='last')"
   ]
  },
  {
   "cell_type": "code",
   "execution_count": 15,
   "metadata": {
    "collapsed": true
   },
   "outputs": [],
   "source": [
    "\"\"\" Data from the 7th is not reliable, since some journey's continued from the previous day, we must remove it. \"\"\"\n",
    "\n",
    "df = df[df.TimeFrame != '2012-11-07']"
   ]
  },
  {
   "cell_type": "code",
   "execution_count": 16,
   "metadata": {
    "collapsed": false
   },
   "outputs": [
    {
     "data": {
      "text/plain": [
       "(3151013, 14)"
      ]
     },
     "execution_count": 16,
     "metadata": {},
     "output_type": "execute_result"
    }
   ],
   "source": [
    "# Check deletion worked\n",
    "df.shape"
   ]
  },
  {
   "cell_type": "code",
   "execution_count": 17,
   "metadata": {
    "collapsed": true
   },
   "outputs": [],
   "source": [
    "# Organise the Data\n",
    "df = df.sort_values(['TimeFrame', 'VehicleJourneyId', 'Timestamp'], ascending=True)\n",
    "\n",
    "# Clean up index\n",
    "df = df.reset_index()\n",
    "del df['index']"
   ]
  },
  {
   "cell_type": "code",
   "execution_count": 18,
   "metadata": {
    "collapsed": false
   },
   "outputs": [],
   "source": [
    "df.to_csv(\"second_stage.csv\", index=False)"
   ]
  },
  {
   "cell_type": "code",
   "execution_count": 20,
   "metadata": {
    "collapsed": false
   },
   "outputs": [
    {
     "data": {
      "text/html": [
       "<div>\n",
       "<table border=\"1\" class=\"dataframe\">\n",
       "  <thead>\n",
       "    <tr style=\"text-align: right;\">\n",
       "      <th></th>\n",
       "      <th>Timestamp</th>\n",
       "      <th>LineId</th>\n",
       "      <th>JourneyPatternId</th>\n",
       "      <th>TimeFrame</th>\n",
       "      <th>VehicleJourneyId</th>\n",
       "      <th>BusOperator</th>\n",
       "      <th>Congestion</th>\n",
       "      <th>Long</th>\n",
       "      <th>Lat</th>\n",
       "      <th>Delay</th>\n",
       "      <th>BlockId</th>\n",
       "      <th>VehicleId</th>\n",
       "      <th>StopId</th>\n",
       "      <th>AtStop</th>\n",
       "    </tr>\n",
       "  </thead>\n",
       "  <tbody>\n",
       "    <tr>\n",
       "      <th>0</th>\n",
       "      <td>1352391493000000</td>\n",
       "      <td>331</td>\n",
       "      <td>033A1002</td>\n",
       "      <td>2012-11-08</td>\n",
       "      <td>1</td>\n",
       "      <td>SL</td>\n",
       "      <td>0</td>\n",
       "      <td>-6.129196</td>\n",
       "      <td>53.579613</td>\n",
       "      <td>43</td>\n",
       "      <td>33001</td>\n",
       "      <td>43051</td>\n",
       "      <td>3816</td>\n",
       "      <td>0</td>\n",
       "    </tr>\n",
       "    <tr>\n",
       "      <th>1</th>\n",
       "      <td>1352391513000000</td>\n",
       "      <td>331</td>\n",
       "      <td>033A1002</td>\n",
       "      <td>2012-11-08</td>\n",
       "      <td>1</td>\n",
       "      <td>SL</td>\n",
       "      <td>0</td>\n",
       "      <td>-6.126715</td>\n",
       "      <td>53.578770</td>\n",
       "      <td>43</td>\n",
       "      <td>33001</td>\n",
       "      <td>43051</td>\n",
       "      <td>3816</td>\n",
       "      <td>0</td>\n",
       "    </tr>\n",
       "    <tr>\n",
       "      <th>2</th>\n",
       "      <td>1352391536000000</td>\n",
       "      <td>331</td>\n",
       "      <td>033A1002</td>\n",
       "      <td>2012-11-08</td>\n",
       "      <td>1</td>\n",
       "      <td>SL</td>\n",
       "      <td>0</td>\n",
       "      <td>-6.123891</td>\n",
       "      <td>53.577511</td>\n",
       "      <td>63</td>\n",
       "      <td>33001</td>\n",
       "      <td>43051</td>\n",
       "      <td>3566</td>\n",
       "      <td>0</td>\n",
       "    </tr>\n",
       "    <tr>\n",
       "      <th>3</th>\n",
       "      <td>1352391554000000</td>\n",
       "      <td>331</td>\n",
       "      <td>033A1002</td>\n",
       "      <td>2012-11-08</td>\n",
       "      <td>1</td>\n",
       "      <td>SL</td>\n",
       "      <td>0</td>\n",
       "      <td>-6.120842</td>\n",
       "      <td>53.576439</td>\n",
       "      <td>63</td>\n",
       "      <td>33001</td>\n",
       "      <td>43051</td>\n",
       "      <td>3566</td>\n",
       "      <td>0</td>\n",
       "    </tr>\n",
       "    <tr>\n",
       "      <th>4</th>\n",
       "      <td>1352391573000000</td>\n",
       "      <td>331</td>\n",
       "      <td>033A1002</td>\n",
       "      <td>2012-11-08</td>\n",
       "      <td>1</td>\n",
       "      <td>SL</td>\n",
       "      <td>0</td>\n",
       "      <td>-6.117958</td>\n",
       "      <td>53.575871</td>\n",
       "      <td>82</td>\n",
       "      <td>33001</td>\n",
       "      <td>43051</td>\n",
       "      <td>3567</td>\n",
       "      <td>0</td>\n",
       "    </tr>\n",
       "  </tbody>\n",
       "</table>\n",
       "</div>"
      ],
      "text/plain": [
       "          Timestamp LineId JourneyPatternId   TimeFrame  VehicleJourneyId  \\\n",
       "0  1352391493000000    331         033A1002  2012-11-08                 1   \n",
       "1  1352391513000000    331         033A1002  2012-11-08                 1   \n",
       "2  1352391536000000    331         033A1002  2012-11-08                 1   \n",
       "3  1352391554000000    331         033A1002  2012-11-08                 1   \n",
       "4  1352391573000000    331         033A1002  2012-11-08                 1   \n",
       "\n",
       "  BusOperator  Congestion      Long        Lat  Delay  BlockId  VehicleId  \\\n",
       "0          SL           0 -6.129196  53.579613     43    33001      43051   \n",
       "1          SL           0 -6.126715  53.578770     43    33001      43051   \n",
       "2          SL           0 -6.123891  53.577511     63    33001      43051   \n",
       "3          SL           0 -6.120842  53.576439     63    33001      43051   \n",
       "4          SL           0 -6.117958  53.575871     82    33001      43051   \n",
       "\n",
       "  StopId  AtStop  \n",
       "0   3816       0  \n",
       "1   3816       0  \n",
       "2   3566       0  \n",
       "3   3566       0  \n",
       "4   3567       0  "
      ]
     },
     "execution_count": 20,
     "metadata": {},
     "output_type": "execute_result"
    }
   ],
   "source": [
    "df.head()"
   ]
  },
  {
   "cell_type": "code",
   "execution_count": 21,
   "metadata": {
    "collapsed": false
   },
   "outputs": [
    {
     "data": {
      "text/plain": [
       "(3151013, 14)"
      ]
     },
     "execution_count": 21,
     "metadata": {},
     "output_type": "execute_result"
    }
   ],
   "source": [
    "df.shape"
   ]
  },
  {
   "cell_type": "code",
   "execution_count": 22,
   "metadata": {
    "collapsed": true
   },
   "outputs": [],
   "source": [
    "\"\"\" Some journeys do not register initial stop, we change atStop == 1 when this happens\n",
    "for the first TimeStamp in each VehicleJourneyId. \"\"\"\n",
    "\n",
    "for item, row in df.iterrows():\n",
    "    \n",
    "    if item == 0:\n",
    "        lastid = row[4]\n",
    "        df.set_value(item, 'AtStop', 1)\n",
    "        continue\n",
    "        \n",
    "    currentid = row[4]\n",
    "    \n",
    "    if currentid != lastid:\n",
    "        df.set_value(item, 'AtStop', 1)\n",
    "        lastid = currentid"
   ]
  },
  {
   "cell_type": "code",
   "execution_count": 23,
   "metadata": {
    "collapsed": true
   },
   "outputs": [],
   "source": [
    "# Organise the Data\n",
    "df = df.sort_values(['TimeFrame', 'VehicleJourneyId', 'Timestamp'], ascending=True)\n",
    "\n",
    "# Clean up index\n",
    "df = df.reset_index()\n",
    "del df['index']"
   ]
  },
  {
   "cell_type": "code",
   "execution_count": 25,
   "metadata": {
    "collapsed": false
   },
   "outputs": [
    {
     "data": {
      "text/plain": [
       "(3151013, 14)"
      ]
     },
     "execution_count": 25,
     "metadata": {},
     "output_type": "execute_result"
    }
   ],
   "source": [
    "df.shape"
   ]
  },
  {
   "cell_type": "code",
   "execution_count": 26,
   "metadata": {
    "collapsed": true
   },
   "outputs": [],
   "source": [
    "df.to_csv(\"third_stage.csv\", index=False)"
   ]
  },
  {
   "cell_type": "code",
   "execution_count": 27,
   "metadata": {
    "collapsed": true
   },
   "outputs": [],
   "source": [
    "\"\"\" When the bus moves at the start, if it is staying at it's stop then clear up the data until it leaves the stop. \"\"\"\n",
    "\n",
    "for item, row in df.iterrows():\n",
    "    \n",
    "    # For the first iteration\n",
    "    if item == 0:\n",
    "        last_bus_id = row[4]\n",
    "        last_at_stop = row[13]\n",
    "        new_start = True\n",
    "    \n",
    "    # For every iteration\n",
    "    current_bus_id = row[4]\n",
    "    current_at_stop = row[13]\n",
    "    \n",
    "    # If it's left the terminal\n",
    "    if current_at_stop == 0:\n",
    "        new_start = False\n",
    "    \n",
    "    # If it's staying in the terminal\n",
    "    if current_at_stop == 1 and last_at_stop == 1:\n",
    "        if new_start:\n",
    "            df.set_value(item - 1, \"VehicleJourneyId\", 0)\n",
    "            \n",
    "    # If it's a new bus\n",
    "    if current_bus_id != last_bus_id:\n",
    "        new_start = True\n",
    "        last_bus_id = row[4]\n",
    "        last_at_stop = row[13]"
   ]
  },
  {
   "cell_type": "code",
   "execution_count": 28,
   "metadata": {
    "collapsed": true
   },
   "outputs": [],
   "source": [
    "# Filter Out Rows\n",
    "df = df[df.VehicleJourneyId != 0]"
   ]
  },
  {
   "cell_type": "code",
   "execution_count": 29,
   "metadata": {
    "collapsed": false
   },
   "outputs": [
    {
     "data": {
      "text/plain": [
       "(3131087, 14)"
      ]
     },
     "execution_count": 29,
     "metadata": {},
     "output_type": "execute_result"
    }
   ],
   "source": [
    "# Check\n",
    "df.shape"
   ]
  },
  {
   "cell_type": "code",
   "execution_count": 30,
   "metadata": {
    "collapsed": true
   },
   "outputs": [],
   "source": [
    "# Organise the Data\n",
    "df = df.sort_values(['TimeFrame', 'VehicleJourneyId', 'Timestamp'], ascending=True)\n",
    "\n",
    "# Clean up index\n",
    "df = df.reset_index()\n",
    "del df['index']"
   ]
  },
  {
   "cell_type": "code",
   "execution_count": 32,
   "metadata": {
    "collapsed": false
   },
   "outputs": [],
   "source": [
    "df.to_csv(\"fourth_stage.csv\", index=False)"
   ]
  },
  {
   "cell_type": "code",
   "execution_count": 33,
   "metadata": {
    "collapsed": true
   },
   "outputs": [],
   "source": [
    "\"\"\" Many VehicleJourneyId's have only one row, therefore they tell us nothing useful. These rows can confidently be deleted. \"\"\"\n",
    "\n",
    "\"\"\" Note: I'm not sure this is necessary? Or maybe it just doesn't work? \"\"\"\n",
    "\n",
    "count = 0\n",
    "\n",
    "for item, row in df.iterrows():\n",
    "    \n",
    "    if item == 0:\n",
    "        last = row[4]\n",
    "        count += 1\n",
    "        continue\n",
    "            \n",
    "    current = row[4]\n",
    "    \n",
    "    if current == last:\n",
    "        last = current\n",
    "        count += 1\n",
    "        continue\n",
    "        \n",
    "    if current != last:\n",
    "        if count == 1:\n",
    "            # This is a placeholder to delete after (this is the fastest way to delete the rows)\n",
    "            df.set_value(item - 1, \"VehicleJourneyId\", 0)\n",
    "        count = 1\n",
    "        last = current"
   ]
  },
  {
   "cell_type": "code",
   "execution_count": 34,
   "metadata": {
    "collapsed": true
   },
   "outputs": [],
   "source": [
    "# Filter Out Rows\n",
    "df = df[df.VehicleJourneyId != 0]"
   ]
  },
  {
   "cell_type": "code",
   "execution_count": 35,
   "metadata": {
    "collapsed": false
   },
   "outputs": [],
   "source": [
    "# Organise the Data\n",
    "df = df.sort_values(['TimeFrame', 'VehicleJourneyId', 'Timestamp'], ascending=True)\n",
    "\n",
    "# Clean up index\n",
    "df = df.reset_index()\n",
    "del df['index']"
   ]
  },
  {
   "cell_type": "code",
   "execution_count": 36,
   "metadata": {
    "collapsed": false
   },
   "outputs": [
    {
     "data": {
      "text/plain": [
       "(3131087, 14)"
      ]
     },
     "execution_count": 36,
     "metadata": {},
     "output_type": "execute_result"
    }
   ],
   "source": [
    "df.shape"
   ]
  },
  {
   "cell_type": "code",
   "execution_count": 40,
   "metadata": {
    "collapsed": false
   },
   "outputs": [
    {
     "data": {
      "text/html": [
       "<div>\n",
       "<table border=\"1\" class=\"dataframe\">\n",
       "  <thead>\n",
       "    <tr style=\"text-align: right;\">\n",
       "      <th></th>\n",
       "      <th>Timestamp</th>\n",
       "      <th>LineId</th>\n",
       "      <th>JourneyPatternId</th>\n",
       "      <th>TimeFrame</th>\n",
       "      <th>VehicleJourneyId</th>\n",
       "      <th>BusOperator</th>\n",
       "      <th>Congestion</th>\n",
       "      <th>Long</th>\n",
       "      <th>Lat</th>\n",
       "      <th>Delay</th>\n",
       "      <th>BlockId</th>\n",
       "      <th>VehicleId</th>\n",
       "      <th>StopId</th>\n",
       "      <th>AtStop</th>\n",
       "    </tr>\n",
       "  </thead>\n",
       "  <tbody>\n",
       "    <tr>\n",
       "      <th>0</th>\n",
       "      <td>1.352391e+15</td>\n",
       "      <td>331</td>\n",
       "      <td>033A1002</td>\n",
       "      <td>2012-11-08</td>\n",
       "      <td>1.0</td>\n",
       "      <td>SL</td>\n",
       "      <td>0.0</td>\n",
       "      <td>-6.129196</td>\n",
       "      <td>53.579613</td>\n",
       "      <td>43.0</td>\n",
       "      <td>33001.0</td>\n",
       "      <td>43051.0</td>\n",
       "      <td>3816</td>\n",
       "      <td>1.0</td>\n",
       "    </tr>\n",
       "    <tr>\n",
       "      <th>1</th>\n",
       "      <td>1.352392e+15</td>\n",
       "      <td>331</td>\n",
       "      <td>033A1002</td>\n",
       "      <td>2012-11-08</td>\n",
       "      <td>1.0</td>\n",
       "      <td>SL</td>\n",
       "      <td>0.0</td>\n",
       "      <td>-6.126715</td>\n",
       "      <td>53.578770</td>\n",
       "      <td>43.0</td>\n",
       "      <td>33001.0</td>\n",
       "      <td>43051.0</td>\n",
       "      <td>3816</td>\n",
       "      <td>0.0</td>\n",
       "    </tr>\n",
       "    <tr>\n",
       "      <th>2</th>\n",
       "      <td>1.352392e+15</td>\n",
       "      <td>331</td>\n",
       "      <td>033A1002</td>\n",
       "      <td>2012-11-08</td>\n",
       "      <td>1.0</td>\n",
       "      <td>SL</td>\n",
       "      <td>0.0</td>\n",
       "      <td>-6.123891</td>\n",
       "      <td>53.577511</td>\n",
       "      <td>63.0</td>\n",
       "      <td>33001.0</td>\n",
       "      <td>43051.0</td>\n",
       "      <td>3566</td>\n",
       "      <td>0.0</td>\n",
       "    </tr>\n",
       "    <tr>\n",
       "      <th>3</th>\n",
       "      <td>1.352392e+15</td>\n",
       "      <td>331</td>\n",
       "      <td>033A1002</td>\n",
       "      <td>2012-11-08</td>\n",
       "      <td>1.0</td>\n",
       "      <td>SL</td>\n",
       "      <td>0.0</td>\n",
       "      <td>-6.120842</td>\n",
       "      <td>53.576439</td>\n",
       "      <td>63.0</td>\n",
       "      <td>33001.0</td>\n",
       "      <td>43051.0</td>\n",
       "      <td>3566</td>\n",
       "      <td>0.0</td>\n",
       "    </tr>\n",
       "    <tr>\n",
       "      <th>4</th>\n",
       "      <td>1.352392e+15</td>\n",
       "      <td>331</td>\n",
       "      <td>033A1002</td>\n",
       "      <td>2012-11-08</td>\n",
       "      <td>1.0</td>\n",
       "      <td>SL</td>\n",
       "      <td>0.0</td>\n",
       "      <td>-6.117958</td>\n",
       "      <td>53.575871</td>\n",
       "      <td>82.0</td>\n",
       "      <td>33001.0</td>\n",
       "      <td>43051.0</td>\n",
       "      <td>3567</td>\n",
       "      <td>0.0</td>\n",
       "    </tr>\n",
       "  </tbody>\n",
       "</table>\n",
       "</div>"
      ],
      "text/plain": [
       "      Timestamp LineId JourneyPatternId   TimeFrame  VehicleJourneyId  \\\n",
       "0  1.352391e+15    331         033A1002  2012-11-08               1.0   \n",
       "1  1.352392e+15    331         033A1002  2012-11-08               1.0   \n",
       "2  1.352392e+15    331         033A1002  2012-11-08               1.0   \n",
       "3  1.352392e+15    331         033A1002  2012-11-08               1.0   \n",
       "4  1.352392e+15    331         033A1002  2012-11-08               1.0   \n",
       "\n",
       "  BusOperator  Congestion      Long        Lat  Delay  BlockId  VehicleId  \\\n",
       "0          SL         0.0 -6.129196  53.579613   43.0  33001.0    43051.0   \n",
       "1          SL         0.0 -6.126715  53.578770   43.0  33001.0    43051.0   \n",
       "2          SL         0.0 -6.123891  53.577511   63.0  33001.0    43051.0   \n",
       "3          SL         0.0 -6.120842  53.576439   63.0  33001.0    43051.0   \n",
       "4          SL         0.0 -6.117958  53.575871   82.0  33001.0    43051.0   \n",
       "\n",
       "  StopId  AtStop  \n",
       "0   3816     1.0  \n",
       "1   3816     0.0  \n",
       "2   3566     0.0  \n",
       "3   3566     0.0  \n",
       "4   3567     0.0  "
      ]
     },
     "execution_count": 40,
     "metadata": {},
     "output_type": "execute_result"
    }
   ],
   "source": [
    "# Check that the last entry isn't a unique Vehicle Journey ID because the previous loop will have missed it\n",
    "df.head()"
   ]
  },
  {
   "cell_type": "code",
   "execution_count": 41,
   "metadata": {
    "collapsed": true
   },
   "outputs": [],
   "source": [
    "df.to_csv(\"fifth_stage.csv\", index=False)"
   ]
  },
  {
   "cell_type": "markdown",
   "metadata": {},
   "source": [
    "## Add Distance Feature"
   ]
  },
  {
   "cell_type": "markdown",
   "metadata": {},
   "source": [
    "Before removing all information in the CSV where the feature AtStop == 0 we must first measure the distance on each route. This requires that we use all rows of data. \n",
    "\n",
    "In order to cut down the time of this loop (which will be costly) first delete all rows which have a literal 'null' value for JourneyPatternId, clean up the noise before each bus journey and finally remove all unique values for VehicleJourneyId. This will significantly reduce the size of the dataframe and the subsequent loop below."
   ]
  },
  {
   "cell_type": "code",
   "execution_count": 42,
   "metadata": {
    "collapsed": true
   },
   "outputs": [],
   "source": [
    "def get_distance(lat1, long1, lat2, long2):\n",
    "    \"\"\" Get distance between two geo coordinates \"\"\"\n",
    "    \n",
    "    stop1 = (lat1, long1)\n",
    "    stop2 = (lat2, long2)\n",
    "    \n",
    "    return vincenty(stop1, stop2).meters"
   ]
  },
  {
   "cell_type": "code",
   "execution_count": 43,
   "metadata": {
    "collapsed": false
   },
   "outputs": [],
   "source": [
    "# List to hold feature\n",
    "distance = list()\n",
    "\n",
    "for item, row in df.iterrows():\n",
    "    \n",
    "    # Set up values on first iteration\n",
    "    if item == 0:\n",
    "        last_lat = row[8]\n",
    "        last_long = row[7]\n",
    "        last_id = row[4]\n",
    "        last_distance = 0\n",
    "        \n",
    "        distance.append(0)\n",
    "        continue\n",
    "    \n",
    "    current_id = row[4]\n",
    "    current_lat = row[8]\n",
    "    current_long = row[7]\n",
    "    current_distance = get_distance(current_lat, current_long, last_lat, last_long)\n",
    "    \n",
    "    # If it's a new Journey ID\n",
    "    if current_id != last_id:\n",
    "        last_id = row[4]\n",
    "        last_lat = row[8]\n",
    "        last_long = row[7]\n",
    "        last_distance = 0\n",
    "        \n",
    "        distance.append(0)\n",
    "        continue\n",
    "     \n",
    "    # If it's not a new Journey ID\n",
    "    current_distance = get_distance(current_lat, current_long, last_lat, last_long)\n",
    "    distance.append(last_distance + current_distance)\n",
    "    \n",
    "    last_distance = distance[-1]\n",
    "    last_lat = row[8]\n",
    "    last_long = row[7]\n",
    "    last_id = row[4]"
   ]
  },
  {
   "cell_type": "code",
   "execution_count": 44,
   "metadata": {
    "collapsed": false
   },
   "outputs": [],
   "source": [
    "df[\"Distance\"] = distance"
   ]
  },
  {
   "cell_type": "code",
   "execution_count": 48,
   "metadata": {
    "collapsed": false
   },
   "outputs": [
    {
     "data": {
      "text/html": [
       "<div>\n",
       "<table border=\"1\" class=\"dataframe\">\n",
       "  <thead>\n",
       "    <tr style=\"text-align: right;\">\n",
       "      <th></th>\n",
       "      <th>Timestamp</th>\n",
       "      <th>LineId</th>\n",
       "      <th>JourneyPatternId</th>\n",
       "      <th>TimeFrame</th>\n",
       "      <th>VehicleJourneyId</th>\n",
       "      <th>BusOperator</th>\n",
       "      <th>Congestion</th>\n",
       "      <th>Long</th>\n",
       "      <th>Lat</th>\n",
       "      <th>Delay</th>\n",
       "      <th>BlockId</th>\n",
       "      <th>VehicleId</th>\n",
       "      <th>StopId</th>\n",
       "      <th>AtStop</th>\n",
       "      <th>Distance</th>\n",
       "    </tr>\n",
       "  </thead>\n",
       "  <tbody>\n",
       "    <tr>\n",
       "      <th>0</th>\n",
       "      <td>1.352391e+15</td>\n",
       "      <td>331</td>\n",
       "      <td>033A1002</td>\n",
       "      <td>2012-11-08</td>\n",
       "      <td>1.0</td>\n",
       "      <td>SL</td>\n",
       "      <td>0.0</td>\n",
       "      <td>-6.129196</td>\n",
       "      <td>53.579613</td>\n",
       "      <td>43.0</td>\n",
       "      <td>33001.0</td>\n",
       "      <td>43051.0</td>\n",
       "      <td>3816</td>\n",
       "      <td>1.0</td>\n",
       "      <td>0.000000</td>\n",
       "    </tr>\n",
       "    <tr>\n",
       "      <th>1</th>\n",
       "      <td>1.352392e+15</td>\n",
       "      <td>331</td>\n",
       "      <td>033A1002</td>\n",
       "      <td>2012-11-08</td>\n",
       "      <td>1.0</td>\n",
       "      <td>SL</td>\n",
       "      <td>0.0</td>\n",
       "      <td>-6.126715</td>\n",
       "      <td>53.578770</td>\n",
       "      <td>43.0</td>\n",
       "      <td>33001.0</td>\n",
       "      <td>43051.0</td>\n",
       "      <td>3816</td>\n",
       "      <td>0.0</td>\n",
       "      <td>189.227778</td>\n",
       "    </tr>\n",
       "    <tr>\n",
       "      <th>2</th>\n",
       "      <td>1.352392e+15</td>\n",
       "      <td>331</td>\n",
       "      <td>033A1002</td>\n",
       "      <td>2012-11-08</td>\n",
       "      <td>1.0</td>\n",
       "      <td>SL</td>\n",
       "      <td>0.0</td>\n",
       "      <td>-6.123891</td>\n",
       "      <td>53.577511</td>\n",
       "      <td>63.0</td>\n",
       "      <td>33001.0</td>\n",
       "      <td>43051.0</td>\n",
       "      <td>3566</td>\n",
       "      <td>0.0</td>\n",
       "      <td>422.944242</td>\n",
       "    </tr>\n",
       "    <tr>\n",
       "      <th>3</th>\n",
       "      <td>1.352392e+15</td>\n",
       "      <td>331</td>\n",
       "      <td>033A1002</td>\n",
       "      <td>2012-11-08</td>\n",
       "      <td>1.0</td>\n",
       "      <td>SL</td>\n",
       "      <td>0.0</td>\n",
       "      <td>-6.120842</td>\n",
       "      <td>53.576439</td>\n",
       "      <td>63.0</td>\n",
       "      <td>33001.0</td>\n",
       "      <td>43051.0</td>\n",
       "      <td>3566</td>\n",
       "      <td>0.0</td>\n",
       "      <td>657.515516</td>\n",
       "    </tr>\n",
       "    <tr>\n",
       "      <th>4</th>\n",
       "      <td>1.352392e+15</td>\n",
       "      <td>331</td>\n",
       "      <td>033A1002</td>\n",
       "      <td>2012-11-08</td>\n",
       "      <td>1.0</td>\n",
       "      <td>SL</td>\n",
       "      <td>0.0</td>\n",
       "      <td>-6.117958</td>\n",
       "      <td>53.575871</td>\n",
       "      <td>82.0</td>\n",
       "      <td>33001.0</td>\n",
       "      <td>43051.0</td>\n",
       "      <td>3567</td>\n",
       "      <td>0.0</td>\n",
       "      <td>858.739919</td>\n",
       "    </tr>\n",
       "  </tbody>\n",
       "</table>\n",
       "</div>"
      ],
      "text/plain": [
       "      Timestamp LineId JourneyPatternId   TimeFrame  VehicleJourneyId  \\\n",
       "0  1.352391e+15    331         033A1002  2012-11-08               1.0   \n",
       "1  1.352392e+15    331         033A1002  2012-11-08               1.0   \n",
       "2  1.352392e+15    331         033A1002  2012-11-08               1.0   \n",
       "3  1.352392e+15    331         033A1002  2012-11-08               1.0   \n",
       "4  1.352392e+15    331         033A1002  2012-11-08               1.0   \n",
       "\n",
       "  BusOperator  Congestion      Long        Lat  Delay  BlockId  VehicleId  \\\n",
       "0          SL         0.0 -6.129196  53.579613   43.0  33001.0    43051.0   \n",
       "1          SL         0.0 -6.126715  53.578770   43.0  33001.0    43051.0   \n",
       "2          SL         0.0 -6.123891  53.577511   63.0  33001.0    43051.0   \n",
       "3          SL         0.0 -6.120842  53.576439   63.0  33001.0    43051.0   \n",
       "4          SL         0.0 -6.117958  53.575871   82.0  33001.0    43051.0   \n",
       "\n",
       "  StopId  AtStop    Distance  \n",
       "0   3816     1.0    0.000000  \n",
       "1   3816     0.0  189.227778  \n",
       "2   3566     0.0  422.944242  \n",
       "3   3566     0.0  657.515516  \n",
       "4   3567     0.0  858.739919  "
      ]
     },
     "execution_count": 48,
     "metadata": {},
     "output_type": "execute_result"
    }
   ],
   "source": [
    "df.head()"
   ]
  },
  {
   "cell_type": "code",
   "execution_count": 49,
   "metadata": {
    "collapsed": true
   },
   "outputs": [],
   "source": [
    "df.to_csv(\"sixth_stage.csv\", index=False)"
   ]
  },
  {
   "cell_type": "code",
   "execution_count": 56,
   "metadata": {
    "collapsed": true
   },
   "outputs": [],
   "source": [
    "df = pd.read_csv(\"sixth_stage.csv\", low_memory=False)"
   ]
  },
  {
   "cell_type": "markdown",
   "metadata": {},
   "source": [
    "## Change Unix Timestamp to Human Readable Format"
   ]
  },
  {
   "cell_type": "code",
   "execution_count": 60,
   "metadata": {
    "collapsed": false
   },
   "outputs": [],
   "source": [
    "# Change date in bus file to be in standard format instead of unix milliseconds (1:45 mins)\n",
    "for index, row in df.iterrows():\n",
    "\n",
    "    x = row[0]/1000000\n",
    "    df.set_value(index, 'Timestamp', x) "
   ]
  },
  {
   "cell_type": "code",
   "execution_count": 62,
   "metadata": {
    "collapsed": false
   },
   "outputs": [],
   "source": [
    "# For formatting later\n",
    "df['Timestamp'] = df['Timestamp'].apply(str)"
   ]
  },
  {
   "cell_type": "code",
   "execution_count": 64,
   "metadata": {
    "collapsed": false
   },
   "outputs": [],
   "source": [
    "# Change format of date \n",
    "for index, row in df.iterrows():\n",
    "\n",
    "    ts = int(row[0])\n",
    "    x = datetime.datetime.fromtimestamp(ts).strftime('%Y-%m-%d %H:%M:%S')\n",
    "    df.set_value(index, 'Timestamp', str(x))"
   ]
  },
  {
   "cell_type": "code",
   "execution_count": 65,
   "metadata": {
    "collapsed": false
   },
   "outputs": [],
   "source": [
    "# Change Features To Correct Types\n",
    "df['Timestamp'] =  pd.to_datetime(df['Timestamp'], format='%Y-%m-%d %H:%M:%S')\n",
    "df[\"LineId\"] = df[\"LineId\"].astype(\"category\")\n",
    "df[\"JourneyPatternId\"] = df[\"JourneyPatternId\"].astype(\"category\")\n",
    "df[\"TimeFrame\"] = df[\"TimeFrame\"].astype(\"category\")\n",
    "df[\"VehicleJourneyId\"] = df[\"VehicleJourneyId\"].astype(\"category\")\n",
    "df[\"Congestion\"] = df[\"Congestion\"].astype(\"category\")\n",
    "df[\"BlockId\"] = df[\"BlockId\"].astype(\"category\")\n",
    "df[\"StopId\"] = df[\"StopId\"].astype(\"category\")\n",
    "df[\"BusOperator\"] = df[\"BusOperator\"].astype(\"category\")\n",
    "df[\"VehicleId\"] = df[\"VehicleId\"].astype(\"category\")"
   ]
  },
  {
   "cell_type": "code",
   "execution_count": 66,
   "metadata": {
    "collapsed": false
   },
   "outputs": [
    {
     "data": {
      "text/plain": [
       "Timestamp           datetime64[ns]\n",
       "LineId                    category\n",
       "JourneyPatternId          category\n",
       "TimeFrame                 category\n",
       "VehicleJourneyId          category\n",
       "BusOperator               category\n",
       "Congestion                category\n",
       "Long                       float64\n",
       "Lat                        float64\n",
       "Delay                      float64\n",
       "BlockId                   category\n",
       "VehicleId                 category\n",
       "StopId                    category\n",
       "AtStop                     float64\n",
       "Distance                   float64\n",
       "dtype: object"
      ]
     },
     "execution_count": 66,
     "metadata": {},
     "output_type": "execute_result"
    }
   ],
   "source": [
    "df.dtypes"
   ]
  },
  {
   "cell_type": "code",
   "execution_count": 67,
   "metadata": {
    "collapsed": false
   },
   "outputs": [],
   "source": [
    "# Organise the Data\n",
    "df = df.sort_values(['TimeFrame', 'VehicleJourneyId', 'Timestamp'], ascending=True)"
   ]
  },
  {
   "cell_type": "code",
   "execution_count": 68,
   "metadata": {
    "collapsed": true
   },
   "outputs": [],
   "source": [
    "# Clean up index\n",
    "df = df.reset_index()\n",
    "del df['index']"
   ]
  },
  {
   "cell_type": "code",
   "execution_count": 69,
   "metadata": {
    "collapsed": false
   },
   "outputs": [
    {
     "data": {
      "text/plain": [
       "(3131087, 15)"
      ]
     },
     "execution_count": 69,
     "metadata": {},
     "output_type": "execute_result"
    }
   ],
   "source": [
    "df.shape"
   ]
  },
  {
   "cell_type": "code",
   "execution_count": 70,
   "metadata": {
    "collapsed": true
   },
   "outputs": [],
   "source": [
    "df.to_csv(\"seventh_stage.csv\", index=False)"
   ]
  },
  {
   "cell_type": "markdown",
   "metadata": {},
   "source": [
    "## Remove AtStop == 0 & Drop Duplicates"
   ]
  },
  {
   "cell_type": "code",
   "execution_count": 71,
   "metadata": {
    "collapsed": true
   },
   "outputs": [],
   "source": [
    "# Now it is safe to filter the dataframe down to when buses are at stops\n",
    "df = df[df.AtStop == 1]"
   ]
  },
  {
   "cell_type": "code",
   "execution_count": 72,
   "metadata": {
    "collapsed": true
   },
   "outputs": [],
   "source": [
    "# No Longer Useful, it is now a constant column\n",
    "del df[\"AtStop\"]"
   ]
  },
  {
   "cell_type": "code",
   "execution_count": 73,
   "metadata": {
    "collapsed": true
   },
   "outputs": [],
   "source": [
    "# Organise the Data\n",
    "df = df.sort_values(['TimeFrame', 'VehicleJourneyId', 'Timestamp'], ascending=True)\n",
    "\n",
    "# Clean up index\n",
    "df = df.reset_index()\n",
    "del df['index']"
   ]
  },
  {
   "cell_type": "code",
   "execution_count": 74,
   "metadata": {
    "collapsed": true
   },
   "outputs": [],
   "source": [
    "\"\"\" If the NULL values in Journey Pattern ID have been addressed and the extra information at the start of each\n",
    "Vehicle Journey ID have been deleted, then this cell may be run without loss of valuable data \n",
    "\n",
    "It will delete all duplicates AFTER the first example of each is found. \"\"\"\n",
    "\n",
    "df = df.drop_duplicates([\"TimeFrame\", \"VehicleJourneyId\", \"StopId\"])"
   ]
  },
  {
   "cell_type": "code",
   "execution_count": 75,
   "metadata": {
    "collapsed": true
   },
   "outputs": [],
   "source": [
    "# Organise the Data\n",
    "df = df.sort_values(['TimeFrame', 'VehicleJourneyId', 'Timestamp'], ascending=True)\n",
    "\n",
    "# Clean up index\n",
    "df = df.reset_index()\n",
    "del df['index']"
   ]
  },
  {
   "cell_type": "code",
   "execution_count": 76,
   "metadata": {
    "collapsed": false
   },
   "outputs": [
    {
     "data": {
      "text/plain": [
       "(392976, 14)"
      ]
     },
     "execution_count": 76,
     "metadata": {},
     "output_type": "execute_result"
    }
   ],
   "source": [
    "# Check size of dataframe\n",
    "df.shape"
   ]
  },
  {
   "cell_type": "code",
   "execution_count": 77,
   "metadata": {
    "collapsed": false
   },
   "outputs": [
    {
     "data": {
      "text/html": [
       "<div>\n",
       "<table border=\"1\" class=\"dataframe\">\n",
       "  <thead>\n",
       "    <tr style=\"text-align: right;\">\n",
       "      <th></th>\n",
       "      <th>Timestamp</th>\n",
       "      <th>LineId</th>\n",
       "      <th>JourneyPatternId</th>\n",
       "      <th>TimeFrame</th>\n",
       "      <th>VehicleJourneyId</th>\n",
       "      <th>BusOperator</th>\n",
       "      <th>Congestion</th>\n",
       "      <th>Long</th>\n",
       "      <th>Lat</th>\n",
       "      <th>Delay</th>\n",
       "      <th>BlockId</th>\n",
       "      <th>VehicleId</th>\n",
       "      <th>StopId</th>\n",
       "      <th>Distance</th>\n",
       "    </tr>\n",
       "  </thead>\n",
       "  <tbody>\n",
       "    <tr>\n",
       "      <th>0</th>\n",
       "      <td>2012-11-08 16:18:13</td>\n",
       "      <td>331</td>\n",
       "      <td>033A1002</td>\n",
       "      <td>2012-11-08</td>\n",
       "      <td>1.0</td>\n",
       "      <td>SL</td>\n",
       "      <td>0.0</td>\n",
       "      <td>-6.129196</td>\n",
       "      <td>53.579613</td>\n",
       "      <td>43.0</td>\n",
       "      <td>33001.0</td>\n",
       "      <td>43051.0</td>\n",
       "      <td>3816</td>\n",
       "      <td>0.000000</td>\n",
       "    </tr>\n",
       "    <tr>\n",
       "      <th>1</th>\n",
       "      <td>2012-11-08 16:21:34</td>\n",
       "      <td>331</td>\n",
       "      <td>033A1002</td>\n",
       "      <td>2012-11-08</td>\n",
       "      <td>1.0</td>\n",
       "      <td>SL</td>\n",
       "      <td>0.0</td>\n",
       "      <td>-6.110108</td>\n",
       "      <td>53.579807</td>\n",
       "      <td>164.0</td>\n",
       "      <td>33001.0</td>\n",
       "      <td>43051.0</td>\n",
       "      <td>3818</td>\n",
       "      <td>1651.209589</td>\n",
       "    </tr>\n",
       "    <tr>\n",
       "      <th>2</th>\n",
       "      <td>2012-11-08 16:24:14</td>\n",
       "      <td>331</td>\n",
       "      <td>033A1002</td>\n",
       "      <td>2012-11-08</td>\n",
       "      <td>1.0</td>\n",
       "      <td>SL</td>\n",
       "      <td>0.0</td>\n",
       "      <td>-6.106793</td>\n",
       "      <td>53.580036</td>\n",
       "      <td>309.0</td>\n",
       "      <td>33001.0</td>\n",
       "      <td>43051.0</td>\n",
       "      <td>3819</td>\n",
       "      <td>1969.281027</td>\n",
       "    </tr>\n",
       "    <tr>\n",
       "      <th>3</th>\n",
       "      <td>2012-11-08 16:33:52</td>\n",
       "      <td>331</td>\n",
       "      <td>033A1002</td>\n",
       "      <td>2012-11-08</td>\n",
       "      <td>1.0</td>\n",
       "      <td>SL</td>\n",
       "      <td>0.0</td>\n",
       "      <td>-6.090593</td>\n",
       "      <td>53.533672</td>\n",
       "      <td>623.0</td>\n",
       "      <td>33001.0</td>\n",
       "      <td>43051.0</td>\n",
       "      <td>3833</td>\n",
       "      <td>7472.199689</td>\n",
       "    </tr>\n",
       "    <tr>\n",
       "      <th>4</th>\n",
       "      <td>2012-11-08 16:34:33</td>\n",
       "      <td>331</td>\n",
       "      <td>033A1002</td>\n",
       "      <td>2012-11-08</td>\n",
       "      <td>1.0</td>\n",
       "      <td>SL</td>\n",
       "      <td>0.0</td>\n",
       "      <td>-6.091514</td>\n",
       "      <td>53.530941</td>\n",
       "      <td>648.0</td>\n",
       "      <td>33001.0</td>\n",
       "      <td>43051.0</td>\n",
       "      <td>3834</td>\n",
       "      <td>7783.316730</td>\n",
       "    </tr>\n",
       "  </tbody>\n",
       "</table>\n",
       "</div>"
      ],
      "text/plain": [
       "            Timestamp LineId JourneyPatternId   TimeFrame VehicleJourneyId  \\\n",
       "0 2012-11-08 16:18:13    331         033A1002  2012-11-08              1.0   \n",
       "1 2012-11-08 16:21:34    331         033A1002  2012-11-08              1.0   \n",
       "2 2012-11-08 16:24:14    331         033A1002  2012-11-08              1.0   \n",
       "3 2012-11-08 16:33:52    331         033A1002  2012-11-08              1.0   \n",
       "4 2012-11-08 16:34:33    331         033A1002  2012-11-08              1.0   \n",
       "\n",
       "  BusOperator Congestion      Long        Lat  Delay  BlockId VehicleId  \\\n",
       "0          SL        0.0 -6.129196  53.579613   43.0  33001.0   43051.0   \n",
       "1          SL        0.0 -6.110108  53.579807  164.0  33001.0   43051.0   \n",
       "2          SL        0.0 -6.106793  53.580036  309.0  33001.0   43051.0   \n",
       "3          SL        0.0 -6.090593  53.533672  623.0  33001.0   43051.0   \n",
       "4          SL        0.0 -6.091514  53.530941  648.0  33001.0   43051.0   \n",
       "\n",
       "  StopId     Distance  \n",
       "0   3816     0.000000  \n",
       "1   3818  1651.209589  \n",
       "2   3819  1969.281027  \n",
       "3   3833  7472.199689  \n",
       "4   3834  7783.316730  "
      ]
     },
     "execution_count": 77,
     "metadata": {},
     "output_type": "execute_result"
    }
   ],
   "source": [
    "df.head()"
   ]
  },
  {
   "cell_type": "markdown",
   "metadata": {},
   "source": [
    "## Add Time Taken Feature"
   ]
  },
  {
   "cell_type": "code",
   "execution_count": 90,
   "metadata": {
    "collapsed": true
   },
   "outputs": [],
   "source": [
    "# List to hold features\n",
    "travel_time = list()\n",
    "\n",
    "for item, row in df.iterrows():\n",
    "    \n",
    "    # Set up values on first iteration\n",
    "    if item == 0:\n",
    "        last_id = row[4]\n",
    "        start_time = row[0]\n",
    "        travel_time.append(0.0)\n",
    "        continue\n",
    "    \n",
    "    current_time = row[0]\n",
    "    current_id = row[4]\n",
    "    \n",
    "    # If it's a new Journey ID\n",
    "    if current_id != last_id:\n",
    "        last_id = row[4]        \n",
    "        start_time = row[0]        \n",
    "        travel_time.append(0.0)\n",
    "        continue\n",
    "        \n",
    "    travel_time.append(abs((current_time - start_time).total_seconds()))    \n",
    "    last_time = row[0]\n",
    "    last_id = row[4]"
   ]
  },
  {
   "cell_type": "code",
   "execution_count": 92,
   "metadata": {
    "collapsed": true
   },
   "outputs": [],
   "source": [
    "df[\"TravelTime\"] = travel_time"
   ]
  },
  {
   "cell_type": "code",
   "execution_count": 95,
   "metadata": {
    "collapsed": false,
    "scrolled": true
   },
   "outputs": [
    {
     "data": {
      "text/html": [
       "<div>\n",
       "<table border=\"1\" class=\"dataframe\">\n",
       "  <thead>\n",
       "    <tr style=\"text-align: right;\">\n",
       "      <th></th>\n",
       "      <th>Timestamp</th>\n",
       "      <th>LineId</th>\n",
       "      <th>JourneyPatternId</th>\n",
       "      <th>TimeFrame</th>\n",
       "      <th>VehicleJourneyId</th>\n",
       "      <th>BusOperator</th>\n",
       "      <th>Congestion</th>\n",
       "      <th>Long</th>\n",
       "      <th>Lat</th>\n",
       "      <th>Delay</th>\n",
       "      <th>BlockId</th>\n",
       "      <th>VehicleId</th>\n",
       "      <th>StopId</th>\n",
       "      <th>Distance</th>\n",
       "      <th>TravelTime</th>\n",
       "    </tr>\n",
       "  </thead>\n",
       "  <tbody>\n",
       "    <tr>\n",
       "      <th>0</th>\n",
       "      <td>2012-11-08 16:18:13</td>\n",
       "      <td>331</td>\n",
       "      <td>033A1002</td>\n",
       "      <td>2012-11-08</td>\n",
       "      <td>1.0</td>\n",
       "      <td>SL</td>\n",
       "      <td>0.0</td>\n",
       "      <td>-6.129196</td>\n",
       "      <td>53.579613</td>\n",
       "      <td>43.0</td>\n",
       "      <td>33001.0</td>\n",
       "      <td>43051.0</td>\n",
       "      <td>3816</td>\n",
       "      <td>0.000000</td>\n",
       "      <td>0.0</td>\n",
       "    </tr>\n",
       "    <tr>\n",
       "      <th>1</th>\n",
       "      <td>2012-11-08 16:21:34</td>\n",
       "      <td>331</td>\n",
       "      <td>033A1002</td>\n",
       "      <td>2012-11-08</td>\n",
       "      <td>1.0</td>\n",
       "      <td>SL</td>\n",
       "      <td>0.0</td>\n",
       "      <td>-6.110108</td>\n",
       "      <td>53.579807</td>\n",
       "      <td>164.0</td>\n",
       "      <td>33001.0</td>\n",
       "      <td>43051.0</td>\n",
       "      <td>3818</td>\n",
       "      <td>1651.209589</td>\n",
       "      <td>201.0</td>\n",
       "    </tr>\n",
       "    <tr>\n",
       "      <th>2</th>\n",
       "      <td>2012-11-08 16:24:14</td>\n",
       "      <td>331</td>\n",
       "      <td>033A1002</td>\n",
       "      <td>2012-11-08</td>\n",
       "      <td>1.0</td>\n",
       "      <td>SL</td>\n",
       "      <td>0.0</td>\n",
       "      <td>-6.106793</td>\n",
       "      <td>53.580036</td>\n",
       "      <td>309.0</td>\n",
       "      <td>33001.0</td>\n",
       "      <td>43051.0</td>\n",
       "      <td>3819</td>\n",
       "      <td>1969.281027</td>\n",
       "      <td>361.0</td>\n",
       "    </tr>\n",
       "    <tr>\n",
       "      <th>3</th>\n",
       "      <td>2012-11-08 16:33:52</td>\n",
       "      <td>331</td>\n",
       "      <td>033A1002</td>\n",
       "      <td>2012-11-08</td>\n",
       "      <td>1.0</td>\n",
       "      <td>SL</td>\n",
       "      <td>0.0</td>\n",
       "      <td>-6.090593</td>\n",
       "      <td>53.533672</td>\n",
       "      <td>623.0</td>\n",
       "      <td>33001.0</td>\n",
       "      <td>43051.0</td>\n",
       "      <td>3833</td>\n",
       "      <td>7472.199689</td>\n",
       "      <td>939.0</td>\n",
       "    </tr>\n",
       "    <tr>\n",
       "      <th>4</th>\n",
       "      <td>2012-11-08 16:34:33</td>\n",
       "      <td>331</td>\n",
       "      <td>033A1002</td>\n",
       "      <td>2012-11-08</td>\n",
       "      <td>1.0</td>\n",
       "      <td>SL</td>\n",
       "      <td>0.0</td>\n",
       "      <td>-6.091514</td>\n",
       "      <td>53.530941</td>\n",
       "      <td>648.0</td>\n",
       "      <td>33001.0</td>\n",
       "      <td>43051.0</td>\n",
       "      <td>3834</td>\n",
       "      <td>7783.316730</td>\n",
       "      <td>980.0</td>\n",
       "    </tr>\n",
       "  </tbody>\n",
       "</table>\n",
       "</div>"
      ],
      "text/plain": [
       "            Timestamp LineId JourneyPatternId   TimeFrame VehicleJourneyId  \\\n",
       "0 2012-11-08 16:18:13    331         033A1002  2012-11-08              1.0   \n",
       "1 2012-11-08 16:21:34    331         033A1002  2012-11-08              1.0   \n",
       "2 2012-11-08 16:24:14    331         033A1002  2012-11-08              1.0   \n",
       "3 2012-11-08 16:33:52    331         033A1002  2012-11-08              1.0   \n",
       "4 2012-11-08 16:34:33    331         033A1002  2012-11-08              1.0   \n",
       "\n",
       "  BusOperator Congestion      Long        Lat  Delay  BlockId VehicleId  \\\n",
       "0          SL        0.0 -6.129196  53.579613   43.0  33001.0   43051.0   \n",
       "1          SL        0.0 -6.110108  53.579807  164.0  33001.0   43051.0   \n",
       "2          SL        0.0 -6.106793  53.580036  309.0  33001.0   43051.0   \n",
       "3          SL        0.0 -6.090593  53.533672  623.0  33001.0   43051.0   \n",
       "4          SL        0.0 -6.091514  53.530941  648.0  33001.0   43051.0   \n",
       "\n",
       "  StopId     Distance  TravelTime  \n",
       "0   3816     0.000000         0.0  \n",
       "1   3818  1651.209589       201.0  \n",
       "2   3819  1969.281027       361.0  \n",
       "3   3833  7472.199689       939.0  \n",
       "4   3834  7783.316730       980.0  "
      ]
     },
     "execution_count": 95,
     "metadata": {},
     "output_type": "execute_result"
    }
   ],
   "source": [
    "df.head()"
   ]
  },
  {
   "cell_type": "code",
   "execution_count": 96,
   "metadata": {
    "collapsed": true
   },
   "outputs": [],
   "source": [
    "df.to_csv(\"eight_stage.csv\", index=False)"
   ]
  },
  {
   "cell_type": "markdown",
   "metadata": {},
   "source": [
    "## Add Weekday Feature"
   ]
  },
  {
   "cell_type": "code",
   "execution_count": 97,
   "metadata": {
    "collapsed": false
   },
   "outputs": [],
   "source": [
    "df['Weekday'] = df['Timestamp'].dt.dayofweek"
   ]
  },
  {
   "cell_type": "code",
   "execution_count": 98,
   "metadata": {
    "collapsed": true
   },
   "outputs": [],
   "source": [
    "# Convert to correct datatype\n",
    "df[\"Weekday\"] = df[\"Weekday\"].astype(\"category\")"
   ]
  },
  {
   "cell_type": "markdown",
   "metadata": {},
   "source": [
    "## Add Time Category"
   ]
  },
  {
   "cell_type": "code",
   "execution_count": 101,
   "metadata": {
    "collapsed": true
   },
   "outputs": [],
   "source": [
    "# Convert to temp datatype\n",
    "df[\"Timestamp\"] = df[\"Timestamp\"].astype(str)"
   ]
  },
  {
   "cell_type": "code",
   "execution_count": 107,
   "metadata": {
    "collapsed": false
   },
   "outputs": [],
   "source": [
    "time_cat = list()\n",
    "\n",
    "for item, row in df.iterrows():\n",
    "    \n",
    "    s = row[0][-8:]\n",
    "    temp = s.split(\":\")\n",
    "\n",
    "    if int(temp[1]) < 30:\n",
    "        mins = \"00\"\n",
    "    else:\n",
    "        mins = \"30\"\n",
    "\n",
    "    ans = temp[0] + \":\" + mins\n",
    "    \n",
    "    time_cat.append(ans)"
   ]
  },
  {
   "cell_type": "code",
   "execution_count": 108,
   "metadata": {
    "collapsed": false
   },
   "outputs": [],
   "source": [
    "df[\"TimeCategory\"] = time_cat"
   ]
  },
  {
   "cell_type": "code",
   "execution_count": 109,
   "metadata": {
    "collapsed": false
   },
   "outputs": [
    {
     "data": {
      "text/html": [
       "<div>\n",
       "<table border=\"1\" class=\"dataframe\">\n",
       "  <thead>\n",
       "    <tr style=\"text-align: right;\">\n",
       "      <th></th>\n",
       "      <th>Timestamp</th>\n",
       "      <th>LineId</th>\n",
       "      <th>JourneyPatternId</th>\n",
       "      <th>TimeFrame</th>\n",
       "      <th>VehicleJourneyId</th>\n",
       "      <th>BusOperator</th>\n",
       "      <th>Congestion</th>\n",
       "      <th>Long</th>\n",
       "      <th>Lat</th>\n",
       "      <th>Delay</th>\n",
       "      <th>BlockId</th>\n",
       "      <th>VehicleId</th>\n",
       "      <th>StopId</th>\n",
       "      <th>Distance</th>\n",
       "      <th>TravelTime</th>\n",
       "      <th>Weekday</th>\n",
       "      <th>TimeCategory</th>\n",
       "    </tr>\n",
       "  </thead>\n",
       "  <tbody>\n",
       "    <tr>\n",
       "      <th>0</th>\n",
       "      <td>2012-11-08 16:18:13</td>\n",
       "      <td>331</td>\n",
       "      <td>033A1002</td>\n",
       "      <td>2012-11-08</td>\n",
       "      <td>1.0</td>\n",
       "      <td>SL</td>\n",
       "      <td>0.0</td>\n",
       "      <td>-6.129196</td>\n",
       "      <td>53.579613</td>\n",
       "      <td>43.0</td>\n",
       "      <td>33001.0</td>\n",
       "      <td>43051.0</td>\n",
       "      <td>3816</td>\n",
       "      <td>0.000000</td>\n",
       "      <td>0.0</td>\n",
       "      <td>3</td>\n",
       "      <td>16:00</td>\n",
       "    </tr>\n",
       "    <tr>\n",
       "      <th>1</th>\n",
       "      <td>2012-11-08 16:21:34</td>\n",
       "      <td>331</td>\n",
       "      <td>033A1002</td>\n",
       "      <td>2012-11-08</td>\n",
       "      <td>1.0</td>\n",
       "      <td>SL</td>\n",
       "      <td>0.0</td>\n",
       "      <td>-6.110108</td>\n",
       "      <td>53.579807</td>\n",
       "      <td>164.0</td>\n",
       "      <td>33001.0</td>\n",
       "      <td>43051.0</td>\n",
       "      <td>3818</td>\n",
       "      <td>1651.209589</td>\n",
       "      <td>201.0</td>\n",
       "      <td>3</td>\n",
       "      <td>16:00</td>\n",
       "    </tr>\n",
       "    <tr>\n",
       "      <th>2</th>\n",
       "      <td>2012-11-08 16:24:14</td>\n",
       "      <td>331</td>\n",
       "      <td>033A1002</td>\n",
       "      <td>2012-11-08</td>\n",
       "      <td>1.0</td>\n",
       "      <td>SL</td>\n",
       "      <td>0.0</td>\n",
       "      <td>-6.106793</td>\n",
       "      <td>53.580036</td>\n",
       "      <td>309.0</td>\n",
       "      <td>33001.0</td>\n",
       "      <td>43051.0</td>\n",
       "      <td>3819</td>\n",
       "      <td>1969.281027</td>\n",
       "      <td>361.0</td>\n",
       "      <td>3</td>\n",
       "      <td>16:00</td>\n",
       "    </tr>\n",
       "    <tr>\n",
       "      <th>3</th>\n",
       "      <td>2012-11-08 16:33:52</td>\n",
       "      <td>331</td>\n",
       "      <td>033A1002</td>\n",
       "      <td>2012-11-08</td>\n",
       "      <td>1.0</td>\n",
       "      <td>SL</td>\n",
       "      <td>0.0</td>\n",
       "      <td>-6.090593</td>\n",
       "      <td>53.533672</td>\n",
       "      <td>623.0</td>\n",
       "      <td>33001.0</td>\n",
       "      <td>43051.0</td>\n",
       "      <td>3833</td>\n",
       "      <td>7472.199689</td>\n",
       "      <td>939.0</td>\n",
       "      <td>3</td>\n",
       "      <td>16:30</td>\n",
       "    </tr>\n",
       "    <tr>\n",
       "      <th>4</th>\n",
       "      <td>2012-11-08 16:34:33</td>\n",
       "      <td>331</td>\n",
       "      <td>033A1002</td>\n",
       "      <td>2012-11-08</td>\n",
       "      <td>1.0</td>\n",
       "      <td>SL</td>\n",
       "      <td>0.0</td>\n",
       "      <td>-6.091514</td>\n",
       "      <td>53.530941</td>\n",
       "      <td>648.0</td>\n",
       "      <td>33001.0</td>\n",
       "      <td>43051.0</td>\n",
       "      <td>3834</td>\n",
       "      <td>7783.316730</td>\n",
       "      <td>980.0</td>\n",
       "      <td>3</td>\n",
       "      <td>16:30</td>\n",
       "    </tr>\n",
       "  </tbody>\n",
       "</table>\n",
       "</div>"
      ],
      "text/plain": [
       "             Timestamp LineId JourneyPatternId   TimeFrame VehicleJourneyId  \\\n",
       "0  2012-11-08 16:18:13    331         033A1002  2012-11-08              1.0   \n",
       "1  2012-11-08 16:21:34    331         033A1002  2012-11-08              1.0   \n",
       "2  2012-11-08 16:24:14    331         033A1002  2012-11-08              1.0   \n",
       "3  2012-11-08 16:33:52    331         033A1002  2012-11-08              1.0   \n",
       "4  2012-11-08 16:34:33    331         033A1002  2012-11-08              1.0   \n",
       "\n",
       "  BusOperator Congestion      Long        Lat  Delay  BlockId VehicleId  \\\n",
       "0          SL        0.0 -6.129196  53.579613   43.0  33001.0   43051.0   \n",
       "1          SL        0.0 -6.110108  53.579807  164.0  33001.0   43051.0   \n",
       "2          SL        0.0 -6.106793  53.580036  309.0  33001.0   43051.0   \n",
       "3          SL        0.0 -6.090593  53.533672  623.0  33001.0   43051.0   \n",
       "4          SL        0.0 -6.091514  53.530941  648.0  33001.0   43051.0   \n",
       "\n",
       "  StopId     Distance  TravelTime Weekday TimeCategory  \n",
       "0   3816     0.000000         0.0       3        16:00  \n",
       "1   3818  1651.209589       201.0       3        16:00  \n",
       "2   3819  1969.281027       361.0       3        16:00  \n",
       "3   3833  7472.199689       939.0       3        16:30  \n",
       "4   3834  7783.316730       980.0       3        16:30  "
      ]
     },
     "execution_count": 109,
     "metadata": {},
     "output_type": "execute_result"
    }
   ],
   "source": [
    "df.head()"
   ]
  },
  {
   "cell_type": "markdown",
   "metadata": {},
   "source": [
    "## Make Final Changes To Datatypes"
   ]
  },
  {
   "cell_type": "code",
   "execution_count": 111,
   "metadata": {
    "collapsed": false
   },
   "outputs": [
    {
     "data": {
      "text/plain": [
       "Timestamp             object\n",
       "LineId              category\n",
       "JourneyPatternId    category\n",
       "TimeFrame           category\n",
       "VehicleJourneyId    category\n",
       "BusOperator         category\n",
       "Congestion          category\n",
       "Long                 float64\n",
       "Lat                  float64\n",
       "Delay                float64\n",
       "BlockId             category\n",
       "VehicleId           category\n",
       "StopId              category\n",
       "Distance             float64\n",
       "TravelTime           float64\n",
       "Weekday             category\n",
       "TimeCategory          object\n",
       "dtype: object"
      ]
     },
     "execution_count": 111,
     "metadata": {},
     "output_type": "execute_result"
    }
   ],
   "source": [
    "df.dtypes"
   ]
  },
  {
   "cell_type": "code",
   "execution_count": 112,
   "metadata": {
    "collapsed": true
   },
   "outputs": [],
   "source": [
    "df[\"VehicleJourneyId\"] = df[\"VehicleJourneyId\"].astype(int)\n",
    "df[\"Congestion\"] = df[\"Congestion\"].astype(int)\n",
    "df[\"BlockId\"] = df[\"BlockId\"].astype(int)\n",
    "df[\"VehicleId\"] = df[\"VehicleId\"].astype(int)\n",
    "df[\"Delay\"] = df[\"Delay\"].astype(int)\n",
    "df[\"TravelTime\"] = df[\"TravelTime\"].astype(int)"
   ]
  },
  {
   "cell_type": "code",
   "execution_count": 119,
   "metadata": {
    "collapsed": true
   },
   "outputs": [],
   "source": [
    "df[\"VehicleJourneyId\"] = df[\"VehicleJourneyId\"].astype('category')\n",
    "df[\"Congestion\"] = df[\"Congestion\"].astype('category')\n",
    "df[\"BlockId\"] = df[\"BlockId\"].astype('category')\n",
    "df[\"VehicleId\"] = df[\"VehicleId\"].astype('category')\n",
    "df[\"TimeCategory\"] = df[\"TimeCategory\"].astype('category')\n",
    "df['Timestamp'] =  pd.to_datetime(df['Timestamp'], format='%Y-%m-%d %H:%M:%S')"
   ]
  },
  {
   "cell_type": "code",
   "execution_count": 120,
   "metadata": {
    "collapsed": false
   },
   "outputs": [
    {
     "data": {
      "text/plain": [
       "Timestamp           datetime64[ns]\n",
       "LineId                    category\n",
       "JourneyPatternId          category\n",
       "TimeFrame                 category\n",
       "VehicleJourneyId          category\n",
       "BusOperator               category\n",
       "Congestion                category\n",
       "Long                       float64\n",
       "Lat                        float64\n",
       "Delay                        int32\n",
       "BlockId                   category\n",
       "VehicleId                 category\n",
       "StopId                    category\n",
       "Distance                   float64\n",
       "TravelTime                   int32\n",
       "Weekday                   category\n",
       "TimeCategory              category\n",
       "dtype: object"
      ]
     },
     "execution_count": 120,
     "metadata": {},
     "output_type": "execute_result"
    }
   ],
   "source": [
    "df.dtypes"
   ]
  },
  {
   "cell_type": "code",
   "execution_count": 121,
   "metadata": {
    "collapsed": false
   },
   "outputs": [
    {
     "data": {
      "text/html": [
       "<div>\n",
       "<table border=\"1\" class=\"dataframe\">\n",
       "  <thead>\n",
       "    <tr style=\"text-align: right;\">\n",
       "      <th></th>\n",
       "      <th>Timestamp</th>\n",
       "      <th>LineId</th>\n",
       "      <th>JourneyPatternId</th>\n",
       "      <th>TimeFrame</th>\n",
       "      <th>VehicleJourneyId</th>\n",
       "      <th>BusOperator</th>\n",
       "      <th>Congestion</th>\n",
       "      <th>Long</th>\n",
       "      <th>Lat</th>\n",
       "      <th>Delay</th>\n",
       "      <th>BlockId</th>\n",
       "      <th>VehicleId</th>\n",
       "      <th>StopId</th>\n",
       "      <th>Distance</th>\n",
       "      <th>TravelTime</th>\n",
       "      <th>Weekday</th>\n",
       "      <th>TimeCategory</th>\n",
       "    </tr>\n",
       "  </thead>\n",
       "  <tbody>\n",
       "    <tr>\n",
       "      <th>0</th>\n",
       "      <td>2012-11-08 16:18:13</td>\n",
       "      <td>331</td>\n",
       "      <td>033A1002</td>\n",
       "      <td>2012-11-08</td>\n",
       "      <td>1</td>\n",
       "      <td>SL</td>\n",
       "      <td>0</td>\n",
       "      <td>-6.129196</td>\n",
       "      <td>53.579613</td>\n",
       "      <td>43</td>\n",
       "      <td>33001</td>\n",
       "      <td>43051</td>\n",
       "      <td>3816</td>\n",
       "      <td>0.000000</td>\n",
       "      <td>0</td>\n",
       "      <td>3</td>\n",
       "      <td>16:00</td>\n",
       "    </tr>\n",
       "    <tr>\n",
       "      <th>1</th>\n",
       "      <td>2012-11-08 16:21:34</td>\n",
       "      <td>331</td>\n",
       "      <td>033A1002</td>\n",
       "      <td>2012-11-08</td>\n",
       "      <td>1</td>\n",
       "      <td>SL</td>\n",
       "      <td>0</td>\n",
       "      <td>-6.110108</td>\n",
       "      <td>53.579807</td>\n",
       "      <td>164</td>\n",
       "      <td>33001</td>\n",
       "      <td>43051</td>\n",
       "      <td>3818</td>\n",
       "      <td>1651.209589</td>\n",
       "      <td>201</td>\n",
       "      <td>3</td>\n",
       "      <td>16:00</td>\n",
       "    </tr>\n",
       "    <tr>\n",
       "      <th>2</th>\n",
       "      <td>2012-11-08 16:24:14</td>\n",
       "      <td>331</td>\n",
       "      <td>033A1002</td>\n",
       "      <td>2012-11-08</td>\n",
       "      <td>1</td>\n",
       "      <td>SL</td>\n",
       "      <td>0</td>\n",
       "      <td>-6.106793</td>\n",
       "      <td>53.580036</td>\n",
       "      <td>309</td>\n",
       "      <td>33001</td>\n",
       "      <td>43051</td>\n",
       "      <td>3819</td>\n",
       "      <td>1969.281027</td>\n",
       "      <td>361</td>\n",
       "      <td>3</td>\n",
       "      <td>16:00</td>\n",
       "    </tr>\n",
       "    <tr>\n",
       "      <th>3</th>\n",
       "      <td>2012-11-08 16:33:52</td>\n",
       "      <td>331</td>\n",
       "      <td>033A1002</td>\n",
       "      <td>2012-11-08</td>\n",
       "      <td>1</td>\n",
       "      <td>SL</td>\n",
       "      <td>0</td>\n",
       "      <td>-6.090593</td>\n",
       "      <td>53.533672</td>\n",
       "      <td>623</td>\n",
       "      <td>33001</td>\n",
       "      <td>43051</td>\n",
       "      <td>3833</td>\n",
       "      <td>7472.199689</td>\n",
       "      <td>939</td>\n",
       "      <td>3</td>\n",
       "      <td>16:30</td>\n",
       "    </tr>\n",
       "    <tr>\n",
       "      <th>4</th>\n",
       "      <td>2012-11-08 16:34:33</td>\n",
       "      <td>331</td>\n",
       "      <td>033A1002</td>\n",
       "      <td>2012-11-08</td>\n",
       "      <td>1</td>\n",
       "      <td>SL</td>\n",
       "      <td>0</td>\n",
       "      <td>-6.091514</td>\n",
       "      <td>53.530941</td>\n",
       "      <td>648</td>\n",
       "      <td>33001</td>\n",
       "      <td>43051</td>\n",
       "      <td>3834</td>\n",
       "      <td>7783.316730</td>\n",
       "      <td>980</td>\n",
       "      <td>3</td>\n",
       "      <td>16:30</td>\n",
       "    </tr>\n",
       "  </tbody>\n",
       "</table>\n",
       "</div>"
      ],
      "text/plain": [
       "            Timestamp LineId JourneyPatternId   TimeFrame VehicleJourneyId  \\\n",
       "0 2012-11-08 16:18:13    331         033A1002  2012-11-08                1   \n",
       "1 2012-11-08 16:21:34    331         033A1002  2012-11-08                1   \n",
       "2 2012-11-08 16:24:14    331         033A1002  2012-11-08                1   \n",
       "3 2012-11-08 16:33:52    331         033A1002  2012-11-08                1   \n",
       "4 2012-11-08 16:34:33    331         033A1002  2012-11-08                1   \n",
       "\n",
       "  BusOperator Congestion      Long        Lat  Delay BlockId VehicleId StopId  \\\n",
       "0          SL          0 -6.129196  53.579613     43   33001     43051   3816   \n",
       "1          SL          0 -6.110108  53.579807    164   33001     43051   3818   \n",
       "2          SL          0 -6.106793  53.580036    309   33001     43051   3819   \n",
       "3          SL          0 -6.090593  53.533672    623   33001     43051   3833   \n",
       "4          SL          0 -6.091514  53.530941    648   33001     43051   3834   \n",
       "\n",
       "      Distance  TravelTime Weekday TimeCategory  \n",
       "0     0.000000           0       3        16:00  \n",
       "1  1651.209589         201       3        16:00  \n",
       "2  1969.281027         361       3        16:00  \n",
       "3  7472.199689         939       3        16:30  \n",
       "4  7783.316730         980       3        16:30  "
      ]
     },
     "execution_count": 121,
     "metadata": {},
     "output_type": "execute_result"
    }
   ],
   "source": [
    "df.head()"
   ]
  },
  {
   "cell_type": "markdown",
   "metadata": {},
   "source": [
    "## Make CSV"
   ]
  },
  {
   "cell_type": "code",
   "execution_count": 122,
   "metadata": {
    "collapsed": false
   },
   "outputs": [],
   "source": [
    "df.to_csv('November_8_to_10.csv', index=False)"
   ]
  }
 ],
 "metadata": {
  "anaconda-cloud": {},
  "kernelspec": {
   "display_name": "Python [conda root]",
   "language": "python",
   "name": "conda-root-py"
  },
  "language_info": {
   "codemirror_mode": {
    "name": "ipython",
    "version": 3
   },
   "file_extension": ".py",
   "mimetype": "text/x-python",
   "name": "python",
   "nbconvert_exporter": "python",
   "pygments_lexer": "ipython3",
   "version": "3.5.2"
  }
 },
 "nbformat": 4,
 "nbformat_minor": 1
}
