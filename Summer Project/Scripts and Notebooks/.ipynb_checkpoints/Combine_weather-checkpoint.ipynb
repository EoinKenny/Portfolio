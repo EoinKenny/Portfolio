{
 "cells": [
  {
   "cell_type": "code",
   "execution_count": 54,
   "metadata": {
    "collapsed": true
   },
   "outputs": [],
   "source": [
    "import pandas as pd\n",
    "import numpy as np\n",
    "import datetime\n",
    "from ipykernel import kernelapp as app\n",
    "from darksky import forecast"
   ]
  },
  {
   "cell_type": "code",
   "execution_count": 55,
   "metadata": {
    "collapsed": true
   },
   "outputs": [],
   "source": [
    "df = pd.read_csv('8_to_10_nov_superClean.csv', low_memory=False)"
   ]
  },
  {
   "cell_type": "code",
   "execution_count": 56,
   "metadata": {
    "collapsed": false
   },
   "outputs": [
    {
     "data": {
      "text/plain": [
       "Timestamp           0\n",
       "LineId              0\n",
       "JourneyPatternId    0\n",
       "TimeFrame           0\n",
       "VehicleJourneyId    0\n",
       "BusOperator         0\n",
       "Congestion          0\n",
       "Long                0\n",
       "Lat                 0\n",
       "Delay               0\n",
       "BlockId             0\n",
       "VehicleId           0\n",
       "StopId              0\n",
       "AtStop              0\n",
       "Distance            0\n",
       "TravelTime          0\n",
       "Weekday             0\n",
       "TimeCategory        0\n",
       "dtype: int64"
      ]
     },
     "execution_count": 56,
     "metadata": {},
     "output_type": "execute_result"
    }
   ],
   "source": [
    "df.isnull().sum()"
   ]
  },
  {
   "cell_type": "code",
   "execution_count": 57,
   "metadata": {
    "collapsed": false
   },
   "outputs": [
    {
     "data": {
      "text/html": [
       "<div>\n",
       "<style>\n",
       "    .dataframe thead tr:only-child th {\n",
       "        text-align: right;\n",
       "    }\n",
       "\n",
       "    .dataframe thead th {\n",
       "        text-align: left;\n",
       "    }\n",
       "\n",
       "    .dataframe tbody tr th {\n",
       "        vertical-align: top;\n",
       "    }\n",
       "</style>\n",
       "<table border=\"1\" class=\"dataframe\">\n",
       "  <thead>\n",
       "    <tr style=\"text-align: right;\">\n",
       "      <th></th>\n",
       "      <th>Timestamp</th>\n",
       "      <th>LineId</th>\n",
       "      <th>JourneyPatternId</th>\n",
       "      <th>TimeFrame</th>\n",
       "      <th>VehicleJourneyId</th>\n",
       "      <th>BusOperator</th>\n",
       "      <th>Congestion</th>\n",
       "      <th>Long</th>\n",
       "      <th>Lat</th>\n",
       "      <th>Delay</th>\n",
       "      <th>BlockId</th>\n",
       "      <th>VehicleId</th>\n",
       "      <th>StopId</th>\n",
       "      <th>AtStop</th>\n",
       "      <th>Distance</th>\n",
       "      <th>TravelTime</th>\n",
       "      <th>Weekday</th>\n",
       "      <th>TimeCategory</th>\n",
       "    </tr>\n",
       "  </thead>\n",
       "  <tbody>\n",
       "    <tr>\n",
       "      <th>0</th>\n",
       "      <td>2012-11-08 07:50:33</td>\n",
       "      <td>15</td>\n",
       "      <td>015B1001</td>\n",
       "      <td>2012-11-08</td>\n",
       "      <td>3277</td>\n",
       "      <td>RD</td>\n",
       "      <td>0</td>\n",
       "      <td>-6.326270</td>\n",
       "      <td>53.271095</td>\n",
       "      <td>28</td>\n",
       "      <td>15014</td>\n",
       "      <td>24549</td>\n",
       "      <td>6285</td>\n",
       "      <td>1.0</td>\n",
       "      <td>0.000000</td>\n",
       "      <td>0</td>\n",
       "      <td>3</td>\n",
       "      <td>07:30</td>\n",
       "    </tr>\n",
       "    <tr>\n",
       "      <th>1</th>\n",
       "      <td>2012-11-08 07:52:30</td>\n",
       "      <td>15</td>\n",
       "      <td>015B1001</td>\n",
       "      <td>2012-11-08</td>\n",
       "      <td>3277</td>\n",
       "      <td>RD</td>\n",
       "      <td>0</td>\n",
       "      <td>-6.316295</td>\n",
       "      <td>53.273449</td>\n",
       "      <td>68</td>\n",
       "      <td>15014</td>\n",
       "      <td>24549</td>\n",
       "      <td>6287</td>\n",
       "      <td>1.0</td>\n",
       "      <td>715.627283</td>\n",
       "      <td>117</td>\n",
       "      <td>3</td>\n",
       "      <td>07:30</td>\n",
       "    </tr>\n",
       "    <tr>\n",
       "      <th>2</th>\n",
       "      <td>2012-11-08 07:54:31</td>\n",
       "      <td>15</td>\n",
       "      <td>015B1001</td>\n",
       "      <td>2012-11-08</td>\n",
       "      <td>3277</td>\n",
       "      <td>RD</td>\n",
       "      <td>0</td>\n",
       "      <td>-6.303704</td>\n",
       "      <td>53.274460</td>\n",
       "      <td>83</td>\n",
       "      <td>15014</td>\n",
       "      <td>24549</td>\n",
       "      <td>6298</td>\n",
       "      <td>1.0</td>\n",
       "      <td>1619.357091</td>\n",
       "      <td>238</td>\n",
       "      <td>3</td>\n",
       "      <td>07:30</td>\n",
       "    </tr>\n",
       "    <tr>\n",
       "      <th>3</th>\n",
       "      <td>2012-11-08 07:56:52</td>\n",
       "      <td>15</td>\n",
       "      <td>015B1001</td>\n",
       "      <td>2012-11-08</td>\n",
       "      <td>3277</td>\n",
       "      <td>RD</td>\n",
       "      <td>0</td>\n",
       "      <td>-6.306540</td>\n",
       "      <td>53.279404</td>\n",
       "      <td>83</td>\n",
       "      <td>15014</td>\n",
       "      <td>24549</td>\n",
       "      <td>7069</td>\n",
       "      <td>1.0</td>\n",
       "      <td>2636.961031</td>\n",
       "      <td>379</td>\n",
       "      <td>3</td>\n",
       "      <td>07:30</td>\n",
       "    </tr>\n",
       "    <tr>\n",
       "      <th>4</th>\n",
       "      <td>2012-11-08 07:58:10</td>\n",
       "      <td>15</td>\n",
       "      <td>015B1001</td>\n",
       "      <td>2012-11-08</td>\n",
       "      <td>3277</td>\n",
       "      <td>RD</td>\n",
       "      <td>0</td>\n",
       "      <td>-6.306903</td>\n",
       "      <td>53.281425</td>\n",
       "      <td>100</td>\n",
       "      <td>15014</td>\n",
       "      <td>24549</td>\n",
       "      <td>7443</td>\n",
       "      <td>1.0</td>\n",
       "      <td>2982.175941</td>\n",
       "      <td>457</td>\n",
       "      <td>3</td>\n",
       "      <td>07:30</td>\n",
       "    </tr>\n",
       "  </tbody>\n",
       "</table>\n",
       "</div>"
      ],
      "text/plain": [
       "             Timestamp  LineId JourneyPatternId   TimeFrame  VehicleJourneyId  \\\n",
       "0  2012-11-08 07:50:33      15         015B1001  2012-11-08              3277   \n",
       "1  2012-11-08 07:52:30      15         015B1001  2012-11-08              3277   \n",
       "2  2012-11-08 07:54:31      15         015B1001  2012-11-08              3277   \n",
       "3  2012-11-08 07:56:52      15         015B1001  2012-11-08              3277   \n",
       "4  2012-11-08 07:58:10      15         015B1001  2012-11-08              3277   \n",
       "\n",
       "  BusOperator  Congestion      Long        Lat  Delay  BlockId  VehicleId  \\\n",
       "0          RD           0 -6.326270  53.271095     28    15014      24549   \n",
       "1          RD           0 -6.316295  53.273449     68    15014      24549   \n",
       "2          RD           0 -6.303704  53.274460     83    15014      24549   \n",
       "3          RD           0 -6.306540  53.279404     83    15014      24549   \n",
       "4          RD           0 -6.306903  53.281425    100    15014      24549   \n",
       "\n",
       "   StopId  AtStop     Distance  TravelTime  Weekday TimeCategory  \n",
       "0    6285     1.0     0.000000           0        3        07:30  \n",
       "1    6287     1.0   715.627283         117        3        07:30  \n",
       "2    6298     1.0  1619.357091         238        3        07:30  \n",
       "3    7069     1.0  2636.961031         379        3        07:30  \n",
       "4    7443     1.0  2982.175941         457        3        07:30  "
      ]
     },
     "execution_count": 57,
     "metadata": {},
     "output_type": "execute_result"
    }
   ],
   "source": [
    "df.head()"
   ]
  },
  {
   "cell_type": "code",
   "execution_count": 58,
   "metadata": {
    "collapsed": true
   },
   "outputs": [],
   "source": [
    "# Read in weather data\n",
    "#weather data file contains only relevant dates and first row containing the column names deleted\n",
    "\n",
    "COLNAMES2 = ['Time_hour','Ind', 'Rain', 'Ind1', 'Temp', 'Ind2', 'Wetb', 'Dewpt', 'Vappr', 'Rhum', 'Msl']\n",
    "df2 = pd.read_csv(\"weatherData.csv\", names=COLNAMES2)"
   ]
  },
  {
   "cell_type": "code",
   "execution_count": 59,
   "metadata": {
    "collapsed": true
   },
   "outputs": [],
   "source": [
    "column_names = ['Time_hour', 'Rain', 'Temp']\n",
    "df2 = df2[column_names]"
   ]
  },
  {
   "cell_type": "code",
   "execution_count": 60,
   "metadata": {
    "collapsed": true
   },
   "outputs": [],
   "source": [
    "for index, row in df2.iterrows():\n",
    "    # Change each date to standard format year-month-day\n",
    "    x = datetime.datetime.strptime(row[0], '%d/%m/%Y %H:%M').strftime('%Y-%m-%d %H')\n",
    "    df2.set_value(index, 'Time_hour', x)"
   ]
  },
  {
   "cell_type": "code",
   "execution_count": 61,
   "metadata": {
    "collapsed": true
   },
   "outputs": [],
   "source": [
    "df2.Time_hour =  pd.to_datetime(df2.Time_hour)"
   ]
  },
  {
   "cell_type": "code",
   "execution_count": 62,
   "metadata": {
    "collapsed": true
   },
   "outputs": [],
   "source": [
    "df2 = df2.replace(r'\\s+', np.nan, regex=True)\n",
    "df2.Rain = df2.Rain.astype(float)\n",
    "df2.Temp = df2.Temp.astype(float)"
   ]
  },
  {
   "cell_type": "code",
   "execution_count": 63,
   "metadata": {
    "collapsed": true
   },
   "outputs": [],
   "source": [
    "df['Time_hour'] = df['Timestamp'].values.astype('<M8[h]')"
   ]
  },
  {
   "cell_type": "code",
   "execution_count": 64,
   "metadata": {
    "collapsed": false
   },
   "outputs": [
    {
     "data": {
      "text/html": [
       "<div>\n",
       "<style>\n",
       "    .dataframe thead tr:only-child th {\n",
       "        text-align: right;\n",
       "    }\n",
       "\n",
       "    .dataframe thead th {\n",
       "        text-align: left;\n",
       "    }\n",
       "\n",
       "    .dataframe tbody tr th {\n",
       "        vertical-align: top;\n",
       "    }\n",
       "</style>\n",
       "<table border=\"1\" class=\"dataframe\">\n",
       "  <thead>\n",
       "    <tr style=\"text-align: right;\">\n",
       "      <th></th>\n",
       "      <th>Time_hour</th>\n",
       "      <th>Rain</th>\n",
       "      <th>Temp</th>\n",
       "    </tr>\n",
       "  </thead>\n",
       "  <tbody>\n",
       "    <tr>\n",
       "      <th>0</th>\n",
       "      <td>2012-11-06 00:00:00</td>\n",
       "      <td>0.0</td>\n",
       "      <td>2.6</td>\n",
       "    </tr>\n",
       "    <tr>\n",
       "      <th>1</th>\n",
       "      <td>2012-11-06 01:00:00</td>\n",
       "      <td>0.0</td>\n",
       "      <td>2.8</td>\n",
       "    </tr>\n",
       "    <tr>\n",
       "      <th>2</th>\n",
       "      <td>2012-11-06 02:00:00</td>\n",
       "      <td>0.0</td>\n",
       "      <td>3.4</td>\n",
       "    </tr>\n",
       "    <tr>\n",
       "      <th>3</th>\n",
       "      <td>2012-11-06 03:00:00</td>\n",
       "      <td>0.0</td>\n",
       "      <td>4.6</td>\n",
       "    </tr>\n",
       "    <tr>\n",
       "      <th>4</th>\n",
       "      <td>2012-11-06 04:00:00</td>\n",
       "      <td>0.0</td>\n",
       "      <td>4.9</td>\n",
       "    </tr>\n",
       "  </tbody>\n",
       "</table>\n",
       "</div>"
      ],
      "text/plain": [
       "            Time_hour  Rain  Temp\n",
       "0 2012-11-06 00:00:00   0.0   2.6\n",
       "1 2012-11-06 01:00:00   0.0   2.8\n",
       "2 2012-11-06 02:00:00   0.0   3.4\n",
       "3 2012-11-06 03:00:00   0.0   4.6\n",
       "4 2012-11-06 04:00:00   0.0   4.9"
      ]
     },
     "execution_count": 64,
     "metadata": {},
     "output_type": "execute_result"
    }
   ],
   "source": [
    "df2.head()"
   ]
  },
  {
   "cell_type": "code",
   "execution_count": 65,
   "metadata": {
    "collapsed": false
   },
   "outputs": [
    {
     "data": {
      "text/html": [
       "<div>\n",
       "<style>\n",
       "    .dataframe thead tr:only-child th {\n",
       "        text-align: right;\n",
       "    }\n",
       "\n",
       "    .dataframe thead th {\n",
       "        text-align: left;\n",
       "    }\n",
       "\n",
       "    .dataframe tbody tr th {\n",
       "        vertical-align: top;\n",
       "    }\n",
       "</style>\n",
       "<table border=\"1\" class=\"dataframe\">\n",
       "  <thead>\n",
       "    <tr style=\"text-align: right;\">\n",
       "      <th></th>\n",
       "      <th>Timestamp</th>\n",
       "      <th>LineId</th>\n",
       "      <th>JourneyPatternId</th>\n",
       "      <th>TimeFrame</th>\n",
       "      <th>VehicleJourneyId</th>\n",
       "      <th>BusOperator</th>\n",
       "      <th>Congestion</th>\n",
       "      <th>Long</th>\n",
       "      <th>Lat</th>\n",
       "      <th>Delay</th>\n",
       "      <th>BlockId</th>\n",
       "      <th>VehicleId</th>\n",
       "      <th>StopId</th>\n",
       "      <th>AtStop</th>\n",
       "      <th>Distance</th>\n",
       "      <th>TravelTime</th>\n",
       "      <th>Weekday</th>\n",
       "      <th>TimeCategory</th>\n",
       "      <th>Time_hour</th>\n",
       "    </tr>\n",
       "  </thead>\n",
       "  <tbody>\n",
       "    <tr>\n",
       "      <th>0</th>\n",
       "      <td>2012-11-08 07:50:33</td>\n",
       "      <td>15</td>\n",
       "      <td>015B1001</td>\n",
       "      <td>2012-11-08</td>\n",
       "      <td>3277</td>\n",
       "      <td>RD</td>\n",
       "      <td>0</td>\n",
       "      <td>-6.326270</td>\n",
       "      <td>53.271095</td>\n",
       "      <td>28</td>\n",
       "      <td>15014</td>\n",
       "      <td>24549</td>\n",
       "      <td>6285</td>\n",
       "      <td>1.0</td>\n",
       "      <td>0.000000</td>\n",
       "      <td>0</td>\n",
       "      <td>3</td>\n",
       "      <td>07:30</td>\n",
       "      <td>2012-11-08 07:00:00</td>\n",
       "    </tr>\n",
       "    <tr>\n",
       "      <th>1</th>\n",
       "      <td>2012-11-08 07:52:30</td>\n",
       "      <td>15</td>\n",
       "      <td>015B1001</td>\n",
       "      <td>2012-11-08</td>\n",
       "      <td>3277</td>\n",
       "      <td>RD</td>\n",
       "      <td>0</td>\n",
       "      <td>-6.316295</td>\n",
       "      <td>53.273449</td>\n",
       "      <td>68</td>\n",
       "      <td>15014</td>\n",
       "      <td>24549</td>\n",
       "      <td>6287</td>\n",
       "      <td>1.0</td>\n",
       "      <td>715.627283</td>\n",
       "      <td>117</td>\n",
       "      <td>3</td>\n",
       "      <td>07:30</td>\n",
       "      <td>2012-11-08 07:00:00</td>\n",
       "    </tr>\n",
       "    <tr>\n",
       "      <th>2</th>\n",
       "      <td>2012-11-08 07:54:31</td>\n",
       "      <td>15</td>\n",
       "      <td>015B1001</td>\n",
       "      <td>2012-11-08</td>\n",
       "      <td>3277</td>\n",
       "      <td>RD</td>\n",
       "      <td>0</td>\n",
       "      <td>-6.303704</td>\n",
       "      <td>53.274460</td>\n",
       "      <td>83</td>\n",
       "      <td>15014</td>\n",
       "      <td>24549</td>\n",
       "      <td>6298</td>\n",
       "      <td>1.0</td>\n",
       "      <td>1619.357091</td>\n",
       "      <td>238</td>\n",
       "      <td>3</td>\n",
       "      <td>07:30</td>\n",
       "      <td>2012-11-08 07:00:00</td>\n",
       "    </tr>\n",
       "    <tr>\n",
       "      <th>3</th>\n",
       "      <td>2012-11-08 07:56:52</td>\n",
       "      <td>15</td>\n",
       "      <td>015B1001</td>\n",
       "      <td>2012-11-08</td>\n",
       "      <td>3277</td>\n",
       "      <td>RD</td>\n",
       "      <td>0</td>\n",
       "      <td>-6.306540</td>\n",
       "      <td>53.279404</td>\n",
       "      <td>83</td>\n",
       "      <td>15014</td>\n",
       "      <td>24549</td>\n",
       "      <td>7069</td>\n",
       "      <td>1.0</td>\n",
       "      <td>2636.961031</td>\n",
       "      <td>379</td>\n",
       "      <td>3</td>\n",
       "      <td>07:30</td>\n",
       "      <td>2012-11-08 07:00:00</td>\n",
       "    </tr>\n",
       "    <tr>\n",
       "      <th>4</th>\n",
       "      <td>2012-11-08 07:58:10</td>\n",
       "      <td>15</td>\n",
       "      <td>015B1001</td>\n",
       "      <td>2012-11-08</td>\n",
       "      <td>3277</td>\n",
       "      <td>RD</td>\n",
       "      <td>0</td>\n",
       "      <td>-6.306903</td>\n",
       "      <td>53.281425</td>\n",
       "      <td>100</td>\n",
       "      <td>15014</td>\n",
       "      <td>24549</td>\n",
       "      <td>7443</td>\n",
       "      <td>1.0</td>\n",
       "      <td>2982.175941</td>\n",
       "      <td>457</td>\n",
       "      <td>3</td>\n",
       "      <td>07:30</td>\n",
       "      <td>2012-11-08 07:00:00</td>\n",
       "    </tr>\n",
       "  </tbody>\n",
       "</table>\n",
       "</div>"
      ],
      "text/plain": [
       "             Timestamp  LineId JourneyPatternId   TimeFrame  VehicleJourneyId  \\\n",
       "0  2012-11-08 07:50:33      15         015B1001  2012-11-08              3277   \n",
       "1  2012-11-08 07:52:30      15         015B1001  2012-11-08              3277   \n",
       "2  2012-11-08 07:54:31      15         015B1001  2012-11-08              3277   \n",
       "3  2012-11-08 07:56:52      15         015B1001  2012-11-08              3277   \n",
       "4  2012-11-08 07:58:10      15         015B1001  2012-11-08              3277   \n",
       "\n",
       "  BusOperator  Congestion      Long        Lat  Delay  BlockId  VehicleId  \\\n",
       "0          RD           0 -6.326270  53.271095     28    15014      24549   \n",
       "1          RD           0 -6.316295  53.273449     68    15014      24549   \n",
       "2          RD           0 -6.303704  53.274460     83    15014      24549   \n",
       "3          RD           0 -6.306540  53.279404     83    15014      24549   \n",
       "4          RD           0 -6.306903  53.281425    100    15014      24549   \n",
       "\n",
       "   StopId  AtStop     Distance  TravelTime  Weekday TimeCategory  \\\n",
       "0    6285     1.0     0.000000           0        3        07:30   \n",
       "1    6287     1.0   715.627283         117        3        07:30   \n",
       "2    6298     1.0  1619.357091         238        3        07:30   \n",
       "3    7069     1.0  2636.961031         379        3        07:30   \n",
       "4    7443     1.0  2982.175941         457        3        07:30   \n",
       "\n",
       "            Time_hour  \n",
       "0 2012-11-08 07:00:00  \n",
       "1 2012-11-08 07:00:00  \n",
       "2 2012-11-08 07:00:00  \n",
       "3 2012-11-08 07:00:00  \n",
       "4 2012-11-08 07:00:00  "
      ]
     },
     "execution_count": 65,
     "metadata": {},
     "output_type": "execute_result"
    }
   ],
   "source": [
    "df.head()"
   ]
  },
  {
   "cell_type": "code",
   "execution_count": 66,
   "metadata": {
    "collapsed": false
   },
   "outputs": [
    {
     "data": {
      "text/plain": [
       "350402"
      ]
     },
     "execution_count": 66,
     "metadata": {},
     "output_type": "execute_result"
    }
   ],
   "source": [
    "len(df)"
   ]
  },
  {
   "cell_type": "code",
   "execution_count": 67,
   "metadata": {
    "collapsed": false
   },
   "outputs": [
    {
     "data": {
      "text/plain": [
       "2076"
      ]
     },
     "execution_count": 67,
     "metadata": {},
     "output_type": "execute_result"
    }
   ],
   "source": [
    "len(df2)"
   ]
  },
  {
   "cell_type": "code",
   "execution_count": 68,
   "metadata": {
    "collapsed": true
   },
   "outputs": [],
   "source": [
    "df2[\"windSpeed\"] = np.nan"
   ]
  },
  {
   "cell_type": "code",
   "execution_count": 69,
   "metadata": {
    "collapsed": true
   },
   "outputs": [],
   "source": [
    "df2[\"Timestamp\"] = pd.to_datetime(df2[\"Time_hour\"]).astype('int64')// 10**9"
   ]
  },
  {
   "cell_type": "code",
   "execution_count": 74,
   "metadata": {
    "collapsed": false
   },
   "outputs": [
    {
     "data": {
      "text/html": [
       "<div>\n",
       "<style>\n",
       "    .dataframe thead tr:only-child th {\n",
       "        text-align: right;\n",
       "    }\n",
       "\n",
       "    .dataframe thead th {\n",
       "        text-align: left;\n",
       "    }\n",
       "\n",
       "    .dataframe tbody tr th {\n",
       "        vertical-align: top;\n",
       "    }\n",
       "</style>\n",
       "<table border=\"1\" class=\"dataframe\">\n",
       "  <thead>\n",
       "    <tr style=\"text-align: right;\">\n",
       "      <th></th>\n",
       "      <th>Time_hour</th>\n",
       "      <th>Rain</th>\n",
       "      <th>Temp</th>\n",
       "      <th>windSpeed</th>\n",
       "      <th>Timestamp</th>\n",
       "    </tr>\n",
       "  </thead>\n",
       "  <tbody>\n",
       "    <tr>\n",
       "      <th>0</th>\n",
       "      <td>2012-11-06 00:00:00</td>\n",
       "      <td>0.0</td>\n",
       "      <td>2.6</td>\n",
       "      <td>NaN</td>\n",
       "      <td>1352160000</td>\n",
       "    </tr>\n",
       "    <tr>\n",
       "      <th>1</th>\n",
       "      <td>2012-11-06 01:00:00</td>\n",
       "      <td>0.0</td>\n",
       "      <td>2.8</td>\n",
       "      <td>NaN</td>\n",
       "      <td>1352163600</td>\n",
       "    </tr>\n",
       "    <tr>\n",
       "      <th>2</th>\n",
       "      <td>2012-11-06 02:00:00</td>\n",
       "      <td>0.0</td>\n",
       "      <td>3.4</td>\n",
       "      <td>NaN</td>\n",
       "      <td>1352167200</td>\n",
       "    </tr>\n",
       "    <tr>\n",
       "      <th>3</th>\n",
       "      <td>2012-11-06 03:00:00</td>\n",
       "      <td>0.0</td>\n",
       "      <td>4.6</td>\n",
       "      <td>NaN</td>\n",
       "      <td>1352170800</td>\n",
       "    </tr>\n",
       "    <tr>\n",
       "      <th>4</th>\n",
       "      <td>2012-11-06 04:00:00</td>\n",
       "      <td>0.0</td>\n",
       "      <td>4.9</td>\n",
       "      <td>NaN</td>\n",
       "      <td>1352174400</td>\n",
       "    </tr>\n",
       "  </tbody>\n",
       "</table>\n",
       "</div>"
      ],
      "text/plain": [
       "            Time_hour  Rain  Temp  windSpeed   Timestamp\n",
       "0 2012-11-06 00:00:00   0.0   2.6        NaN  1352160000\n",
       "1 2012-11-06 01:00:00   0.0   2.8        NaN  1352163600\n",
       "2 2012-11-06 02:00:00   0.0   3.4        NaN  1352167200\n",
       "3 2012-11-06 03:00:00   0.0   4.6        NaN  1352170800\n",
       "4 2012-11-06 04:00:00   0.0   4.9        NaN  1352174400"
      ]
     },
     "execution_count": 74,
     "metadata": {},
     "output_type": "execute_result"
    }
   ],
   "source": [
    "df2.head()"
   ]
  },
  {
   "cell_type": "code",
   "execution_count": 77,
   "metadata": {
    "collapsed": true
   },
   "outputs": [],
   "source": [
    "\"\"\"\n",
    "Put your own api key from darksky when running this loop and remember after 1000 per day they charge you so be careful!\n",
    "darksky has a dashboard that shows you how many api calls you made\n",
    "\"\"\"\n",
    "count = 0\n",
    "dublin = forecast('115860eba8f194a9d04b751787f6a2b8',53.349323, -6.260750, time = df2.iloc[0]['Timestamp'], units = 'si')\n",
    "\n",
    "for item,row in df2.iterrows():\n",
    "    \n",
    "    df2.set_value(item, 'windSpeed', dublin.hourly[count].windSpeed)\n",
    "    count += 1\n",
    "    \n",
    "    if count > 23:\n",
    "        \n",
    "        #reset count\n",
    "        count = 0\n",
    "        #this gets 24 hour of data, divided in one hour block, we only need one api call for every day\n",
    "        dublin = forecast('115860eba8f194a9d04b751787f6a2b8',53.349323, -6.260750, time = row[4], units = 'si')"
   ]
  },
  {
   "cell_type": "code",
   "execution_count": 79,
   "metadata": {
    "collapsed": false
   },
   "outputs": [
    {
     "data": {
      "text/html": [
       "<div>\n",
       "<style>\n",
       "    .dataframe thead tr:only-child th {\n",
       "        text-align: right;\n",
       "    }\n",
       "\n",
       "    .dataframe thead th {\n",
       "        text-align: left;\n",
       "    }\n",
       "\n",
       "    .dataframe tbody tr th {\n",
       "        vertical-align: top;\n",
       "    }\n",
       "</style>\n",
       "<table border=\"1\" class=\"dataframe\">\n",
       "  <thead>\n",
       "    <tr style=\"text-align: right;\">\n",
       "      <th></th>\n",
       "      <th>Time_hour</th>\n",
       "      <th>Rain</th>\n",
       "      <th>Temp</th>\n",
       "      <th>windSpeed</th>\n",
       "      <th>Timestamp</th>\n",
       "    </tr>\n",
       "  </thead>\n",
       "  <tbody>\n",
       "    <tr>\n",
       "      <th>2071</th>\n",
       "      <td>2013-01-31 07:00:00</td>\n",
       "      <td>0.2</td>\n",
       "      <td>5.5</td>\n",
       "      <td>8.70</td>\n",
       "      <td>1359615600</td>\n",
       "    </tr>\n",
       "    <tr>\n",
       "      <th>2072</th>\n",
       "      <td>2013-01-31 08:00:00</td>\n",
       "      <td>0.3</td>\n",
       "      <td>4.4</td>\n",
       "      <td>8.91</td>\n",
       "      <td>1359619200</td>\n",
       "    </tr>\n",
       "    <tr>\n",
       "      <th>2073</th>\n",
       "      <td>2013-01-31 09:00:00</td>\n",
       "      <td>0.0</td>\n",
       "      <td>5.4</td>\n",
       "      <td>10.38</td>\n",
       "      <td>1359622800</td>\n",
       "    </tr>\n",
       "    <tr>\n",
       "      <th>2074</th>\n",
       "      <td>2013-01-31 10:00:00</td>\n",
       "      <td>0.0</td>\n",
       "      <td>6.1</td>\n",
       "      <td>13.22</td>\n",
       "      <td>1359626400</td>\n",
       "    </tr>\n",
       "    <tr>\n",
       "      <th>2075</th>\n",
       "      <td>2013-01-31 11:00:00</td>\n",
       "      <td>0.0</td>\n",
       "      <td>7.4</td>\n",
       "      <td>14.84</td>\n",
       "      <td>1359630000</td>\n",
       "    </tr>\n",
       "  </tbody>\n",
       "</table>\n",
       "</div>"
      ],
      "text/plain": [
       "               Time_hour  Rain  Temp  windSpeed   Timestamp\n",
       "2071 2013-01-31 07:00:00   0.2   5.5       8.70  1359615600\n",
       "2072 2013-01-31 08:00:00   0.3   4.4       8.91  1359619200\n",
       "2073 2013-01-31 09:00:00   0.0   5.4      10.38  1359622800\n",
       "2074 2013-01-31 10:00:00   0.0   6.1      13.22  1359626400\n",
       "2075 2013-01-31 11:00:00   0.0   7.4      14.84  1359630000"
      ]
     },
     "execution_count": 79,
     "metadata": {},
     "output_type": "execute_result"
    }
   ],
   "source": [
    "df2.tail()"
   ]
  },
  {
   "cell_type": "code",
   "execution_count": 80,
   "metadata": {
    "collapsed": false
   },
   "outputs": [
    {
     "data": {
      "text/plain": [
       "2076"
      ]
     },
     "execution_count": 80,
     "metadata": {},
     "output_type": "execute_result"
    }
   ],
   "source": [
    "len(df2)"
   ]
  },
  {
   "cell_type": "code",
   "execution_count": 81,
   "metadata": {
    "collapsed": true
   },
   "outputs": [],
   "source": [
    "df3 = pd.merge(df,df2, how='inner', on='Time_hour')"
   ]
  },
  {
   "cell_type": "code",
   "execution_count": 82,
   "metadata": {
    "collapsed": false
   },
   "outputs": [
    {
     "data": {
      "text/plain": [
       "350402"
      ]
     },
     "execution_count": 82,
     "metadata": {},
     "output_type": "execute_result"
    }
   ],
   "source": [
    "len(df3)"
   ]
  },
  {
   "cell_type": "code",
   "execution_count": 83,
   "metadata": {
    "collapsed": false
   },
   "outputs": [
    {
     "data": {
      "text/plain": [
       "350402"
      ]
     },
     "execution_count": 83,
     "metadata": {},
     "output_type": "execute_result"
    }
   ],
   "source": [
    "len(df)"
   ]
  },
  {
   "cell_type": "code",
   "execution_count": 84,
   "metadata": {
    "collapsed": true
   },
   "outputs": [],
   "source": [
    "df3.to_csv('sprint2_cleaned.csv', index=False)"
   ]
  },
  {
   "cell_type": "code",
   "execution_count": null,
   "metadata": {
    "collapsed": true
   },
   "outputs": [],
   "source": []
  },
  {
   "cell_type": "code",
   "execution_count": null,
   "metadata": {
    "collapsed": true
   },
   "outputs": [],
   "source": []
  },
  {
   "cell_type": "code",
   "execution_count": null,
   "metadata": {
    "collapsed": true
   },
   "outputs": [],
   "source": []
  },
  {
   "cell_type": "code",
   "execution_count": 5,
   "metadata": {
    "collapsed": true
   },
   "outputs": [],
   "source": [
    "df = pd.read_csv(\"sprint2_cleaned.csv\", low_memory=False)\n"
   ]
  },
  {
   "cell_type": "code",
   "execution_count": 10,
   "metadata": {
    "collapsed": true
   },
   "outputs": [],
   "source": [
    "df2 = df.groupby(['TimeFrame', 'VehicleId','VehicleJourneyId']).filter(lambda x: len(x) > 1)"
   ]
  },
  {
   "cell_type": "code",
   "execution_count": 18,
   "metadata": {
    "collapsed": true
   },
   "outputs": [],
   "source": [
    "x = df2[df2.VehicleJourneyId == 18]"
   ]
  },
  {
   "cell_type": "code",
   "execution_count": 11,
   "metadata": {
    "collapsed": false
   },
   "outputs": [
    {
     "data": {
      "text/plain": [
       "392877"
      ]
     },
     "execution_count": 11,
     "metadata": {},
     "output_type": "execute_result"
    }
   ],
   "source": [
    "len(df)"
   ]
  },
  {
   "cell_type": "code",
   "execution_count": 12,
   "metadata": {
    "collapsed": false
   },
   "outputs": [
    {
     "data": {
      "text/plain": [
       "390444"
      ]
     },
     "execution_count": 12,
     "metadata": {},
     "output_type": "execute_result"
    }
   ],
   "source": [
    "len(df2)"
   ]
  }
 ],
 "metadata": {
  "anaconda-cloud": {},
  "kernelspec": {
   "display_name": "Python [default]",
   "language": "python",
   "name": "python3"
  },
  "language_info": {
   "codemirror_mode": {
    "name": "ipython",
    "version": 3
   },
   "file_extension": ".py",
   "mimetype": "text/x-python",
   "name": "python",
   "nbconvert_exporter": "python",
   "pygments_lexer": "ipython3",
   "version": "3.5.2"
  }
 },
 "nbformat": 4,
 "nbformat_minor": 2
}
