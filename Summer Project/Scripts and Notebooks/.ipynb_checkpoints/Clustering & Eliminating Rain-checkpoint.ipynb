{
 "cells": [
  {
   "cell_type": "code",
   "execution_count": 1,
   "metadata": {
    "collapsed": true
   },
   "outputs": [],
   "source": [
    "import pandas as pd\n",
    "import numpy as np\n",
    "import pandas as pd\n",
    "import matplotlib as mpl\n",
    "import matplotlib.pyplot as plt\n",
    "\n",
    "%matplotlib inline\n",
    "\n",
    "# import seaborn as sns\n",
    "# sns.set(style=\"whitegrid\", color_codes=True)\n",
    "\n",
    "import seaborn as sns\n",
    "\n",
    "# For plot sizes\n",
    "from pylab import rcParams\n",
    "rcParams['figure.figsize'] = 10, 5\n",
    "\n",
    "# this is the standard import if you're using \"formula notation\" (similar to R)\n",
    "import statsmodels.formula.api as smf"
   ]
  },
  {
   "cell_type": "code",
   "execution_count": 2,
   "metadata": {
    "collapsed": false
   },
   "outputs": [
    {
     "ename": "FileNotFoundError",
     "evalue": "File cleaned_store.h5 does not exist",
     "output_type": "error",
     "traceback": [
      "\u001b[0;31m---------------------------------------------------------------------------\u001b[0m",
      "\u001b[0;31mFileNotFoundError\u001b[0m                         Traceback (most recent call last)",
      "\u001b[0;32m<ipython-input-2-a5bbeda650c0>\u001b[0m in \u001b[0;36m<module>\u001b[0;34m()\u001b[0m\n\u001b[0;32m----> 1\u001b[0;31m \u001b[0mdf\u001b[0m \u001b[1;33m=\u001b[0m \u001b[0mpd\u001b[0m\u001b[1;33m.\u001b[0m\u001b[0mread_hdf\u001b[0m\u001b[1;33m(\u001b[0m\u001b[1;34m\"cleaned_store.h5\"\u001b[0m\u001b[1;33m,\u001b[0m \u001b[0mkey\u001b[0m\u001b[1;33m=\u001b[0m\u001b[1;34m\"table_name\"\u001b[0m\u001b[1;33m,\u001b[0m \u001b[0mwhere\u001b[0m\u001b[1;33m=\u001b[0m\u001b[1;34m'Journey_Pattern_ID == \"00660001\"'\u001b[0m\u001b[1;33m,\u001b[0m \u001b[0mcolumns\u001b[0m\u001b[1;33m=\u001b[0m\u001b[1;33m[\u001b[0m\u001b[1;34m'Timestamp'\u001b[0m\u001b[1;33m,\u001b[0m \u001b[1;34m\"Journey_Pattern_ID\"\u001b[0m\u001b[1;33m,\u001b[0m \u001b[1;34m\"Time_Frame\"\u001b[0m\u001b[1;33m,\u001b[0m \u001b[1;34m\"Vehicle_Journey_ID\"\u001b[0m\u001b[1;33m,\u001b[0m \u001b[1;34m\"Week_Day\"\u001b[0m\u001b[1;33m,\u001b[0m \u001b[1;34m\"Distance\"\u001b[0m\u001b[1;33m,\u001b[0m \u001b[1;34m\"TravelTime\"\u001b[0m\u001b[1;33m,\u001b[0m \u001b[1;34m\"TimeCategory\"\u001b[0m\u001b[1;33m,\u001b[0m \u001b[1;34m\"Rain\"\u001b[0m\u001b[1;33m]\u001b[0m\u001b[1;33m)\u001b[0m\u001b[1;33m\u001b[0m\u001b[0m\n\u001b[0m\u001b[1;32m      2\u001b[0m \u001b[0mdf\u001b[0m\u001b[1;33m.\u001b[0m\u001b[0mcolumns\u001b[0m \u001b[1;33m=\u001b[0m \u001b[1;33m[\u001b[0m\u001b[1;34m\"Timestamp\"\u001b[0m\u001b[1;33m,\u001b[0m \u001b[1;34m\"JourneyPatternId\"\u001b[0m\u001b[1;33m,\u001b[0m \u001b[1;34m\"TimeFrame\"\u001b[0m\u001b[1;33m,\u001b[0m \u001b[1;34m\"VehicleJourneyId\"\u001b[0m\u001b[1;33m,\u001b[0m \u001b[1;34m\"Day\"\u001b[0m\u001b[1;33m,\u001b[0m \u001b[1;34m\"Distance\"\u001b[0m\u001b[1;33m,\u001b[0m \u001b[1;34m\"TravelTime\"\u001b[0m\u001b[1;33m,\u001b[0m \u001b[1;34m\"TimeCategory\"\u001b[0m\u001b[1;33m,\u001b[0m \u001b[1;34m\"Rain\"\u001b[0m\u001b[1;33m]\u001b[0m\u001b[1;33m\u001b[0m\u001b[0m\n",
      "\u001b[0;32mC:\\Program Files\\Anaconda3\\lib\\site-packages\\pandas\\io\\pytables.py\u001b[0m in \u001b[0;36mread_hdf\u001b[0;34m(path_or_buf, key, **kwargs)\u001b[0m\n\u001b[1;32m    334\u001b[0m         \u001b[1;32mif\u001b[0m \u001b[1;32mnot\u001b[0m \u001b[0mexists\u001b[0m\u001b[1;33m:\u001b[0m\u001b[1;33m\u001b[0m\u001b[0m\n\u001b[1;32m    335\u001b[0m             raise compat.FileNotFoundError(\n\u001b[0;32m--> 336\u001b[0;31m                 'File %s does not exist' % path_or_buf)\n\u001b[0m\u001b[1;32m    337\u001b[0m \u001b[1;33m\u001b[0m\u001b[0m\n\u001b[1;32m    338\u001b[0m         \u001b[1;31m# can't auto open/close if we are using an iterator\u001b[0m\u001b[1;33m\u001b[0m\u001b[1;33m\u001b[0m\u001b[0m\n",
      "\u001b[0;31mFileNotFoundError\u001b[0m: File cleaned_store.h5 does not exist"
     ]
    }
   ],
   "source": [
    "df = pd.read_hdf(\"cleaned_store.h5\", key=\"table_name\", where='Journey_Pattern_ID == \"00660001\"', columns=['Timestamp', \"Journey_Pattern_ID\", \"Time_Frame\", \"Vehicle_Journey_ID\", \"Week_Day\", \"Distance\", \"TravelTime\", \"TimeCategory\", \"Rain\"])\n",
    "df.columns = [\"Timestamp\", \"JourneyPatternId\", \"TimeFrame\", \"VehicleJourneyId\", \"Day\", \"Distance\", \"TravelTime\", \"TimeCategory\", \"Rain\"]"
   ]
  },
  {
   "cell_type": "code",
   "execution_count": 3,
   "metadata": {
    "collapsed": false
   },
   "outputs": [
    {
     "ename": "NameError",
     "evalue": "name 'df' is not defined",
     "output_type": "error",
     "traceback": [
      "\u001b[0;31m---------------------------------------------------------------------------\u001b[0m",
      "\u001b[0;31mNameError\u001b[0m                                 Traceback (most recent call last)",
      "\u001b[0;32m<ipython-input-3-2569c44faf66>\u001b[0m in \u001b[0;36m<module>\u001b[0;34m()\u001b[0m\n\u001b[0;32m----> 1\u001b[0;31m \u001b[0mdf\u001b[0m\u001b[1;33m.\u001b[0m\u001b[0mhead\u001b[0m\u001b[1;33m(\u001b[0m\u001b[1;33m)\u001b[0m\u001b[1;33m\u001b[0m\u001b[0m\n\u001b[0m",
      "\u001b[0;31mNameError\u001b[0m: name 'df' is not defined"
     ]
    }
   ],
   "source": [
    "df.head()"
   ]
  },
  {
   "cell_type": "code",
   "execution_count": 4,
   "metadata": {
    "collapsed": false
   },
   "outputs": [
    {
     "data": {
      "text/plain": [
       "(71783, 9)"
      ]
     },
     "execution_count": 4,
     "metadata": {},
     "output_type": "execute_result"
    }
   ],
   "source": [
    "df.shape"
   ]
  },
  {
   "cell_type": "markdown",
   "metadata": {},
   "source": [
    "## Change Day Category"
   ]
  },
  {
   "cell_type": "code",
   "execution_count": 72,
   "metadata": {
    "collapsed": true
   },
   "outputs": [],
   "source": [
    "# Organise the Data\n",
    "df = df.sort_values(['TimeFrame', 'VehicleJourneyId', 'Timestamp'], ascending=True)\n",
    "\n",
    "# Clean up index\n",
    "df = df.reset_index()\n",
    "del df['index']"
   ]
  },
  {
   "cell_type": "code",
   "execution_count": 73,
   "metadata": {
    "collapsed": true
   },
   "outputs": [],
   "source": [
    "df.Day = df.Day.astype(\"str\")"
   ]
  },
  {
   "cell_type": "code",
   "execution_count": 74,
   "metadata": {
    "collapsed": true
   },
   "outputs": [],
   "source": [
    "# Create group object to work with \n",
    "gb = df.groupby([\"TimeFrame\"], as_index=False, group_keys=False)"
   ]
  },
  {
   "cell_type": "code",
   "execution_count": 75,
   "metadata": {
    "collapsed": false
   },
   "outputs": [],
   "source": [
    "def change_day(group):\n",
    "    \n",
    "    day_num = group.Day.value_counts().index.tolist()[0]\n",
    "    \n",
    "    if day_num == '0' or day_num == '1' or day_num == '2' or day_num == '3' or day_num == '4':\n",
    "        group.Day = 'Mon-Fri'\n",
    "        \n",
    "    if day_num == '5':\n",
    "        group.Day = 'Sat'\n",
    "        \n",
    "    if day_num == '6':\n",
    "        group.Day = 'Sun'\n",
    "    \n",
    "    return group"
   ]
  },
  {
   "cell_type": "code",
   "execution_count": 76,
   "metadata": {
    "collapsed": false,
    "scrolled": true
   },
   "outputs": [],
   "source": [
    "df = gb.apply(change_day)"
   ]
  },
  {
   "cell_type": "code",
   "execution_count": 77,
   "metadata": {
    "collapsed": true
   },
   "outputs": [],
   "source": [
    "df.Day = df.Day.astype(\"category\")"
   ]
  },
  {
   "cell_type": "code",
   "execution_count": 78,
   "metadata": {
    "collapsed": false
   },
   "outputs": [
    {
     "data": {
      "text/plain": [
       "Timestamp           datetime64[ns]\n",
       "JourneyPatternId            object\n",
       "TimeFrame           datetime64[ns]\n",
       "VehicleJourneyId            object\n",
       "Day                       category\n",
       "Distance                   float64\n",
       "TravelTime                 float64\n",
       "TimeCategory                object\n",
       "Rain                       float32\n",
       "Avg_Speed                  float64\n",
       "dtype: object"
      ]
     },
     "execution_count": 78,
     "metadata": {},
     "output_type": "execute_result"
    }
   ],
   "source": [
    "df.dtypes"
   ]
  },
  {
   "cell_type": "markdown",
   "metadata": {},
   "source": [
    "# Check Weekday's Effect"
   ]
  },
  {
   "cell_type": "code",
   "execution_count": 118,
   "metadata": {
    "collapsed": true
   },
   "outputs": [],
   "source": [
    "df1 = df[df.Day == \"Mon-Fri\"]\n",
    "df2 = df[df.Day == \"Sat\"]\n",
    "df3 = df[df.Day == \"Sun\"]"
   ]
  },
  {
   "cell_type": "code",
   "execution_count": 122,
   "metadata": {
    "collapsed": false
   },
   "outputs": [
    {
     "data": {
      "image/png": "[encoded data removed]",
      "text/plain": [
       "<matplotlib.figure.Figure at 0x12d1e898>"
      ]
     },
     "metadata": {},
     "output_type": "display_data"
    }
   ],
   "source": [
    "fig, ax = plt.subplots()\n",
    "\n",
    "colors = ['red', 'green', 'black']\n",
    "i = 0\n",
    "\n",
    "days = [\"Mon-Fri\", \"Sat\", \"Sun\"]\n",
    "\n",
    "for day in days:\n",
    "    \n",
    "    color = colors[i]\n",
    "    i+=1\n",
    "    \n",
    "    temp_df = df[df.Day == day]\n",
    "    x, y = temp_df.TravelTime, temp_df.Distance\n",
    "\n",
    "    ax.scatter(x, y, c=color, label=day,\n",
    "               alpha=0.3, edgecolors='none')\n",
    "\n",
    "ax.legend()\n",
    "ax.grid(True)\n",
    "\n",
    "fig.suptitle('Route 66 - Direction(0) - Clustering Days', fontsize=20)\n",
    "plt.xlabel('Travel Time sec', fontsize=18)\n",
    "plt.ylabel('Distance km', fontsize=16)\n",
    "fig.savefig('Clustering Days.jpg')\n",
    "\n",
    "plt.show()"
   ]
  },
  {
   "cell_type": "markdown",
   "metadata": {},
   "source": [
    "# Add Average Speed Category"
   ]
  },
  {
   "cell_type": "code",
   "execution_count": 33,
   "metadata": {
    "collapsed": true
   },
   "outputs": [],
   "source": [
    "df[\"Avg_Speed\"] = float(0)"
   ]
  },
  {
   "cell_type": "code",
   "execution_count": 34,
   "metadata": {
    "collapsed": false
   },
   "outputs": [
    {
     "data": {
      "text/html": [
       "<div>\n",
       "<style>\n",
       "    .dataframe thead tr:only-child th {\n",
       "        text-align: right;\n",
       "    }\n",
       "\n",
       "    .dataframe thead th {\n",
       "        text-align: left;\n",
       "    }\n",
       "\n",
       "    .dataframe tbody tr th {\n",
       "        vertical-align: top;\n",
       "    }\n",
       "</style>\n",
       "<table border=\"1\" class=\"dataframe\">\n",
       "  <thead>\n",
       "    <tr style=\"text-align: right;\">\n",
       "      <th></th>\n",
       "      <th>Timestamp</th>\n",
       "      <th>JourneyPatternId</th>\n",
       "      <th>TimeFrame</th>\n",
       "      <th>VehicleJourneyId</th>\n",
       "      <th>Day</th>\n",
       "      <th>Distance</th>\n",
       "      <th>TravelTime</th>\n",
       "      <th>TimeCategory</th>\n",
       "      <th>Rain</th>\n",
       "      <th>Avg_Speed</th>\n",
       "    </tr>\n",
       "  </thead>\n",
       "  <tbody>\n",
       "    <tr>\n",
       "      <th>0</th>\n",
       "      <td>2012-11-06 16:05:06</td>\n",
       "      <td>00660001</td>\n",
       "      <td>2012-11-06</td>\n",
       "      <td>2877</td>\n",
       "      <td>1</td>\n",
       "      <td>0.000000</td>\n",
       "      <td>0.0</td>\n",
       "      <td>16:00:00</td>\n",
       "      <td>0.0</td>\n",
       "      <td>0.0</td>\n",
       "    </tr>\n",
       "    <tr>\n",
       "      <th>1</th>\n",
       "      <td>2012-11-06 16:07:25</td>\n",
       "      <td>00660001</td>\n",
       "      <td>2012-11-06</td>\n",
       "      <td>2877</td>\n",
       "      <td>1</td>\n",
       "      <td>0.237810</td>\n",
       "      <td>139.0</td>\n",
       "      <td>16:00:00</td>\n",
       "      <td>0.0</td>\n",
       "      <td>0.0</td>\n",
       "    </tr>\n",
       "    <tr>\n",
       "      <th>2</th>\n",
       "      <td>2012-11-06 16:09:45</td>\n",
       "      <td>00660001</td>\n",
       "      <td>2012-11-06</td>\n",
       "      <td>2877</td>\n",
       "      <td>1</td>\n",
       "      <td>0.623865</td>\n",
       "      <td>279.0</td>\n",
       "      <td>16:00:00</td>\n",
       "      <td>0.0</td>\n",
       "      <td>0.0</td>\n",
       "    </tr>\n",
       "    <tr>\n",
       "      <th>3</th>\n",
       "      <td>2012-11-06 16:17:27</td>\n",
       "      <td>00660001</td>\n",
       "      <td>2012-11-06</td>\n",
       "      <td>2877</td>\n",
       "      <td>1</td>\n",
       "      <td>1.320029</td>\n",
       "      <td>741.0</td>\n",
       "      <td>16:00:00</td>\n",
       "      <td>0.0</td>\n",
       "      <td>0.0</td>\n",
       "    </tr>\n",
       "    <tr>\n",
       "      <th>4</th>\n",
       "      <td>2012-11-06 16:21:05</td>\n",
       "      <td>00660001</td>\n",
       "      <td>2012-11-06</td>\n",
       "      <td>2877</td>\n",
       "      <td>1</td>\n",
       "      <td>1.964579</td>\n",
       "      <td>959.0</td>\n",
       "      <td>16:00:00</td>\n",
       "      <td>0.0</td>\n",
       "      <td>0.0</td>\n",
       "    </tr>\n",
       "  </tbody>\n",
       "</table>\n",
       "</div>"
      ],
      "text/plain": [
       "            Timestamp JourneyPatternId  TimeFrame VehicleJourneyId Day  \\\n",
       "0 2012-11-06 16:05:06         00660001 2012-11-06             2877   1   \n",
       "1 2012-11-06 16:07:25         00660001 2012-11-06             2877   1   \n",
       "2 2012-11-06 16:09:45         00660001 2012-11-06             2877   1   \n",
       "3 2012-11-06 16:17:27         00660001 2012-11-06             2877   1   \n",
       "4 2012-11-06 16:21:05         00660001 2012-11-06             2877   1   \n",
       "\n",
       "   Distance  TravelTime TimeCategory  Rain  Avg_Speed  \n",
       "0  0.000000         0.0     16:00:00   0.0        0.0  \n",
       "1  0.237810       139.0     16:00:00   0.0        0.0  \n",
       "2  0.623865       279.0     16:00:00   0.0        0.0  \n",
       "3  1.320029       741.0     16:00:00   0.0        0.0  \n",
       "4  1.964579       959.0     16:00:00   0.0        0.0  "
      ]
     },
     "execution_count": 34,
     "metadata": {},
     "output_type": "execute_result"
    }
   ],
   "source": [
    "df.head()"
   ]
  },
  {
   "cell_type": "code",
   "execution_count": 39,
   "metadata": {
    "collapsed": true
   },
   "outputs": [],
   "source": [
    "gb = df.groupby([\"TimeFrame\", \"VehicleJourneyId\"])"
   ]
  },
  {
   "cell_type": "code",
   "execution_count": 41,
   "metadata": {
    "collapsed": false,
    "scrolled": true
   },
   "outputs": [
    {
     "name": "stderr",
     "output_type": "stream",
     "text": [
      "C:\\Program Files\\Anaconda3\\lib\\site-packages\\ipykernel\\__main__.py:7: RuntimeWarning: invalid value encountered in double_scalars\n"
     ]
    }
   ],
   "source": [
    "def add_avg_speed(group):\n",
    "    \"\"\"Add average speeds to each time category\"\"\"\n",
    "\n",
    "    median_dist = group.Distance.median()\n",
    "    median_time = group.loc[group['Distance'] >= median_dist].TravelTime.iloc[0]\n",
    "\n",
    "    median_speed = (median_dist) / median_time\n",
    "    \n",
    "    try:\n",
    "        group.Avg_Speed = median_speed * 1000\n",
    "\n",
    "    except:\n",
    "        pass\n",
    "\n",
    "    return group\n",
    "\n",
    "df = gb.apply(add_avg_speed)"
   ]
  },
  {
   "cell_type": "code",
   "execution_count": 44,
   "metadata": {
    "collapsed": false
   },
   "outputs": [
    {
     "data": {
      "text/html": [
       "<div>\n",
       "<style>\n",
       "    .dataframe thead tr:only-child th {\n",
       "        text-align: right;\n",
       "    }\n",
       "\n",
       "    .dataframe thead th {\n",
       "        text-align: left;\n",
       "    }\n",
       "\n",
       "    .dataframe tbody tr th {\n",
       "        vertical-align: top;\n",
       "    }\n",
       "</style>\n",
       "<table border=\"1\" class=\"dataframe\">\n",
       "  <thead>\n",
       "    <tr style=\"text-align: right;\">\n",
       "      <th></th>\n",
       "      <th>Timestamp</th>\n",
       "      <th>JourneyPatternId</th>\n",
       "      <th>TimeFrame</th>\n",
       "      <th>VehicleJourneyId</th>\n",
       "      <th>Day</th>\n",
       "      <th>Distance</th>\n",
       "      <th>TravelTime</th>\n",
       "      <th>TimeCategory</th>\n",
       "      <th>Rain</th>\n",
       "      <th>Avg_Speed</th>\n",
       "    </tr>\n",
       "  </thead>\n",
       "  <tbody>\n",
       "    <tr>\n",
       "      <th>0</th>\n",
       "      <td>2012-11-06 16:05:06</td>\n",
       "      <td>00660001</td>\n",
       "      <td>2012-11-06</td>\n",
       "      <td>2877</td>\n",
       "      <td>1</td>\n",
       "      <td>0.000000</td>\n",
       "      <td>0.0</td>\n",
       "      <td>16:00:00</td>\n",
       "      <td>0.0</td>\n",
       "      <td>4.939112</td>\n",
       "    </tr>\n",
       "    <tr>\n",
       "      <th>1</th>\n",
       "      <td>2012-11-06 16:07:25</td>\n",
       "      <td>00660001</td>\n",
       "      <td>2012-11-06</td>\n",
       "      <td>2877</td>\n",
       "      <td>1</td>\n",
       "      <td>0.237810</td>\n",
       "      <td>139.0</td>\n",
       "      <td>16:00:00</td>\n",
       "      <td>0.0</td>\n",
       "      <td>4.939112</td>\n",
       "    </tr>\n",
       "    <tr>\n",
       "      <th>2</th>\n",
       "      <td>2012-11-06 16:09:45</td>\n",
       "      <td>00660001</td>\n",
       "      <td>2012-11-06</td>\n",
       "      <td>2877</td>\n",
       "      <td>1</td>\n",
       "      <td>0.623865</td>\n",
       "      <td>279.0</td>\n",
       "      <td>16:00:00</td>\n",
       "      <td>0.0</td>\n",
       "      <td>4.939112</td>\n",
       "    </tr>\n",
       "    <tr>\n",
       "      <th>3</th>\n",
       "      <td>2012-11-06 16:17:27</td>\n",
       "      <td>00660001</td>\n",
       "      <td>2012-11-06</td>\n",
       "      <td>2877</td>\n",
       "      <td>1</td>\n",
       "      <td>1.320029</td>\n",
       "      <td>741.0</td>\n",
       "      <td>16:00:00</td>\n",
       "      <td>0.0</td>\n",
       "      <td>4.939112</td>\n",
       "    </tr>\n",
       "    <tr>\n",
       "      <th>4</th>\n",
       "      <td>2012-11-06 16:21:05</td>\n",
       "      <td>00660001</td>\n",
       "      <td>2012-11-06</td>\n",
       "      <td>2877</td>\n",
       "      <td>1</td>\n",
       "      <td>1.964579</td>\n",
       "      <td>959.0</td>\n",
       "      <td>16:00:00</td>\n",
       "      <td>0.0</td>\n",
       "      <td>4.939112</td>\n",
       "    </tr>\n",
       "  </tbody>\n",
       "</table>\n",
       "</div>"
      ],
      "text/plain": [
       "            Timestamp JourneyPatternId  TimeFrame VehicleJourneyId Day  \\\n",
       "0 2012-11-06 16:05:06         00660001 2012-11-06             2877   1   \n",
       "1 2012-11-06 16:07:25         00660001 2012-11-06             2877   1   \n",
       "2 2012-11-06 16:09:45         00660001 2012-11-06             2877   1   \n",
       "3 2012-11-06 16:17:27         00660001 2012-11-06             2877   1   \n",
       "4 2012-11-06 16:21:05         00660001 2012-11-06             2877   1   \n",
       "\n",
       "   Distance  TravelTime TimeCategory  Rain  Avg_Speed  \n",
       "0  0.000000         0.0     16:00:00   0.0   4.939112  \n",
       "1  0.237810       139.0     16:00:00   0.0   4.939112  \n",
       "2  0.623865       279.0     16:00:00   0.0   4.939112  \n",
       "3  1.320029       741.0     16:00:00   0.0   4.939112  \n",
       "4  1.964579       959.0     16:00:00   0.0   4.939112  "
      ]
     },
     "execution_count": 44,
     "metadata": {},
     "output_type": "execute_result"
    }
   ],
   "source": [
    "df.head()"
   ]
  },
  {
   "cell_type": "markdown",
   "metadata": {},
   "source": [
    "# Prove the rain's affect"
   ]
  },
  {
   "cell_type": "code",
   "execution_count": 45,
   "metadata": {
    "collapsed": false
   },
   "outputs": [
    {
     "data": {
      "text/html": [
       "<div>\n",
       "<style>\n",
       "    .dataframe thead tr:only-child th {\n",
       "        text-align: right;\n",
       "    }\n",
       "\n",
       "    .dataframe thead th {\n",
       "        text-align: left;\n",
       "    }\n",
       "\n",
       "    .dataframe tbody tr th {\n",
       "        vertical-align: top;\n",
       "    }\n",
       "</style>\n",
       "<table border=\"1\" class=\"dataframe\">\n",
       "  <thead>\n",
       "    <tr style=\"text-align: right;\">\n",
       "      <th></th>\n",
       "      <th>Distance</th>\n",
       "      <th>TravelTime</th>\n",
       "      <th>Rain</th>\n",
       "      <th>Avg_Speed</th>\n",
       "    </tr>\n",
       "  </thead>\n",
       "  <tbody>\n",
       "    <tr>\n",
       "      <th>count</th>\n",
       "      <td>71783.000000</td>\n",
       "      <td>71783.000000</td>\n",
       "      <td>71783.000000</td>\n",
       "      <td>71782.000000</td>\n",
       "    </tr>\n",
       "    <tr>\n",
       "      <th>mean</th>\n",
       "      <td>12.236865</td>\n",
       "      <td>2147.526267</td>\n",
       "      <td>0.107152</td>\n",
       "      <td>5.931835</td>\n",
       "    </tr>\n",
       "    <tr>\n",
       "      <th>std</th>\n",
       "      <td>7.530876</td>\n",
       "      <td>1125.759444</td>\n",
       "      <td>0.377656</td>\n",
       "      <td>1.051397</td>\n",
       "    </tr>\n",
       "    <tr>\n",
       "      <th>min</th>\n",
       "      <td>0.000000</td>\n",
       "      <td>0.000000</td>\n",
       "      <td>0.000000</td>\n",
       "      <td>1.198136</td>\n",
       "    </tr>\n",
       "    <tr>\n",
       "      <th>25%</th>\n",
       "      <td>5.626278</td>\n",
       "      <td>1340.000000</td>\n",
       "      <td>0.000000</td>\n",
       "      <td>5.225919</td>\n",
       "    </tr>\n",
       "    <tr>\n",
       "      <th>50%</th>\n",
       "      <td>13.073292</td>\n",
       "      <td>2171.000000</td>\n",
       "      <td>0.000000</td>\n",
       "      <td>5.858553</td>\n",
       "    </tr>\n",
       "    <tr>\n",
       "      <th>75%</th>\n",
       "      <td>18.336562</td>\n",
       "      <td>2974.000000</td>\n",
       "      <td>0.000000</td>\n",
       "      <td>6.594366</td>\n",
       "    </tr>\n",
       "    <tr>\n",
       "      <th>max</th>\n",
       "      <td>36.353086</td>\n",
       "      <td>6363.000000</td>\n",
       "      <td>4.600000</td>\n",
       "      <td>10.714443</td>\n",
       "    </tr>\n",
       "  </tbody>\n",
       "</table>\n",
       "</div>"
      ],
      "text/plain": [
       "           Distance    TravelTime          Rain     Avg_Speed\n",
       "count  71783.000000  71783.000000  71783.000000  71782.000000\n",
       "mean      12.236865   2147.526267      0.107152      5.931835\n",
       "std        7.530876   1125.759444      0.377656      1.051397\n",
       "min        0.000000      0.000000      0.000000      1.198136\n",
       "25%        5.626278   1340.000000      0.000000      5.225919\n",
       "50%       13.073292   2171.000000      0.000000      5.858553\n",
       "75%       18.336562   2974.000000      0.000000      6.594366\n",
       "max       36.353086   6363.000000      4.600000     10.714443"
      ]
     },
     "execution_count": 45,
     "metadata": {},
     "output_type": "execute_result"
    }
   ],
   "source": [
    "df.describe()"
   ]
  },
  {
   "cell_type": "code",
   "execution_count": 46,
   "metadata": {
    "collapsed": false
   },
   "outputs": [],
   "source": [
    "df_rain = df[df.Rain >= 1]\n",
    "df_dry = df[df.Rain < 1]"
   ]
  },
  {
   "cell_type": "code",
   "execution_count": 47,
   "metadata": {
    "collapsed": false
   },
   "outputs": [
    {
     "data": {
      "text/plain": [
       "'3.6457882121920933mm'"
      ]
     },
     "execution_count": 47,
     "metadata": {},
     "output_type": "execute_result"
    }
   ],
   "source": [
    "# Percentage of data with rain > 1.0mm\n",
    "rain = df_rain.shape[0]*100/df_dry.shape[0]\n",
    "str(rain) + \"mm\""
   ]
  },
  {
   "cell_type": "code",
   "execution_count": 66,
   "metadata": {
    "collapsed": false
   },
   "outputs": [
    {
     "data": {
      "image/png": "[encoded data removed]",
      "text/plain": [
       "<matplotlib.figure.Figure at 0xd24b9e8>"
      ]
     },
     "metadata": {},
     "output_type": "display_data"
    }
   ],
   "source": [
    "plt.scatter(x=\"Rain\", y=\"Avg_Speed\", data=df)\n",
    "plt.plot([0,5], [5.931835,5.931835], 'r-')\n",
    "\n",
    "plt.suptitle('Route 66 - Direction(0) - Red Line is Mean Speed', fontsize=20)\n",
    "plt.xlabel('Rainfall mm', fontsize=18)\n",
    "plt.ylabel('Aveage Speed of Journey m/s', fontsize=16)\n",
    "\n",
    "plt.savefig('Checking Rain\\'s affect.jpg')\n",
    "\n",
    "plt.show()"
   ]
  },
  {
   "cell_type": "code",
   "execution_count": 103,
   "metadata": {
    "collapsed": false
   },
   "outputs": [
    {
     "data": {
      "text/plain": [
       "5.471883909542607"
      ]
     },
     "execution_count": 103,
     "metadata": {},
     "output_type": "execute_result"
    }
   ],
   "source": [
    "# Average Speed with rain\n",
    "(df_rain.Distance.mean()/df_rain.TravelTime.mean())*1000"
   ]
  },
  {
   "cell_type": "code",
   "execution_count": 104,
   "metadata": {
    "collapsed": false
   },
   "outputs": [
    {
     "data": {
      "text/plain": [
       "5.706589436836427"
      ]
     },
     "execution_count": 104,
     "metadata": {},
     "output_type": "execute_result"
    }
   ],
   "source": [
    "# Average Speed without rain\n",
    "(df_dry.Distance.mean()/df_dry.TravelTime.mean())*1000"
   ]
  },
  {
   "cell_type": "code",
   "execution_count": 106,
   "metadata": {
    "collapsed": false
   },
   "outputs": [
    {
     "data": {
      "text/plain": [
       "0.23470552729382058"
      ]
     },
     "execution_count": 106,
     "metadata": {},
     "output_type": "execute_result"
    }
   ],
   "source": [
    "# Difference\n",
    "(df_dry.Distance.mean()/df_dry.TravelTime.mean() - df_rain.Distance.mean()/df_rain.TravelTime.mean())*1000"
   ]
  },
  {
   "cell_type": "markdown",
   "metadata": {},
   "source": [
    "# Clustering Time Categories"
   ]
  },
  {
   "cell_type": "code",
   "execution_count": 79,
   "metadata": {
    "collapsed": false
   },
   "outputs": [
    {
     "data": {
      "text/html": [
       "<div>\n",
       "<style>\n",
       "    .dataframe thead tr:only-child th {\n",
       "        text-align: right;\n",
       "    }\n",
       "\n",
       "    .dataframe thead th {\n",
       "        text-align: left;\n",
       "    }\n",
       "\n",
       "    .dataframe tbody tr th {\n",
       "        vertical-align: top;\n",
       "    }\n",
       "</style>\n",
       "<table border=\"1\" class=\"dataframe\">\n",
       "  <thead>\n",
       "    <tr style=\"text-align: right;\">\n",
       "      <th></th>\n",
       "      <th>Timestamp</th>\n",
       "      <th>JourneyPatternId</th>\n",
       "      <th>TimeFrame</th>\n",
       "      <th>VehicleJourneyId</th>\n",
       "      <th>Day</th>\n",
       "      <th>Distance</th>\n",
       "      <th>TravelTime</th>\n",
       "      <th>TimeCategory</th>\n",
       "      <th>Rain</th>\n",
       "      <th>Avg_Speed</th>\n",
       "    </tr>\n",
       "  </thead>\n",
       "  <tbody>\n",
       "    <tr>\n",
       "      <th>0</th>\n",
       "      <td>2012-11-06 16:05:06</td>\n",
       "      <td>00660001</td>\n",
       "      <td>2012-11-06</td>\n",
       "      <td>2877</td>\n",
       "      <td>Mon-Fri</td>\n",
       "      <td>0.000000</td>\n",
       "      <td>0.0</td>\n",
       "      <td>16:00:00</td>\n",
       "      <td>0.0</td>\n",
       "      <td>4.939112</td>\n",
       "    </tr>\n",
       "    <tr>\n",
       "      <th>1</th>\n",
       "      <td>2012-11-06 16:07:25</td>\n",
       "      <td>00660001</td>\n",
       "      <td>2012-11-06</td>\n",
       "      <td>2877</td>\n",
       "      <td>Mon-Fri</td>\n",
       "      <td>0.237810</td>\n",
       "      <td>139.0</td>\n",
       "      <td>16:00:00</td>\n",
       "      <td>0.0</td>\n",
       "      <td>4.939112</td>\n",
       "    </tr>\n",
       "    <tr>\n",
       "      <th>2</th>\n",
       "      <td>2012-11-06 16:09:45</td>\n",
       "      <td>00660001</td>\n",
       "      <td>2012-11-06</td>\n",
       "      <td>2877</td>\n",
       "      <td>Mon-Fri</td>\n",
       "      <td>0.623865</td>\n",
       "      <td>279.0</td>\n",
       "      <td>16:00:00</td>\n",
       "      <td>0.0</td>\n",
       "      <td>4.939112</td>\n",
       "    </tr>\n",
       "    <tr>\n",
       "      <th>3</th>\n",
       "      <td>2012-11-06 16:17:27</td>\n",
       "      <td>00660001</td>\n",
       "      <td>2012-11-06</td>\n",
       "      <td>2877</td>\n",
       "      <td>Mon-Fri</td>\n",
       "      <td>1.320029</td>\n",
       "      <td>741.0</td>\n",
       "      <td>16:00:00</td>\n",
       "      <td>0.0</td>\n",
       "      <td>4.939112</td>\n",
       "    </tr>\n",
       "    <tr>\n",
       "      <th>4</th>\n",
       "      <td>2012-11-06 16:21:05</td>\n",
       "      <td>00660001</td>\n",
       "      <td>2012-11-06</td>\n",
       "      <td>2877</td>\n",
       "      <td>Mon-Fri</td>\n",
       "      <td>1.964579</td>\n",
       "      <td>959.0</td>\n",
       "      <td>16:00:00</td>\n",
       "      <td>0.0</td>\n",
       "      <td>4.939112</td>\n",
       "    </tr>\n",
       "  </tbody>\n",
       "</table>\n",
       "</div>"
      ],
      "text/plain": [
       "            Timestamp JourneyPatternId  TimeFrame VehicleJourneyId      Day  \\\n",
       "0 2012-11-06 16:05:06         00660001 2012-11-06             2877  Mon-Fri   \n",
       "1 2012-11-06 16:07:25         00660001 2012-11-06             2877  Mon-Fri   \n",
       "2 2012-11-06 16:09:45         00660001 2012-11-06             2877  Mon-Fri   \n",
       "3 2012-11-06 16:17:27         00660001 2012-11-06             2877  Mon-Fri   \n",
       "4 2012-11-06 16:21:05         00660001 2012-11-06             2877  Mon-Fri   \n",
       "\n",
       "   Distance  TravelTime TimeCategory  Rain  Avg_Speed  \n",
       "0  0.000000         0.0     16:00:00   0.0   4.939112  \n",
       "1  0.237810       139.0     16:00:00   0.0   4.939112  \n",
       "2  0.623865       279.0     16:00:00   0.0   4.939112  \n",
       "3  1.320029       741.0     16:00:00   0.0   4.939112  \n",
       "4  1.964579       959.0     16:00:00   0.0   4.939112  "
      ]
     },
     "execution_count": 79,
     "metadata": {},
     "output_type": "execute_result"
    }
   ],
   "source": [
    "df.head()"
   ]
  },
  {
   "cell_type": "code",
   "execution_count": 80,
   "metadata": {
    "collapsed": false
   },
   "outputs": [],
   "source": [
    "\"\"\" Create A Custom Speed Dictionary \"\"\"\n",
    "\n",
    "# Get a list of the journey's days\n",
    "days = df.Day.value_counts().index.tolist()\n",
    "\n",
    "# Hold future answers\n",
    "avg_speeds = dict()\n",
    "\n",
    "# Add Days to Dictionary\n",
    "for item in days:\n",
    "    avg_speeds[item] = dict()"
   ]
  },
  {
   "cell_type": "code",
   "execution_count": 81,
   "metadata": {
    "collapsed": false
   },
   "outputs": [
    {
     "data": {
      "text/plain": [
       "{'Mon-Fri': {}, 'Sat': {}, 'Sun': {}}"
      ]
     },
     "execution_count": 81,
     "metadata": {},
     "output_type": "execute_result"
    }
   ],
   "source": [
    "avg_speeds"
   ]
  },
  {
   "cell_type": "code",
   "execution_count": 82,
   "metadata": {
    "collapsed": true
   },
   "outputs": [],
   "source": [
    "gb = df.groupby([\"TimeFrame\", \"VehicleJourneyId\"])\n",
    "\n",
    "def test(group):\n",
    "    \"\"\"Add average speeds to each time category\n",
    "\n",
    "    We need to bin the time categories because every half hour is too much, it causes colliniarity issues.\n",
    "    To overcome this we bin each journey into 3 bigger ones. \"\"\"\n",
    "\n",
    "    median_dist = group.Distance.median()\n",
    "    median_time = group.loc[group['Distance'] >= median_dist].TravelTime.iloc[0]\n",
    "\n",
    "    median_speed = (median_dist) / median_time\n",
    "\n",
    "    try:\n",
    "        avg_speeds[group.Day.tolist()[0]][group.TimeCategory.tolist()[0]] += [median_speed]\n",
    "\n",
    "    except:\n",
    "        avg_speeds[group.Day.tolist()[0]][group.TimeCategory.tolist()[0]] = [median_speed]"
   ]
  },
  {
   "cell_type": "code",
   "execution_count": 83,
   "metadata": {
    "collapsed": false
   },
   "outputs": [
    {
     "name": "stderr",
     "output_type": "stream",
     "text": [
      "C:\\Program Files\\Anaconda3\\lib\\site-packages\\ipykernel\\__main__.py:12: RuntimeWarning: invalid value encountered in double_scalars\n"
     ]
    },
    {
     "data": {
      "text/html": [
       "<div>\n",
       "<style>\n",
       "    .dataframe thead tr:only-child th {\n",
       "        text-align: right;\n",
       "    }\n",
       "\n",
       "    .dataframe thead th {\n",
       "        text-align: left;\n",
       "    }\n",
       "\n",
       "    .dataframe tbody tr th {\n",
       "        vertical-align: top;\n",
       "    }\n",
       "</style>\n",
       "<table border=\"1\" class=\"dataframe\">\n",
       "  <thead>\n",
       "    <tr style=\"text-align: right;\">\n",
       "      <th></th>\n",
       "    </tr>\n",
       "  </thead>\n",
       "  <tbody>\n",
       "  </tbody>\n",
       "</table>\n",
       "</div>"
      ],
      "text/plain": [
       "Empty DataFrame\n",
       "Columns: []\n",
       "Index: []"
      ]
     },
     "execution_count": 83,
     "metadata": {},
     "output_type": "execute_result"
    }
   ],
   "source": [
    "gb.apply(test)"
   ]
  },
  {
   "cell_type": "code",
   "execution_count": 85,
   "metadata": {
    "collapsed": true
   },
   "outputs": [],
   "source": [
    "# Sum up all average speeds to get the overall average speeds\n",
    "for key, item in avg_speeds.items():\n",
    "\n",
    "    for key2, item2 in avg_speeds[key].items():\n",
    "\n",
    "        avg_speeds[key][key2] = (float(sum(item2)/len(item2)))"
   ]
  },
  {
   "cell_type": "code",
   "execution_count": 86,
   "metadata": {
    "collapsed": true
   },
   "outputs": [],
   "source": [
    "# Change this speed numbers into the bins slow, medium & fast\n",
    "for key, item in avg_speeds.items():\n",
    "\n",
    "    slowest = min(avg_speeds[key].values())\n",
    "    fastest = max(avg_speeds[key].values())\n",
    "\n",
    "    diff = (fastest - slowest)\n",
    "\n",
    "    div = diff / 3\n",
    "\n",
    "    for key2, value2 in avg_speeds[key].items():\n",
    "\n",
    "        if value2 <= slowest + div:\n",
    "            avg_speeds[key][key2] = \"Slow\"\n",
    "\n",
    "        elif value2 <= slowest + (div*2):\n",
    "            avg_speeds[key][key2] = \"Medium\"\n",
    "\n",
    "        else:\n",
    "            avg_speeds[key][key2] = \"Fast\""
   ]
  },
  {
   "cell_type": "code",
   "execution_count": 88,
   "metadata": {
    "collapsed": false,
    "scrolled": true
   },
   "outputs": [],
   "source": [
    "def test2(group):\n",
    "\n",
    "    group.TimeCategory = avg_speeds[group.Day.tolist()[0]][group.TimeCategory.tolist()[0]]\n",
    "    \n",
    "    return group\n",
    "\n",
    "df = gb.apply(test2)"
   ]
  },
  {
   "cell_type": "code",
   "execution_count": 92,
   "metadata": {
    "collapsed": false
   },
   "outputs": [
    {
     "data": {
      "text/html": [
       "<div>\n",
       "<style>\n",
       "    .dataframe thead tr:only-child th {\n",
       "        text-align: right;\n",
       "    }\n",
       "\n",
       "    .dataframe thead th {\n",
       "        text-align: left;\n",
       "    }\n",
       "\n",
       "    .dataframe tbody tr th {\n",
       "        vertical-align: top;\n",
       "    }\n",
       "</style>\n",
       "<table border=\"1\" class=\"dataframe\">\n",
       "  <thead>\n",
       "    <tr style=\"text-align: right;\">\n",
       "      <th></th>\n",
       "      <th>Timestamp</th>\n",
       "      <th>JourneyPatternId</th>\n",
       "      <th>TimeFrame</th>\n",
       "      <th>VehicleJourneyId</th>\n",
       "      <th>Day</th>\n",
       "      <th>Distance</th>\n",
       "      <th>TravelTime</th>\n",
       "      <th>TimeCategory</th>\n",
       "      <th>Rain</th>\n",
       "      <th>Avg_Speed</th>\n",
       "    </tr>\n",
       "  </thead>\n",
       "  <tbody>\n",
       "    <tr>\n",
       "      <th>0</th>\n",
       "      <td>2012-11-06 16:05:06</td>\n",
       "      <td>00660001</td>\n",
       "      <td>2012-11-06</td>\n",
       "      <td>2877</td>\n",
       "      <td>Mon-Fri</td>\n",
       "      <td>0.000000</td>\n",
       "      <td>0.0</td>\n",
       "      <td>Slow</td>\n",
       "      <td>0.0</td>\n",
       "      <td>4.939112</td>\n",
       "    </tr>\n",
       "    <tr>\n",
       "      <th>1</th>\n",
       "      <td>2012-11-06 16:07:25</td>\n",
       "      <td>00660001</td>\n",
       "      <td>2012-11-06</td>\n",
       "      <td>2877</td>\n",
       "      <td>Mon-Fri</td>\n",
       "      <td>0.237810</td>\n",
       "      <td>139.0</td>\n",
       "      <td>Slow</td>\n",
       "      <td>0.0</td>\n",
       "      <td>4.939112</td>\n",
       "    </tr>\n",
       "    <tr>\n",
       "      <th>2</th>\n",
       "      <td>2012-11-06 16:09:45</td>\n",
       "      <td>00660001</td>\n",
       "      <td>2012-11-06</td>\n",
       "      <td>2877</td>\n",
       "      <td>Mon-Fri</td>\n",
       "      <td>0.623865</td>\n",
       "      <td>279.0</td>\n",
       "      <td>Slow</td>\n",
       "      <td>0.0</td>\n",
       "      <td>4.939112</td>\n",
       "    </tr>\n",
       "    <tr>\n",
       "      <th>3</th>\n",
       "      <td>2012-11-06 16:17:27</td>\n",
       "      <td>00660001</td>\n",
       "      <td>2012-11-06</td>\n",
       "      <td>2877</td>\n",
       "      <td>Mon-Fri</td>\n",
       "      <td>1.320029</td>\n",
       "      <td>741.0</td>\n",
       "      <td>Slow</td>\n",
       "      <td>0.0</td>\n",
       "      <td>4.939112</td>\n",
       "    </tr>\n",
       "    <tr>\n",
       "      <th>4</th>\n",
       "      <td>2012-11-06 16:21:05</td>\n",
       "      <td>00660001</td>\n",
       "      <td>2012-11-06</td>\n",
       "      <td>2877</td>\n",
       "      <td>Mon-Fri</td>\n",
       "      <td>1.964579</td>\n",
       "      <td>959.0</td>\n",
       "      <td>Slow</td>\n",
       "      <td>0.0</td>\n",
       "      <td>4.939112</td>\n",
       "    </tr>\n",
       "  </tbody>\n",
       "</table>\n",
       "</div>"
      ],
      "text/plain": [
       "            Timestamp JourneyPatternId  TimeFrame VehicleJourneyId      Day  \\\n",
       "0 2012-11-06 16:05:06         00660001 2012-11-06             2877  Mon-Fri   \n",
       "1 2012-11-06 16:07:25         00660001 2012-11-06             2877  Mon-Fri   \n",
       "2 2012-11-06 16:09:45         00660001 2012-11-06             2877  Mon-Fri   \n",
       "3 2012-11-06 16:17:27         00660001 2012-11-06             2877  Mon-Fri   \n",
       "4 2012-11-06 16:21:05         00660001 2012-11-06             2877  Mon-Fri   \n",
       "\n",
       "   Distance  TravelTime TimeCategory  Rain  Avg_Speed  \n",
       "0  0.000000         0.0         Slow   0.0   4.939112  \n",
       "1  0.237810       139.0         Slow   0.0   4.939112  \n",
       "2  0.623865       279.0         Slow   0.0   4.939112  \n",
       "3  1.320029       741.0         Slow   0.0   4.939112  \n",
       "4  1.964579       959.0         Slow   0.0   4.939112  "
      ]
     },
     "execution_count": 92,
     "metadata": {},
     "output_type": "execute_result"
    }
   ],
   "source": [
    "df.head()"
   ]
  },
  {
   "cell_type": "code",
   "execution_count": 101,
   "metadata": {
    "collapsed": false
   },
   "outputs": [
    {
     "data": {
      "image/png": "[encoded data removed]",
      "text/plain": [
       "<matplotlib.figure.Figure at 0x1389fe48>"
      ]
     },
     "metadata": {},
     "output_type": "display_data"
    }
   ],
   "source": [
    "sns.boxplot(x=\"TimeCategory\", y=\"Avg_Speed\", data=df)\n",
    "\n",
    "plt.suptitle('Route 66 - Direction(0)', fontsize=20)\n",
    "plt.xlabel('Speed Category', fontsize=15)\n",
    "plt.ylabel('Average Speed m/s', fontsize=15)\n",
    "plt.savefig('Clustering Time Categories into Speed Ones.jpg')"
   ]
  },
  {
   "cell_type": "code",
   "execution_count": 136,
   "metadata": {
    "collapsed": false
   },
   "outputs": [
    {
     "name": "stdout",
     "output_type": "stream",
     "text": [
      "Variance score: 0.91\n"
     ]
    }
   ],
   "source": [
    "# Explained variance score: 1 is perfect prediction\n",
    "print('Variance score: %.2f' % regr.score(X_test, y_test))"
   ]
  },
  {
   "cell_type": "markdown",
   "metadata": {},
   "source": [
    "# Model With Rain"
   ]
  },
  {
   "cell_type": "code",
   "execution_count": 107,
   "metadata": {
    "collapsed": true
   },
   "outputs": [],
   "source": [
    "train = df[df['TimeFrame'] < '2012-11-16']\n",
    "test = df[df['TimeFrame'] >= '2012-11-16']"
   ]
  },
  {
   "cell_type": "code",
   "execution_count": 108,
   "metadata": {
    "collapsed": true
   },
   "outputs": [],
   "source": [
    "# create a fitted test model\n",
    "lm = smf.ols(formula='TravelTime ~ TimeCategory + Distance + Day + Rain', data=train).fit()"
   ]
  },
  {
   "cell_type": "code",
   "execution_count": 109,
   "metadata": {
    "collapsed": true
   },
   "outputs": [],
   "source": [
    "test_y = test[\"TravelTime\"]\n",
    "test_X = test[[\"Distance\", \"TimeCategory\", \"Day\", \"Rain\"]]"
   ]
  },
  {
   "cell_type": "code",
   "execution_count": 110,
   "metadata": {
    "collapsed": true
   },
   "outputs": [],
   "source": [
    "# test_X = test_X[test_X.TimeCategory != '00:00']\n",
    "predictions = lm.predict(test_X)"
   ]
  },
  {
   "cell_type": "code",
   "execution_count": 111,
   "metadata": {
    "collapsed": false
   },
   "outputs": [
    {
     "data": {
      "text/plain": [
       "267.74761510426623"
      ]
     },
     "execution_count": 111,
     "metadata": {},
     "output_type": "execute_result"
    }
   ],
   "source": [
    "# Custom Metric\n",
    "abs(abs(test_y) - abs(predictions)).mean()"
   ]
  },
  {
   "cell_type": "code",
   "execution_count": 112,
   "metadata": {
    "collapsed": false
   },
   "outputs": [
    {
     "name": "stdout",
     "output_type": "stream",
     "text": [
      "\n",
      "Mean Squared Error:\n",
      " 119332.29250922143\n"
     ]
    }
   ],
   "source": [
    "# Print the Mean Squared Error of the model on the training set\n",
    "mse = ((test_y - predictions)** 2).mean()\n",
    "print(\"\\nMean Squared Error:\\n\", mse)"
   ]
  },
  {
   "cell_type": "markdown",
   "metadata": {},
   "source": [
    "# Model Without Rain"
   ]
  },
  {
   "cell_type": "code",
   "execution_count": 113,
   "metadata": {
    "collapsed": true
   },
   "outputs": [],
   "source": [
    "# create a fitted test model\n",
    "lm = smf.ols(formula='TravelTime ~ TimeCategory + Distance + Day', data=train).fit()"
   ]
  },
  {
   "cell_type": "code",
   "execution_count": 114,
   "metadata": {
    "collapsed": true
   },
   "outputs": [],
   "source": [
    "test_y = test[\"TravelTime\"]\n",
    "test_X = test[[\"Distance\", \"TimeCategory\", \"Day\"]]"
   ]
  },
  {
   "cell_type": "code",
   "execution_count": 115,
   "metadata": {
    "collapsed": true
   },
   "outputs": [],
   "source": [
    "# test_X = test_X[test_X.TimeCategory != '00:00']\n",
    "predictions = lm.predict(test_X)"
   ]
  },
  {
   "cell_type": "code",
   "execution_count": 116,
   "metadata": {
    "collapsed": false
   },
   "outputs": [
    {
     "data": {
      "text/plain": [
       "266.1921064174133"
      ]
     },
     "execution_count": 116,
     "metadata": {},
     "output_type": "execute_result"
    }
   ],
   "source": [
    "# Custom Metric\n",
    "abs(abs(test_y) - abs(predictions)).mean()"
   ]
  },
  {
   "cell_type": "code",
   "execution_count": 117,
   "metadata": {
    "collapsed": false
   },
   "outputs": [
    {
     "name": "stdout",
     "output_type": "stream",
     "text": [
      "\n",
      "Mean Squared Error:\n",
      " 117800.91315674239\n"
     ]
    }
   ],
   "source": [
    "# Print the Mean Squared Error of the model on the training set\n",
    "mse = ((test_y - predictions)** 2).mean()\n",
    "print(\"\\nMean Squared Error:\\n\", mse)"
   ]
  },
  {
   "cell_type": "markdown",
   "metadata": {},
   "source": [
    "Even though Rain appears to make a difference adding the feature to the prediciton process appears to reduce accuracy"
   ]
  }
 ],
 "metadata": {
  "anaconda-cloud": {},
  "kernelspec": {
   "display_name": "Python [conda root]",
   "language": "python",
   "name": "conda-root-py"
  },
  "language_info": {
   "codemirror_mode": {
    "name": "ipython",
    "version": 3
   },
   "file_extension": ".py",
   "mimetype": "text/x-python",
   "name": "python",
   "nbconvert_exporter": "python",
   "pygments_lexer": "ipython3",
   "version": "3.5.2"
  }
 },
 "nbformat": 4,
 "nbformat_minor": 1
}
