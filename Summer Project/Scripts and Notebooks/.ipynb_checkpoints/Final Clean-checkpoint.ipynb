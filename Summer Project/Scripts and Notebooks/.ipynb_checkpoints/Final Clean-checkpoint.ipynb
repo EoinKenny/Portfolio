{
 "cells": [
  {
   "cell_type": "markdown",
   "metadata": {
    "collapsed": false
   },
   "source": [
    "# Final Clean"
   ]
  },
  {
   "cell_type": "code",
   "execution_count": 1,
   "metadata": {
    "collapsed": false
   },
   "outputs": [],
   "source": [
    "import pandas as pd\n",
    "import datetime\n",
    "import numpy as np\n",
    "\n",
    "from geopy.distance import vincenty\n",
    "from ipykernel import kernelapp as app\n",
    "from darksky import forecast"
   ]
  },
  {
   "cell_type": "code",
   "execution_count": 2,
   "metadata": {
    "collapsed": false
   },
   "outputs": [],
   "source": [
    "\"\"\" Loop though x number of CSV Files and Add Together Into One File \"\"\"\n",
    "\n",
    "\n",
    "# Make main df with first file\n",
    "df = pd.read_csv(\"siri.20121106.csv\", header = None, low_memory = False)\n",
    "df.columns = [\"Timestamp\", \"LineId\", \"Direction\", \"JourneyPatternId\", \"TimeFrame\", \"VehicleJourneyId\", \"BusOperator\", \"Congestion\", \"Long\", \"Lat\", \"Delay\", \"BlockId\", \"VehicleId\", \"StopId\", \"AtStop\"]\n",
    "\n",
    "# Loop though more files to add\n",
    "for i in range(7, ?????):\n",
    "    \n",
    "    if i < 10:\n",
    "        i = \"0\" + str(i)\n",
    "    \n",
    "    # Next file to add\n",
    "    file = \"siri.201211\" + str(i) + \".csv\"\n",
    "\n",
    "    # Make DataFrame to add to main df\n",
    "    df_to_add = pd.read_csv(file, header = None, low_memory = False)\n",
    "    df_to_add.columns = [\"Timestamp\", \"LineId\", \"Direction\", \"JourneyPatternId\", \"TimeFrame\", \"VehicleJourneyId\", \"BusOperator\", \"Congestion\", \"Long\", \"Lat\", \"Delay\", \"BlockId\", \"VehicleId\", \"StopId\", \"AtStop\"]\n",
    "\n",
    "    # Combine DataFrames\n",
    "    df = df.append(df_to_add ,ignore_index = True)"
   ]
  },
  {
   "cell_type": "code",
   "execution_count": 3,
   "metadata": {
    "collapsed": false
   },
   "outputs": [
    {
     "data": {
      "text/plain": [
       "(7340171, 15)"
      ]
     },
     "execution_count": 3,
     "metadata": {},
     "output_type": "execute_result"
    }
   ],
   "source": [
    "# Size of total raw data\n",
    "df.shape"
   ]
  },
  {
   "cell_type": "code",
   "execution_count": 4,
   "metadata": {
    "collapsed": false
   },
   "outputs": [
    {
     "data": {
      "text/html": [
       "<div>\n",
       "<table border=\"1\" class=\"dataframe\">\n",
       "  <thead>\n",
       "    <tr style=\"text-align: right;\">\n",
       "      <th></th>\n",
       "      <th>Timestamp</th>\n",
       "      <th>LineId</th>\n",
       "      <th>Direction</th>\n",
       "      <th>JourneyPatternId</th>\n",
       "      <th>TimeFrame</th>\n",
       "      <th>VehicleJourneyId</th>\n",
       "      <th>BusOperator</th>\n",
       "      <th>Congestion</th>\n",
       "      <th>Long</th>\n",
       "      <th>Lat</th>\n",
       "      <th>Delay</th>\n",
       "      <th>BlockId</th>\n",
       "      <th>VehicleId</th>\n",
       "      <th>StopId</th>\n",
       "      <th>AtStop</th>\n",
       "    </tr>\n",
       "  </thead>\n",
       "  <tbody>\n",
       "    <tr>\n",
       "      <th>0</th>\n",
       "      <td>1352246400000000</td>\n",
       "      <td>15</td>\n",
       "      <td>0</td>\n",
       "      <td>00151001</td>\n",
       "      <td>2012-11-06</td>\n",
       "      <td>5929</td>\n",
       "      <td>HN</td>\n",
       "      <td>0</td>\n",
       "      <td>-6.267883</td>\n",
       "      <td>53.417400</td>\n",
       "      <td>0</td>\n",
       "      <td>15105</td>\n",
       "      <td>33502</td>\n",
       "      <td>6317</td>\n",
       "      <td>1</td>\n",
       "    </tr>\n",
       "    <tr>\n",
       "      <th>1</th>\n",
       "      <td>1352246400000000</td>\n",
       "      <td>26</td>\n",
       "      <td>0</td>\n",
       "      <td>null</td>\n",
       "      <td>2012-11-06</td>\n",
       "      <td>3013</td>\n",
       "      <td>PO</td>\n",
       "      <td>0</td>\n",
       "      <td>-6.462793</td>\n",
       "      <td>53.356247</td>\n",
       "      <td>0</td>\n",
       "      <td>66008</td>\n",
       "      <td>33446</td>\n",
       "      <td>5114</td>\n",
       "      <td>0</td>\n",
       "    </tr>\n",
       "    <tr>\n",
       "      <th>2</th>\n",
       "      <td>1352246400000000</td>\n",
       "      <td>140</td>\n",
       "      <td>0</td>\n",
       "      <td>01400001</td>\n",
       "      <td>2012-11-06</td>\n",
       "      <td>6615</td>\n",
       "      <td>HN</td>\n",
       "      <td>0</td>\n",
       "      <td>-6.275084</td>\n",
       "      <td>53.347015</td>\n",
       "      <td>0</td>\n",
       "      <td>140010</td>\n",
       "      <td>40028</td>\n",
       "      <td>895</td>\n",
       "      <td>1</td>\n",
       "    </tr>\n",
       "    <tr>\n",
       "      <th>3</th>\n",
       "      <td>1352246400000000</td>\n",
       "      <td>7</td>\n",
       "      <td>0</td>\n",
       "      <td>null</td>\n",
       "      <td>2012-11-06</td>\n",
       "      <td>6527</td>\n",
       "      <td>D1</td>\n",
       "      <td>0</td>\n",
       "      <td>-6.146544</td>\n",
       "      <td>53.259068</td>\n",
       "      <td>292</td>\n",
       "      <td>7004</td>\n",
       "      <td>43001</td>\n",
       "      <td>4982</td>\n",
       "      <td>0</td>\n",
       "    </tr>\n",
       "    <tr>\n",
       "      <th>4</th>\n",
       "      <td>1352246400000000</td>\n",
       "      <td>40</td>\n",
       "      <td>0</td>\n",
       "      <td>040D1001</td>\n",
       "      <td>2012-11-06</td>\n",
       "      <td>2466</td>\n",
       "      <td>HN</td>\n",
       "      <td>0</td>\n",
       "      <td>-6.261073</td>\n",
       "      <td>53.352112</td>\n",
       "      <td>-338</td>\n",
       "      <td>40207</td>\n",
       "      <td>40029</td>\n",
       "      <td>4725</td>\n",
       "      <td>1</td>\n",
       "    </tr>\n",
       "  </tbody>\n",
       "</table>\n",
       "</div>"
      ],
      "text/plain": [
       "          Timestamp LineId  Direction JourneyPatternId   TimeFrame  \\\n",
       "0  1352246400000000     15          0         00151001  2012-11-06   \n",
       "1  1352246400000000     26          0             null  2012-11-06   \n",
       "2  1352246400000000    140          0         01400001  2012-11-06   \n",
       "3  1352246400000000      7          0             null  2012-11-06   \n",
       "4  1352246400000000     40          0         040D1001  2012-11-06   \n",
       "\n",
       "   VehicleJourneyId BusOperator  Congestion      Long        Lat  Delay  \\\n",
       "0              5929          HN           0 -6.267883  53.417400      0   \n",
       "1              3013          PO           0 -6.462793  53.356247      0   \n",
       "2              6615          HN           0 -6.275084  53.347015      0   \n",
       "3              6527          D1           0 -6.146544  53.259068    292   \n",
       "4              2466          HN           0 -6.261073  53.352112   -338   \n",
       "\n",
       "   BlockId  VehicleId StopId  AtStop  \n",
       "0    15105      33502   6317       1  \n",
       "1    66008      33446   5114       0  \n",
       "2   140010      40028    895       1  \n",
       "3     7004      43001   4982       0  \n",
       "4    40207      40029   4725       1  "
      ]
     },
     "execution_count": 4,
     "metadata": {},
     "output_type": "execute_result"
    }
   ],
   "source": [
    "df.head()"
   ]
  },
  {
   "cell_type": "code",
   "execution_count": 5,
   "metadata": {
    "collapsed": true
   },
   "outputs": [],
   "source": [
    "# Constant Column\n",
    "del df[\"Direction\"]"
   ]
  },
  {
   "cell_type": "markdown",
   "metadata": {},
   "source": [
    "#### Note About The Following Cell:\n",
    "This is the way we are sorting the data. First the Timeframe is the most important since it holds a unique Vehicle Journey ID (or it should) for every journey each day. \n",
    "Ideally we would then sort by VehicleJourneyId but the reality is that the data is messy. In order to avoid two buses at opposite sides of the city causing issues with the dataset we will now sort by the vehicle ID.\n",
    "Next the vehicle journey ID makes sense since we can then start to sort the entire dataset into individual journeys along a certain route.\n",
    "Lastly timestamp is obvious.\n",
    "\n",
    "We'll use this cell several times to keep the dataframe sorted and the index correct, as many of the loops in this notebook require this.\n",
    "\n",
    "You should deduce from this that there will be several cases of a VehicleJourneyId being repeated. cleaning up this is part of the challenge."
   ]
  },
  {
   "cell_type": "code",
   "execution_count": 6,
   "metadata": {
    "collapsed": true
   },
   "outputs": [],
   "source": [
    "# Organise the Data\n",
    "df = df.sort_values(['TimeFrame', 'VehicleId', 'VehicleJourneyId', 'Timestamp'], ascending=True)\n",
    "\n",
    "# Clean up index\n",
    "df = df.reset_index()\n",
    "del df['index']"
   ]
  },
  {
   "cell_type": "code",
   "execution_count": 7,
   "metadata": {
    "collapsed": false
   },
   "outputs": [],
   "source": [
    "# Save raw data\n",
    "df.to_csv(\"raw_data.csv\", index=False)"
   ]
  },
  {
   "cell_type": "markdown",
   "metadata": {},
   "source": [
    "## Clean Up Nulls, Duplicate Rows & Start of TimeFrame"
   ]
  },
  {
   "cell_type": "code",
   "execution_count": 89,
   "metadata": {
    "collapsed": false
   },
   "outputs": [
    {
     "data": {
      "text/plain": [
       "Timestamp           0\n",
       "LineId              3\n",
       "JourneyPatternId    0\n",
       "TimeFrame           0\n",
       "VehicleJourneyId    0\n",
       "BusOperator         0\n",
       "Congestion          0\n",
       "Long                0\n",
       "Lat                 0\n",
       "Delay               0\n",
       "BlockId             0\n",
       "VehicleId           0\n",
       "StopId              0\n",
       "AtStop              0\n",
       "Distance            0\n",
       "TravelTime          0\n",
       "Weekday             0\n",
       "TimeCategory        0\n",
       "dtype: int64"
      ]
     },
     "execution_count": 89,
     "metadata": {},
     "output_type": "execute_result"
    }
   ],
   "source": [
    "df.isnull().sum()"
   ]
  },
  {
   "cell_type": "code",
   "execution_count": 10,
   "metadata": {
    "collapsed": true
   },
   "outputs": [],
   "source": [
    "# Data from the 5th is not reliable, since some journey's continued from the previous day, we must remove it. \n",
    "df = df[df.TimeFrame != '2012-11-05']"
   ]
  },
  {
   "cell_type": "code",
   "execution_count": 11,
   "metadata": {
    "collapsed": true
   },
   "outputs": [],
   "source": [
    "\"\"\" Before each bus begins its journey it may not have a JourneyPatternId and records literal 'null' values instead\n",
    "of actual data. These rows refer to instances where the bus is idle and hasn't moved anywhere, therefore they can \n",
    "confidently be deleted. StopID equal to 'null' also represents noise in the data. \"\"\"\n",
    "\n",
    "\n",
    "df = df[df.JourneyPatternId != 'null']\n",
    "df = df[df.StopId != 'null']"
   ]
  },
  {
   "cell_type": "code",
   "execution_count": 12,
   "metadata": {
    "collapsed": false
   },
   "outputs": [
    {
     "data": {
      "text/plain": [
       "' Remove actual nulls from data '"
      ]
     },
     "execution_count": 12,
     "metadata": {},
     "output_type": "execute_result"
    }
   ],
   "source": [
    "# Remove actual nulls from data\n",
    "df = df.dropna()"
   ]
  },
  {
   "cell_type": "code",
   "execution_count": 13,
   "metadata": {
    "collapsed": true
   },
   "outputs": [],
   "source": [
    "# Organise the Data\n",
    "df = df.sort_values(['TimeFrame', 'VehicleId', 'VehicleJourneyId', 'Timestamp'], ascending=True)\n",
    "\n",
    "# Clean up index\n",
    "df = df.reset_index()\n",
    "del df['index']"
   ]
  },
  {
   "cell_type": "code",
   "execution_count": 14,
   "metadata": {
    "collapsed": false
   },
   "outputs": [
    {
     "data": {
      "text/plain": [
       "(6232318, 14)"
      ]
     },
     "execution_count": 14,
     "metadata": {},
     "output_type": "execute_result"
    }
   ],
   "source": [
    "# Check deletion worked\n",
    "df.shape"
   ]
  },
  {
   "cell_type": "code",
   "execution_count": 15,
   "metadata": {
    "collapsed": true
   },
   "outputs": [],
   "source": [
    "# Drop any duplicated rows\n",
    "df = df.drop_duplicates()"
   ]
  },
  {
   "cell_type": "code",
   "execution_count": 16,
   "metadata": {
    "collapsed": false
   },
   "outputs": [],
   "source": [
    "# Organise the Data\n",
    "df = df.sort_values(['TimeFrame', 'VehicleId', 'VehicleJourneyId', 'Timestamp'], ascending=True)\n",
    "\n",
    "# Clean up index\n",
    "df = df.reset_index()\n",
    "del df['index']"
   ]
  },
  {
   "cell_type": "code",
   "execution_count": 17,
   "metadata": {
    "collapsed": false
   },
   "outputs": [
    {
     "data": {
      "text/plain": [
       "(6232318, 14)"
      ]
     },
     "execution_count": 17,
     "metadata": {},
     "output_type": "execute_result"
    }
   ],
   "source": [
    "df.shape"
   ]
  },
  {
   "cell_type": "code",
   "execution_count": 18,
   "metadata": {
    "collapsed": true
   },
   "outputs": [],
   "source": [
    "# Optional Save\n",
    "df.to_csv(\"first_stage.csv\", index=False)"
   ]
  },
  {
   "cell_type": "markdown",
   "metadata": {},
   "source": [
    "## Remove General Noise"
   ]
  },
  {
   "cell_type": "code",
   "execution_count": 19,
   "metadata": {
    "collapsed": false
   },
   "outputs": [],
   "source": [
    "\"\"\" Remove every VehicleJourneyId which is equal to or below 5 rows in length. Realistically any journey (even the short ones)\n",
    "should be at least 5 rows of data in length, anything else is just noise. \"\"\"\n",
    "\n",
    "\n",
    "gb = df.groupby([\"TimeFrame\", \"VehicleId\", \"VehicleJourneyId\"], as_index=False, group_keys=False)\n",
    "\n",
    "gb = gb.filter(lambda x: len(x) > 5)\n",
    "\n",
    "df = pd.DataFrame(gb)"
   ]
  },
  {
   "cell_type": "code",
   "execution_count": 20,
   "metadata": {
    "collapsed": true
   },
   "outputs": [],
   "source": [
    "# Organise the Data\n",
    "df = df.sort_values(['TimeFrame', 'VehicleId', 'VehicleJourneyId', 'Timestamp'], ascending=True)\n",
    "\n",
    "# Clean up index\n",
    "df = df.reset_index()\n",
    "del df['index']"
   ]
  },
  {
   "cell_type": "markdown",
   "metadata": {},
   "source": [
    "## Remove Extra JourneyPatternId's From VehicleJourneyId's"
   ]
  },
  {
   "cell_type": "code",
   "execution_count": 21,
   "metadata": {
    "collapsed": true
   },
   "outputs": [],
   "source": [
    "# Create group object to work with \n",
    "gb = df.groupby([\"TimeFrame\", \"VehicleId\", \"VehicleJourneyId\"], as_index=False, group_keys=False)"
   ]
  },
  {
   "cell_type": "code",
   "execution_count": 22,
   "metadata": {
    "collapsed": true
   },
   "outputs": [],
   "source": [
    "def delete_outlier_journeypatternid(group):\n",
    "    \"\"\" Takes a pandas group object and iterates removing the least occuring JourneyPatterId in each.\n",
    "    If there are more than two or the occurances of the two are equal, it ignores it. \"\"\"\n",
    "    \n",
    "        \n",
    "    # If there's two Journey Pattern ID's\n",
    "    if len(group[\"JourneyPatternId\"].value_counts()) == 2:\n",
    "        \n",
    "        x = group[\"JourneyPatternId\"].value_counts()\n",
    "                \n",
    "        # If the two journey pattern ID's occupy the same space then do nothing (likely it's a 'noise' journey)\n",
    "        if x[0] != x[1]:\n",
    "                    \n",
    "            real_id = group[\"JourneyPatternId\"].value_counts().index.tolist()[0] \n",
    "            group = group[group.JourneyPatternId == real_id]\n",
    "            \n",
    "    return group"
   ]
  },
  {
   "cell_type": "code",
   "execution_count": 23,
   "metadata": {
    "collapsed": false
   },
   "outputs": [],
   "source": [
    "# Apply the mapping function to the dataset\n",
    "df = gb.apply(delete_outlier_journeypatternid)"
   ]
  },
  {
   "cell_type": "code",
   "execution_count": 24,
   "metadata": {
    "collapsed": true
   },
   "outputs": [],
   "source": [
    "# Organise the Data\n",
    "df = df.sort_values(['TimeFrame', 'VehicleId', 'VehicleJourneyId', 'Timestamp'], ascending=True)\n",
    "\n",
    "# Clean up index\n",
    "df = df.reset_index()\n",
    "del df['index']"
   ]
  },
  {
   "cell_type": "code",
   "execution_count": 25,
   "metadata": {
    "collapsed": true
   },
   "outputs": [],
   "source": [
    "# Delete outliers (journey's with 3 id's and other noise inc. nulls)\n",
    "df = gb.filter(lambda x: len(x[\"JourneyPatternId\"].unique()) == 1)"
   ]
  },
  {
   "cell_type": "code",
   "execution_count": 26,
   "metadata": {
    "collapsed": false
   },
   "outputs": [
    {
     "data": {
      "text/plain": [
       "0"
      ]
     },
     "execution_count": 26,
     "metadata": {},
     "output_type": "execute_result"
    }
   ],
   "source": [
    "# Check to see it worked\n",
    "\n",
    "gb = df.groupby([\"TimeFrame\", \"VehicleId\", \"VehicleJourneyId\"], as_index=False, group_keys=False)\n",
    "\n",
    "count = 0\n",
    "\n",
    "for item in gb:\n",
    "    \n",
    "    if len(item[1][\"JourneyPatternId\"].value_counts()) > 1:\n",
    "        count += 1\n",
    "        \n",
    "count"
   ]
  },
  {
   "cell_type": "code",
   "execution_count": 27,
   "metadata": {
    "collapsed": false
   },
   "outputs": [
    {
     "data": {
      "text/plain": [
       "(4142717, 14)"
      ]
     },
     "execution_count": 27,
     "metadata": {},
     "output_type": "execute_result"
    }
   ],
   "source": [
    "df.shape"
   ]
  },
  {
   "cell_type": "code",
   "execution_count": 28,
   "metadata": {
    "collapsed": true
   },
   "outputs": [],
   "source": [
    "# Organise the Data\n",
    "df = df.sort_values(['TimeFrame', 'VehicleId', 'VehicleJourneyId', 'Timestamp'], ascending=True)\n",
    "\n",
    "# Clean up index\n",
    "df = df.reset_index()\n",
    "del df['index']"
   ]
  },
  {
   "cell_type": "markdown",
   "metadata": {},
   "source": [
    "## Remove Vehicle Journey ID's With Two Occurances Each Day"
   ]
  },
  {
   "cell_type": "markdown",
   "metadata": {},
   "source": [
    "These can either be...\n",
    "* Two buses completing the same route together with a stopover.\n",
    "* Incomplete journey's.\n",
    "* General noise in the data.\n",
    "\n",
    "In any case they occupy less than 1% of the data and change week to week, so they can be dropped without overall loss of data integrity."
   ]
  },
  {
   "cell_type": "code",
   "execution_count": 29,
   "metadata": {
    "collapsed": true
   },
   "outputs": [],
   "source": [
    "# Filter out these outliers\n",
    "\n",
    "gb = df.groupby([\"TimeFrame\", \"VehicleJourneyId\"], as_index=False, group_keys=False)\n",
    "\n",
    "gb = gb.filter(lambda x: len(x[\"VehicleId\"].unique()) == 1)\n",
    "\n",
    "df = pd.DataFrame(gb)"
   ]
  },
  {
   "cell_type": "code",
   "execution_count": 30,
   "metadata": {
    "collapsed": false
   },
   "outputs": [
    {
     "data": {
      "text/plain": [
       "0"
      ]
     },
     "execution_count": 30,
     "metadata": {},
     "output_type": "execute_result"
    }
   ],
   "source": [
    "# See if it worked\n",
    "\n",
    "x = df.groupby([\"TimeFrame\", \"VehicleJourneyId\"])[\"VehicleId\"].unique()\n",
    "\n",
    "count = 0\n",
    "\n",
    "for i in x:\n",
    "    \n",
    "    if len(i) > 1:\n",
    "        count += 1\n",
    "\n",
    "count   "
   ]
  },
  {
   "cell_type": "code",
   "execution_count": 31,
   "metadata": {
    "collapsed": true
   },
   "outputs": [],
   "source": [
    "# Organise the Data\n",
    "df = df.sort_values(['TimeFrame', 'VehicleId', 'VehicleJourneyId', 'Timestamp'], ascending=True)\n",
    "\n",
    "# Clean up index\n",
    "df = df.reset_index()\n",
    "del df['index']"
   ]
  },
  {
   "cell_type": "code",
   "execution_count": 32,
   "metadata": {
    "collapsed": false
   },
   "outputs": [
    {
     "data": {
      "text/plain": [
       "(4035318, 14)"
      ]
     },
     "execution_count": 32,
     "metadata": {},
     "output_type": "execute_result"
    }
   ],
   "source": [
    "df.shape"
   ]
  },
  {
   "cell_type": "code",
   "execution_count": 33,
   "metadata": {
    "collapsed": true
   },
   "outputs": [],
   "source": [
    "df.to_csv(\"second_stage.csv\", index=False)"
   ]
  },
  {
   "cell_type": "markdown",
   "metadata": {},
   "source": [
    "So now, to recap there is only one instance of each VehicleJourneyId each day and each of them has a unique JourneyPatternId."
   ]
  },
  {
   "cell_type": "markdown",
   "metadata": {},
   "source": [
    "# Clean Up Start Of Journeys"
   ]
  },
  {
   "cell_type": "code",
   "execution_count": 34,
   "metadata": {
    "collapsed": true
   },
   "outputs": [],
   "source": [
    "\"\"\" If the GPS coordinates remain the same for the first few rows of data, delete them. \"\"\"\n",
    "\n",
    "\n",
    "for item, row in df.iterrows():\n",
    "    \n",
    "    # For the first iteration\n",
    "    if item == 0:\n",
    "        last_bus_id = row[4]\n",
    "        last_lat = row[8]\n",
    "        last_long = row[7]\n",
    "        new_start = True\n",
    "        continue\n",
    "    \n",
    "    # For every iteration\n",
    "    current_bus_id = row[4]\n",
    "    current_lat = row[8]\n",
    "    current_long = row[7]\n",
    "    \n",
    "    # If it's a different vehicle journey id\n",
    "    if last_bus_id != current_bus_id:\n",
    "        last_bus_id = row[4]\n",
    "        last_lat = row[8]\n",
    "        last_long = row[7]\n",
    "        new_start = True\n",
    "        continue\n",
    "  \n",
    "    # If it's the same journey\n",
    "    if new_start:\n",
    "        if current_lat == last_lat:\n",
    "            if current_long == last_long:\n",
    "                # Flag\n",
    "                df.set_value(item - 1, \"VehicleJourneyId\", 0)\n",
    "                last_bus_id = row[4]\n",
    "                last_lat = row[8]\n",
    "                last_long = row[7]\n",
    "                continue\n",
    "                \n",
    "    # If it's the same journey but it's moved\n",
    "    if last_bus_id == current_bus_id:\n",
    "        if current_lat != last_lat or current_long != last_long:\n",
    "            new_start = False"
   ]
  },
  {
   "cell_type": "code",
   "execution_count": 35,
   "metadata": {
    "collapsed": true
   },
   "outputs": [],
   "source": [
    "# Filter Out Rows Flagged\n",
    "df = df[df.VehicleJourneyId != 0]"
   ]
  },
  {
   "cell_type": "code",
   "execution_count": 36,
   "metadata": {
    "collapsed": true
   },
   "outputs": [],
   "source": [
    "# Organise the Data\n",
    "df = df.sort_values(['TimeFrame', 'VehicleId', 'VehicleJourneyId', 'Timestamp'], ascending=True)\n",
    "\n",
    "# Clean up index\n",
    "df = df.reset_index()\n",
    "del df['index']"
   ]
  },
  {
   "cell_type": "code",
   "execution_count": 37,
   "metadata": {
    "collapsed": false
   },
   "outputs": [
    {
     "data": {
      "text/plain": [
       "(3956239, 14)"
      ]
     },
     "execution_count": 37,
     "metadata": {},
     "output_type": "execute_result"
    }
   ],
   "source": [
    "df.shape"
   ]
  },
  {
   "cell_type": "code",
   "execution_count": 38,
   "metadata": {
    "collapsed": true
   },
   "outputs": [],
   "source": [
    "df.to_csv(\"third_stage.csv\", index=False)"
   ]
  },
  {
   "cell_type": "markdown",
   "metadata": {},
   "source": [
    "## Add Distance Feature"
   ]
  },
  {
   "cell_type": "markdown",
   "metadata": {},
   "source": [
    "Before dropping duplicate StopId's we must first measure the distance on each route. This requires that we use all rows of data.\n",
    "\n",
    "This will also make any VehicleJourneyId's which miss a stop along their journey useful data in the model."
   ]
  },
  {
   "cell_type": "code",
   "execution_count": 39,
   "metadata": {
    "collapsed": true
   },
   "outputs": [],
   "source": [
    "def get_distance(lat1, long1, lat2, long2):\n",
    "    \"\"\" Get distance between two geo coordinates \"\"\"\n",
    "    \n",
    "    stop1 = (lat1, long1)\n",
    "    stop2 = (lat2, long2)\n",
    "    \n",
    "    return vincenty(stop1, stop2).meters"
   ]
  },
  {
   "cell_type": "code",
   "execution_count": 40,
   "metadata": {
    "collapsed": false
   },
   "outputs": [],
   "source": [
    "# List to hold feature\n",
    "distance = list()\n",
    "\n",
    "for item, row in df.iterrows():\n",
    "    \n",
    "    # Set up values on first iteration\n",
    "    if item == 0:\n",
    "        last_lat = row[8]\n",
    "        last_long = row[7]\n",
    "        last_id = row[4]\n",
    "        last_distance = 0\n",
    "        \n",
    "        distance.append(0)\n",
    "        continue\n",
    "    \n",
    "    current_id = row[4]\n",
    "    current_lat = row[8]\n",
    "    current_long = row[7]\n",
    "    current_distance = get_distance(current_lat, current_long, last_lat, last_long)\n",
    "    \n",
    "    # If it's a new Journey ID\n",
    "    if current_id != last_id:\n",
    "        last_id = row[4]\n",
    "        last_lat = row[8]\n",
    "        last_long = row[7]\n",
    "        last_distance = 0\n",
    "        \n",
    "        distance.append(0)\n",
    "        continue\n",
    "     \n",
    "    # If it's not a new Journey ID\n",
    "    current_distance = get_distance(current_lat, current_long, last_lat, last_long)\n",
    "    distance.append(last_distance + current_distance)\n",
    "    \n",
    "    last_distance = distance[-1]\n",
    "    last_lat = row[8]\n",
    "    last_long = row[7]\n",
    "    last_id = row[4]"
   ]
  },
  {
   "cell_type": "code",
   "execution_count": 41,
   "metadata": {
    "collapsed": false
   },
   "outputs": [],
   "source": [
    "df[\"Distance\"] = distance"
   ]
  },
  {
   "cell_type": "code",
   "execution_count": 42,
   "metadata": {
    "collapsed": false
   },
   "outputs": [
    {
     "data": {
      "text/html": [
       "<div>\n",
       "<table border=\"1\" class=\"dataframe\">\n",
       "  <thead>\n",
       "    <tr style=\"text-align: right;\">\n",
       "      <th></th>\n",
       "      <th>Timestamp</th>\n",
       "      <th>LineId</th>\n",
       "      <th>JourneyPatternId</th>\n",
       "      <th>TimeFrame</th>\n",
       "      <th>VehicleJourneyId</th>\n",
       "      <th>BusOperator</th>\n",
       "      <th>Congestion</th>\n",
       "      <th>Long</th>\n",
       "      <th>Lat</th>\n",
       "      <th>Delay</th>\n",
       "      <th>BlockId</th>\n",
       "      <th>VehicleId</th>\n",
       "      <th>StopId</th>\n",
       "      <th>AtStop</th>\n",
       "      <th>Distance</th>\n",
       "    </tr>\n",
       "  </thead>\n",
       "  <tbody>\n",
       "    <tr>\n",
       "      <th>0</th>\n",
       "      <td>1352274251000000</td>\n",
       "      <td>15</td>\n",
       "      <td>015A0002</td>\n",
       "      <td>2012-11-07</td>\n",
       "      <td>3174</td>\n",
       "      <td>RD</td>\n",
       "      <td>0</td>\n",
       "      <td>-6.233317</td>\n",
       "      <td>53.342152</td>\n",
       "      <td>0</td>\n",
       "      <td>15032</td>\n",
       "      <td>24549</td>\n",
       "      <td>395</td>\n",
       "      <td>1</td>\n",
       "      <td>0.000000</td>\n",
       "    </tr>\n",
       "    <tr>\n",
       "      <th>1</th>\n",
       "      <td>1352274269000000</td>\n",
       "      <td>15</td>\n",
       "      <td>015A0002</td>\n",
       "      <td>2012-11-07</td>\n",
       "      <td>3174</td>\n",
       "      <td>RD</td>\n",
       "      <td>0</td>\n",
       "      <td>-6.233333</td>\n",
       "      <td>53.342152</td>\n",
       "      <td>0</td>\n",
       "      <td>15032</td>\n",
       "      <td>24549</td>\n",
       "      <td>395</td>\n",
       "      <td>1</td>\n",
       "      <td>1.065683</td>\n",
       "    </tr>\n",
       "    <tr>\n",
       "      <th>2</th>\n",
       "      <td>1352274288000000</td>\n",
       "      <td>15</td>\n",
       "      <td>015A0002</td>\n",
       "      <td>2012-11-07</td>\n",
       "      <td>3174</td>\n",
       "      <td>RD</td>\n",
       "      <td>0</td>\n",
       "      <td>-6.233317</td>\n",
       "      <td>53.342133</td>\n",
       "      <td>0</td>\n",
       "      <td>15032</td>\n",
       "      <td>24549</td>\n",
       "      <td>395</td>\n",
       "      <td>1</td>\n",
       "      <td>3.433604</td>\n",
       "    </tr>\n",
       "    <tr>\n",
       "      <th>3</th>\n",
       "      <td>1352274290000000</td>\n",
       "      <td>15</td>\n",
       "      <td>015A0002</td>\n",
       "      <td>2012-11-07</td>\n",
       "      <td>3174</td>\n",
       "      <td>RD</td>\n",
       "      <td>0</td>\n",
       "      <td>-6.233317</td>\n",
       "      <td>53.342133</td>\n",
       "      <td>0</td>\n",
       "      <td>15032</td>\n",
       "      <td>24549</td>\n",
       "      <td>395</td>\n",
       "      <td>1</td>\n",
       "      <td>3.433604</td>\n",
       "    </tr>\n",
       "    <tr>\n",
       "      <th>4</th>\n",
       "      <td>1352274308000000</td>\n",
       "      <td>15</td>\n",
       "      <td>015A0002</td>\n",
       "      <td>2012-11-07</td>\n",
       "      <td>3174</td>\n",
       "      <td>RD</td>\n",
       "      <td>0</td>\n",
       "      <td>-6.233300</td>\n",
       "      <td>53.342152</td>\n",
       "      <td>0</td>\n",
       "      <td>15032</td>\n",
       "      <td>24549</td>\n",
       "      <td>395</td>\n",
       "      <td>1</td>\n",
       "      <td>5.832238</td>\n",
       "    </tr>\n",
       "  </tbody>\n",
       "</table>\n",
       "</div>"
      ],
      "text/plain": [
       "          Timestamp LineId JourneyPatternId   TimeFrame  VehicleJourneyId  \\\n",
       "0  1352274251000000     15         015A0002  2012-11-07              3174   \n",
       "1  1352274269000000     15         015A0002  2012-11-07              3174   \n",
       "2  1352274288000000     15         015A0002  2012-11-07              3174   \n",
       "3  1352274290000000     15         015A0002  2012-11-07              3174   \n",
       "4  1352274308000000     15         015A0002  2012-11-07              3174   \n",
       "\n",
       "  BusOperator  Congestion      Long        Lat  Delay  BlockId  VehicleId  \\\n",
       "0          RD           0 -6.233317  53.342152      0    15032      24549   \n",
       "1          RD           0 -6.233333  53.342152      0    15032      24549   \n",
       "2          RD           0 -6.233317  53.342133      0    15032      24549   \n",
       "3          RD           0 -6.233317  53.342133      0    15032      24549   \n",
       "4          RD           0 -6.233300  53.342152      0    15032      24549   \n",
       "\n",
       "  StopId  AtStop  Distance  \n",
       "0    395       1  0.000000  \n",
       "1    395       1  1.065683  \n",
       "2    395       1  3.433604  \n",
       "3    395       1  3.433604  \n",
       "4    395       1  5.832238  "
      ]
     },
     "execution_count": 42,
     "metadata": {},
     "output_type": "execute_result"
    }
   ],
   "source": [
    "df.head()"
   ]
  },
  {
   "cell_type": "code",
   "execution_count": 43,
   "metadata": {
    "collapsed": true
   },
   "outputs": [],
   "source": [
    "df.to_csv(\"fourth_stage.csv\", index=False)"
   ]
  },
  {
   "cell_type": "markdown",
   "metadata": {},
   "source": [
    "## Remove Stop ID Duplicates"
   ]
  },
  {
   "cell_type": "markdown",
   "metadata": {},
   "source": [
    "Now we can filter the dataframe a little by removing dupicate stopID's. Although it would be better to train on every row it might be too much to compute. \n",
    "\n",
    "This will also help us later in making the database stop distances. There is not enough information to map the exact distance to each stop, so we will have to take some kind of average of the AtStop == 0 columns and subtract a little to get a rough distance to each stop in a Journey Pattern ID.\n",
    "\n",
    "Because this section keeps the first occurance of each StopId, this should be a very accurate way to estimate the distance to each stop on each route."
   ]
  },
  {
   "cell_type": "code",
   "execution_count": 44,
   "metadata": {
    "collapsed": true
   },
   "outputs": [],
   "source": [
    "\"\"\" This will delete all duplicates AFTER the first example of each is found. So when the bus arrives at the stop, \n",
    "all subsequent rows at that stop will be deleted. \"\"\"\n",
    "\n",
    "df = df.drop_duplicates([\"TimeFrame\", 'VehicleId', \"VehicleJourneyId\", \"StopId\"])"
   ]
  },
  {
   "cell_type": "code",
   "execution_count": 45,
   "metadata": {
    "collapsed": true
   },
   "outputs": [],
   "source": [
    "# Organise the Data\n",
    "df = df.sort_values(['TimeFrame', 'VehicleId', 'VehicleJourneyId', 'Timestamp'], ascending=True)\n",
    "\n",
    "# Clean up index\n",
    "df = df.reset_index()\n",
    "del df['index']"
   ]
  },
  {
   "cell_type": "code",
   "execution_count": 46,
   "metadata": {
    "collapsed": false
   },
   "outputs": [
    {
     "data": {
      "text/plain": [
       "(1052976, 15)"
      ]
     },
     "execution_count": 46,
     "metadata": {},
     "output_type": "execute_result"
    }
   ],
   "source": [
    "# Check size of dataframe\n",
    "df.shape"
   ]
  },
  {
   "cell_type": "code",
   "execution_count": 47,
   "metadata": {
    "collapsed": false,
    "scrolled": false
   },
   "outputs": [
    {
     "data": {
      "text/html": [
       "<div>\n",
       "<table border=\"1\" class=\"dataframe\">\n",
       "  <thead>\n",
       "    <tr style=\"text-align: right;\">\n",
       "      <th></th>\n",
       "      <th>Timestamp</th>\n",
       "      <th>LineId</th>\n",
       "      <th>JourneyPatternId</th>\n",
       "      <th>TimeFrame</th>\n",
       "      <th>VehicleJourneyId</th>\n",
       "      <th>BusOperator</th>\n",
       "      <th>Congestion</th>\n",
       "      <th>Long</th>\n",
       "      <th>Lat</th>\n",
       "      <th>Delay</th>\n",
       "      <th>BlockId</th>\n",
       "      <th>VehicleId</th>\n",
       "      <th>StopId</th>\n",
       "      <th>AtStop</th>\n",
       "      <th>Distance</th>\n",
       "    </tr>\n",
       "  </thead>\n",
       "  <tbody>\n",
       "    <tr>\n",
       "      <th>0</th>\n",
       "      <td>1352274251000000</td>\n",
       "      <td>15</td>\n",
       "      <td>015A0002</td>\n",
       "      <td>2012-11-07</td>\n",
       "      <td>3174</td>\n",
       "      <td>RD</td>\n",
       "      <td>0</td>\n",
       "      <td>-6.233317</td>\n",
       "      <td>53.342152</td>\n",
       "      <td>0</td>\n",
       "      <td>15032</td>\n",
       "      <td>24549</td>\n",
       "      <td>395</td>\n",
       "      <td>1</td>\n",
       "      <td>0.000000</td>\n",
       "    </tr>\n",
       "    <tr>\n",
       "      <th>1</th>\n",
       "      <td>1352274351000000</td>\n",
       "      <td>15</td>\n",
       "      <td>015A0002</td>\n",
       "      <td>2012-11-07</td>\n",
       "      <td>3174</td>\n",
       "      <td>RD</td>\n",
       "      <td>0</td>\n",
       "      <td>-6.234283</td>\n",
       "      <td>53.341900</td>\n",
       "      <td>0</td>\n",
       "      <td>15032</td>\n",
       "      <td>24549</td>\n",
       "      <td>396</td>\n",
       "      <td>0</td>\n",
       "      <td>83.281841</td>\n",
       "    </tr>\n",
       "    <tr>\n",
       "      <th>2</th>\n",
       "      <td>1352274688000000</td>\n",
       "      <td>15</td>\n",
       "      <td>015A0002</td>\n",
       "      <td>2012-11-07</td>\n",
       "      <td>3174</td>\n",
       "      <td>RD</td>\n",
       "      <td>0</td>\n",
       "      <td>-6.243330</td>\n",
       "      <td>53.346352</td>\n",
       "      <td>223</td>\n",
       "      <td>15032</td>\n",
       "      <td>24549</td>\n",
       "      <td>7371</td>\n",
       "      <td>0</td>\n",
       "      <td>1293.444401</td>\n",
       "    </tr>\n",
       "    <tr>\n",
       "      <th>3</th>\n",
       "      <td>1352274809000000</td>\n",
       "      <td>15</td>\n",
       "      <td>015A0002</td>\n",
       "      <td>2012-11-07</td>\n",
       "      <td>3174</td>\n",
       "      <td>RD</td>\n",
       "      <td>0</td>\n",
       "      <td>-6.248244</td>\n",
       "      <td>53.343922</td>\n",
       "      <td>142</td>\n",
       "      <td>15032</td>\n",
       "      <td>24549</td>\n",
       "      <td>399</td>\n",
       "      <td>1</td>\n",
       "      <td>1774.570774</td>\n",
       "    </tr>\n",
       "    <tr>\n",
       "      <th>4</th>\n",
       "      <td>1352274948000000</td>\n",
       "      <td>15</td>\n",
       "      <td>015A0002</td>\n",
       "      <td>2012-11-07</td>\n",
       "      <td>3174</td>\n",
       "      <td>RD</td>\n",
       "      <td>0</td>\n",
       "      <td>-6.255507</td>\n",
       "      <td>53.345360</td>\n",
       "      <td>170</td>\n",
       "      <td>15032</td>\n",
       "      <td>24549</td>\n",
       "      <td>400</td>\n",
       "      <td>0</td>\n",
       "      <td>2284.165206</td>\n",
       "    </tr>\n",
       "  </tbody>\n",
       "</table>\n",
       "</div>"
      ],
      "text/plain": [
       "          Timestamp LineId JourneyPatternId   TimeFrame  VehicleJourneyId  \\\n",
       "0  1352274251000000     15         015A0002  2012-11-07              3174   \n",
       "1  1352274351000000     15         015A0002  2012-11-07              3174   \n",
       "2  1352274688000000     15         015A0002  2012-11-07              3174   \n",
       "3  1352274809000000     15         015A0002  2012-11-07              3174   \n",
       "4  1352274948000000     15         015A0002  2012-11-07              3174   \n",
       "\n",
       "  BusOperator  Congestion      Long        Lat  Delay  BlockId  VehicleId  \\\n",
       "0          RD           0 -6.233317  53.342152      0    15032      24549   \n",
       "1          RD           0 -6.234283  53.341900      0    15032      24549   \n",
       "2          RD           0 -6.243330  53.346352    223    15032      24549   \n",
       "3          RD           0 -6.248244  53.343922    142    15032      24549   \n",
       "4          RD           0 -6.255507  53.345360    170    15032      24549   \n",
       "\n",
       "  StopId  AtStop     Distance  \n",
       "0    395       1     0.000000  \n",
       "1    396       0    83.281841  \n",
       "2   7371       0  1293.444401  \n",
       "3    399       1  1774.570774  \n",
       "4    400       0  2284.165206  "
      ]
     },
     "execution_count": 47,
     "metadata": {},
     "output_type": "execute_result"
    }
   ],
   "source": [
    "df.head()"
   ]
  },
  {
   "cell_type": "code",
   "execution_count": 48,
   "metadata": {
    "collapsed": true
   },
   "outputs": [],
   "source": [
    "df.to_csv(\"fifth_stage.csv\", index=False)"
   ]
  },
  {
   "cell_type": "markdown",
   "metadata": {},
   "source": [
    "## Change Unix Timestamp to Human Readable Format"
   ]
  },
  {
   "cell_type": "code",
   "execution_count": 49,
   "metadata": {
    "collapsed": false
   },
   "outputs": [],
   "source": [
    "# Must be int for division next\n",
    "df['Timestamp'] = df['Timestamp'].apply(int)"
   ]
  },
  {
   "cell_type": "code",
   "execution_count": 50,
   "metadata": {
    "collapsed": false
   },
   "outputs": [],
   "source": [
    "# Change date in bus file to be in standard format instead of unix milliseconds (1:45 mins)\n",
    "for index, row in df.iterrows():\n",
    "\n",
    "    x = row[0]/1000000\n",
    "    df.set_value(index, 'Timestamp', x) "
   ]
  },
  {
   "cell_type": "code",
   "execution_count": 51,
   "metadata": {
    "collapsed": false
   },
   "outputs": [],
   "source": [
    "# For formatting later\n",
    "df['Timestamp'] = df['Timestamp'].apply(str)"
   ]
  },
  {
   "cell_type": "code",
   "execution_count": 52,
   "metadata": {
    "collapsed": false
   },
   "outputs": [],
   "source": [
    "# Change format of date \n",
    "for index, row in df.iterrows():\n",
    "\n",
    "    ts = int(row[0])\n",
    "    x = datetime.datetime.fromtimestamp(ts).strftime('%Y-%m-%d %H:%M:%S')\n",
    "    df.set_value(index, 'Timestamp', str(x))"
   ]
  },
  {
   "cell_type": "code",
   "execution_count": 53,
   "metadata": {
    "collapsed": false
   },
   "outputs": [
    {
     "data": {
      "text/plain": [
       "Timestamp            object\n",
       "LineId               object\n",
       "JourneyPatternId     object\n",
       "TimeFrame            object\n",
       "VehicleJourneyId      int64\n",
       "BusOperator          object\n",
       "Congestion            int64\n",
       "Long                float64\n",
       "Lat                 float64\n",
       "Delay                 int64\n",
       "BlockId               int64\n",
       "VehicleId             int64\n",
       "StopId               object\n",
       "AtStop                int64\n",
       "Distance            float64\n",
       "dtype: object"
      ]
     },
     "execution_count": 53,
     "metadata": {},
     "output_type": "execute_result"
    }
   ],
   "source": [
    "df.dtypes"
   ]
  },
  {
   "cell_type": "code",
   "execution_count": 54,
   "metadata": {
    "collapsed": false
   },
   "outputs": [],
   "source": [
    "# Change Features To Correct Types\n",
    "df['Timestamp'] =  pd.to_datetime(df['Timestamp'], format='%Y-%m-%d %H:%M:%S')\n",
    "df[\"LineId\"] = df[\"LineId\"].astype(\"category\")\n",
    "df[\"JourneyPatternId\"] = df[\"JourneyPatternId\"].astype(\"category\")\n",
    "df[\"TimeFrame\"] = df[\"TimeFrame\"].astype(\"category\")\n",
    "df[\"VehicleJourneyId\"] = df[\"VehicleJourneyId\"].astype(\"category\")\n",
    "df[\"Congestion\"] = df[\"Congestion\"].astype(\"category\")\n",
    "df[\"BlockId\"] = df[\"BlockId\"].astype(\"category\")\n",
    "df[\"StopId\"] = df[\"StopId\"].astype(\"category\")\n",
    "df[\"BusOperator\"] = df[\"BusOperator\"].astype(\"category\")\n",
    "df[\"VehicleId\"] = df[\"VehicleId\"].astype(\"category\")"
   ]
  },
  {
   "cell_type": "code",
   "execution_count": 55,
   "metadata": {
    "collapsed": false
   },
   "outputs": [
    {
     "data": {
      "text/plain": [
       "Timestamp           datetime64[ns]\n",
       "LineId                    category\n",
       "JourneyPatternId          category\n",
       "TimeFrame                 category\n",
       "VehicleJourneyId          category\n",
       "BusOperator               category\n",
       "Congestion                category\n",
       "Long                       float64\n",
       "Lat                        float64\n",
       "Delay                        int64\n",
       "BlockId                   category\n",
       "VehicleId                 category\n",
       "StopId                    category\n",
       "AtStop                       int64\n",
       "Distance                   float64\n",
       "dtype: object"
      ]
     },
     "execution_count": 55,
     "metadata": {},
     "output_type": "execute_result"
    }
   ],
   "source": [
    "df.dtypes"
   ]
  },
  {
   "cell_type": "code",
   "execution_count": 56,
   "metadata": {
    "collapsed": true
   },
   "outputs": [],
   "source": [
    "df.to_csv(\"sixth_stage.csv\", index=False)"
   ]
  },
  {
   "cell_type": "markdown",
   "metadata": {},
   "source": [
    "## Add Time Taken Feature"
   ]
  },
  {
   "cell_type": "code",
   "execution_count": 57,
   "metadata": {
    "collapsed": false
   },
   "outputs": [],
   "source": [
    "# List to hold features\n",
    "travel_time = list()\n",
    "\n",
    "for item, row in df.iterrows():\n",
    "    \n",
    "    # Set up values on first iteration\n",
    "    if item == 0:\n",
    "        last_id = row[4]\n",
    "        start_time = row[0]\n",
    "        travel_time.append(0.0)\n",
    "        continue\n",
    "    \n",
    "    current_time = row[0]\n",
    "    current_id = row[4]\n",
    "    \n",
    "    # If it's a new Journey ID\n",
    "    if current_id != last_id:\n",
    "        last_id = row[4]        \n",
    "        start_time = row[0]        \n",
    "        travel_time.append(0.0)\n",
    "        continue\n",
    "        \n",
    "    travel_time.append(abs((current_time - start_time).total_seconds()))    \n",
    "    last_time = row[0]\n",
    "    last_id = row[4]"
   ]
  },
  {
   "cell_type": "code",
   "execution_count": 58,
   "metadata": {
    "collapsed": true
   },
   "outputs": [],
   "source": [
    "df[\"TravelTime\"] = travel_time"
   ]
  },
  {
   "cell_type": "code",
   "execution_count": 59,
   "metadata": {
    "collapsed": false,
    "scrolled": true
   },
   "outputs": [
    {
     "data": {
      "text/html": [
       "<div>\n",
       "<table border=\"1\" class=\"dataframe\">\n",
       "  <thead>\n",
       "    <tr style=\"text-align: right;\">\n",
       "      <th></th>\n",
       "      <th>Timestamp</th>\n",
       "      <th>LineId</th>\n",
       "      <th>JourneyPatternId</th>\n",
       "      <th>TimeFrame</th>\n",
       "      <th>VehicleJourneyId</th>\n",
       "      <th>BusOperator</th>\n",
       "      <th>Congestion</th>\n",
       "      <th>Long</th>\n",
       "      <th>Lat</th>\n",
       "      <th>Delay</th>\n",
       "      <th>BlockId</th>\n",
       "      <th>VehicleId</th>\n",
       "      <th>StopId</th>\n",
       "      <th>AtStop</th>\n",
       "      <th>Distance</th>\n",
       "      <th>TravelTime</th>\n",
       "    </tr>\n",
       "  </thead>\n",
       "  <tbody>\n",
       "    <tr>\n",
       "      <th>0</th>\n",
       "      <td>2012-11-07 07:44:11</td>\n",
       "      <td>15</td>\n",
       "      <td>015A0002</td>\n",
       "      <td>2012-11-07</td>\n",
       "      <td>3174</td>\n",
       "      <td>RD</td>\n",
       "      <td>0</td>\n",
       "      <td>-6.233317</td>\n",
       "      <td>53.342152</td>\n",
       "      <td>0</td>\n",
       "      <td>15032</td>\n",
       "      <td>24549</td>\n",
       "      <td>395</td>\n",
       "      <td>1</td>\n",
       "      <td>0.000000</td>\n",
       "      <td>0.0</td>\n",
       "    </tr>\n",
       "    <tr>\n",
       "      <th>1</th>\n",
       "      <td>2012-11-07 07:45:51</td>\n",
       "      <td>15</td>\n",
       "      <td>015A0002</td>\n",
       "      <td>2012-11-07</td>\n",
       "      <td>3174</td>\n",
       "      <td>RD</td>\n",
       "      <td>0</td>\n",
       "      <td>-6.234283</td>\n",
       "      <td>53.341900</td>\n",
       "      <td>0</td>\n",
       "      <td>15032</td>\n",
       "      <td>24549</td>\n",
       "      <td>396</td>\n",
       "      <td>0</td>\n",
       "      <td>83.281841</td>\n",
       "      <td>100.0</td>\n",
       "    </tr>\n",
       "    <tr>\n",
       "      <th>2</th>\n",
       "      <td>2012-11-07 07:51:28</td>\n",
       "      <td>15</td>\n",
       "      <td>015A0002</td>\n",
       "      <td>2012-11-07</td>\n",
       "      <td>3174</td>\n",
       "      <td>RD</td>\n",
       "      <td>0</td>\n",
       "      <td>-6.243330</td>\n",
       "      <td>53.346352</td>\n",
       "      <td>223</td>\n",
       "      <td>15032</td>\n",
       "      <td>24549</td>\n",
       "      <td>7371</td>\n",
       "      <td>0</td>\n",
       "      <td>1293.444401</td>\n",
       "      <td>437.0</td>\n",
       "    </tr>\n",
       "    <tr>\n",
       "      <th>3</th>\n",
       "      <td>2012-11-07 07:53:29</td>\n",
       "      <td>15</td>\n",
       "      <td>015A0002</td>\n",
       "      <td>2012-11-07</td>\n",
       "      <td>3174</td>\n",
       "      <td>RD</td>\n",
       "      <td>0</td>\n",
       "      <td>-6.248244</td>\n",
       "      <td>53.343922</td>\n",
       "      <td>142</td>\n",
       "      <td>15032</td>\n",
       "      <td>24549</td>\n",
       "      <td>399</td>\n",
       "      <td>1</td>\n",
       "      <td>1774.570774</td>\n",
       "      <td>558.0</td>\n",
       "    </tr>\n",
       "    <tr>\n",
       "      <th>4</th>\n",
       "      <td>2012-11-07 07:55:48</td>\n",
       "      <td>15</td>\n",
       "      <td>015A0002</td>\n",
       "      <td>2012-11-07</td>\n",
       "      <td>3174</td>\n",
       "      <td>RD</td>\n",
       "      <td>0</td>\n",
       "      <td>-6.255507</td>\n",
       "      <td>53.345360</td>\n",
       "      <td>170</td>\n",
       "      <td>15032</td>\n",
       "      <td>24549</td>\n",
       "      <td>400</td>\n",
       "      <td>0</td>\n",
       "      <td>2284.165206</td>\n",
       "      <td>697.0</td>\n",
       "    </tr>\n",
       "  </tbody>\n",
       "</table>\n",
       "</div>"
      ],
      "text/plain": [
       "            Timestamp LineId JourneyPatternId   TimeFrame VehicleJourneyId  \\\n",
       "0 2012-11-07 07:44:11     15         015A0002  2012-11-07             3174   \n",
       "1 2012-11-07 07:45:51     15         015A0002  2012-11-07             3174   \n",
       "2 2012-11-07 07:51:28     15         015A0002  2012-11-07             3174   \n",
       "3 2012-11-07 07:53:29     15         015A0002  2012-11-07             3174   \n",
       "4 2012-11-07 07:55:48     15         015A0002  2012-11-07             3174   \n",
       "\n",
       "  BusOperator Congestion      Long        Lat  Delay BlockId VehicleId StopId  \\\n",
       "0          RD          0 -6.233317  53.342152      0   15032     24549    395   \n",
       "1          RD          0 -6.234283  53.341900      0   15032     24549    396   \n",
       "2          RD          0 -6.243330  53.346352    223   15032     24549   7371   \n",
       "3          RD          0 -6.248244  53.343922    142   15032     24549    399   \n",
       "4          RD          0 -6.255507  53.345360    170   15032     24549    400   \n",
       "\n",
       "   AtStop     Distance  TravelTime  \n",
       "0       1     0.000000         0.0  \n",
       "1       0    83.281841       100.0  \n",
       "2       0  1293.444401       437.0  \n",
       "3       1  1774.570774       558.0  \n",
       "4       0  2284.165206       697.0  "
      ]
     },
     "execution_count": 59,
     "metadata": {},
     "output_type": "execute_result"
    }
   ],
   "source": [
    "df.head()"
   ]
  },
  {
   "cell_type": "code",
   "execution_count": 60,
   "metadata": {
    "collapsed": true
   },
   "outputs": [],
   "source": [
    "df.to_csv(\"seventh_stage.csv\", index=False)"
   ]
  },
  {
   "cell_type": "markdown",
   "metadata": {},
   "source": [
    "## Add Weekday Feature"
   ]
  },
  {
   "cell_type": "code",
   "execution_count": 61,
   "metadata": {
    "collapsed": false
   },
   "outputs": [],
   "source": [
    "df['Weekday'] = df['Timestamp'].dt.dayofweek"
   ]
  },
  {
   "cell_type": "code",
   "execution_count": 62,
   "metadata": {
    "collapsed": true
   },
   "outputs": [],
   "source": [
    "# Convert to correct datatype\n",
    "df[\"Weekday\"] = df[\"Weekday\"].astype(\"category\")"
   ]
  },
  {
   "cell_type": "markdown",
   "metadata": {},
   "source": [
    "## Add Time Category Feature"
   ]
  },
  {
   "cell_type": "code",
   "execution_count": 63,
   "metadata": {
    "collapsed": true
   },
   "outputs": [],
   "source": [
    "# Convert to temp datatype\n",
    "df[\"Timestamp\"] = df[\"Timestamp\"].astype(str)"
   ]
  },
  {
   "cell_type": "code",
   "execution_count": 64,
   "metadata": {
    "collapsed": false
   },
   "outputs": [],
   "source": [
    "time_cat = list()\n",
    "\n",
    "for item, row in df.iterrows():\n",
    "    \n",
    "    s = row[0][-8:]\n",
    "    temp = s.split(\":\")\n",
    "\n",
    "    if int(temp[1]) < 30:\n",
    "        mins = \"00\"\n",
    "    else:\n",
    "        mins = \"30\"\n",
    "\n",
    "    ans = temp[0] + \":\" + mins\n",
    "    \n",
    "    time_cat.append(ans)"
   ]
  },
  {
   "cell_type": "code",
   "execution_count": 65,
   "metadata": {
    "collapsed": false
   },
   "outputs": [],
   "source": [
    "df[\"TimeCategory\"] = time_cat"
   ]
  },
  {
   "cell_type": "code",
   "execution_count": 66,
   "metadata": {
    "collapsed": false
   },
   "outputs": [
    {
     "data": {
      "text/html": [
       "<div>\n",
       "<table border=\"1\" class=\"dataframe\">\n",
       "  <thead>\n",
       "    <tr style=\"text-align: right;\">\n",
       "      <th></th>\n",
       "      <th>Timestamp</th>\n",
       "      <th>LineId</th>\n",
       "      <th>JourneyPatternId</th>\n",
       "      <th>TimeFrame</th>\n",
       "      <th>VehicleJourneyId</th>\n",
       "      <th>BusOperator</th>\n",
       "      <th>Congestion</th>\n",
       "      <th>Long</th>\n",
       "      <th>Lat</th>\n",
       "      <th>Delay</th>\n",
       "      <th>BlockId</th>\n",
       "      <th>VehicleId</th>\n",
       "      <th>StopId</th>\n",
       "      <th>AtStop</th>\n",
       "      <th>Distance</th>\n",
       "      <th>TravelTime</th>\n",
       "      <th>Weekday</th>\n",
       "      <th>TimeCategory</th>\n",
       "    </tr>\n",
       "  </thead>\n",
       "  <tbody>\n",
       "    <tr>\n",
       "      <th>0</th>\n",
       "      <td>2012-11-07 07:44:11</td>\n",
       "      <td>15</td>\n",
       "      <td>015A0002</td>\n",
       "      <td>2012-11-07</td>\n",
       "      <td>3174</td>\n",
       "      <td>RD</td>\n",
       "      <td>0</td>\n",
       "      <td>-6.233317</td>\n",
       "      <td>53.342152</td>\n",
       "      <td>0</td>\n",
       "      <td>15032</td>\n",
       "      <td>24549</td>\n",
       "      <td>395</td>\n",
       "      <td>1</td>\n",
       "      <td>0.000000</td>\n",
       "      <td>0.0</td>\n",
       "      <td>2</td>\n",
       "      <td>07:30</td>\n",
       "    </tr>\n",
       "    <tr>\n",
       "      <th>1</th>\n",
       "      <td>2012-11-07 07:45:51</td>\n",
       "      <td>15</td>\n",
       "      <td>015A0002</td>\n",
       "      <td>2012-11-07</td>\n",
       "      <td>3174</td>\n",
       "      <td>RD</td>\n",
       "      <td>0</td>\n",
       "      <td>-6.234283</td>\n",
       "      <td>53.341900</td>\n",
       "      <td>0</td>\n",
       "      <td>15032</td>\n",
       "      <td>24549</td>\n",
       "      <td>396</td>\n",
       "      <td>0</td>\n",
       "      <td>83.281841</td>\n",
       "      <td>100.0</td>\n",
       "      <td>2</td>\n",
       "      <td>07:30</td>\n",
       "    </tr>\n",
       "    <tr>\n",
       "      <th>2</th>\n",
       "      <td>2012-11-07 07:51:28</td>\n",
       "      <td>15</td>\n",
       "      <td>015A0002</td>\n",
       "      <td>2012-11-07</td>\n",
       "      <td>3174</td>\n",
       "      <td>RD</td>\n",
       "      <td>0</td>\n",
       "      <td>-6.243330</td>\n",
       "      <td>53.346352</td>\n",
       "      <td>223</td>\n",
       "      <td>15032</td>\n",
       "      <td>24549</td>\n",
       "      <td>7371</td>\n",
       "      <td>0</td>\n",
       "      <td>1293.444401</td>\n",
       "      <td>437.0</td>\n",
       "      <td>2</td>\n",
       "      <td>07:30</td>\n",
       "    </tr>\n",
       "    <tr>\n",
       "      <th>3</th>\n",
       "      <td>2012-11-07 07:53:29</td>\n",
       "      <td>15</td>\n",
       "      <td>015A0002</td>\n",
       "      <td>2012-11-07</td>\n",
       "      <td>3174</td>\n",
       "      <td>RD</td>\n",
       "      <td>0</td>\n",
       "      <td>-6.248244</td>\n",
       "      <td>53.343922</td>\n",
       "      <td>142</td>\n",
       "      <td>15032</td>\n",
       "      <td>24549</td>\n",
       "      <td>399</td>\n",
       "      <td>1</td>\n",
       "      <td>1774.570774</td>\n",
       "      <td>558.0</td>\n",
       "      <td>2</td>\n",
       "      <td>07:30</td>\n",
       "    </tr>\n",
       "    <tr>\n",
       "      <th>4</th>\n",
       "      <td>2012-11-07 07:55:48</td>\n",
       "      <td>15</td>\n",
       "      <td>015A0002</td>\n",
       "      <td>2012-11-07</td>\n",
       "      <td>3174</td>\n",
       "      <td>RD</td>\n",
       "      <td>0</td>\n",
       "      <td>-6.255507</td>\n",
       "      <td>53.345360</td>\n",
       "      <td>170</td>\n",
       "      <td>15032</td>\n",
       "      <td>24549</td>\n",
       "      <td>400</td>\n",
       "      <td>0</td>\n",
       "      <td>2284.165206</td>\n",
       "      <td>697.0</td>\n",
       "      <td>2</td>\n",
       "      <td>07:30</td>\n",
       "    </tr>\n",
       "  </tbody>\n",
       "</table>\n",
       "</div>"
      ],
      "text/plain": [
       "             Timestamp LineId JourneyPatternId   TimeFrame VehicleJourneyId  \\\n",
       "0  2012-11-07 07:44:11     15         015A0002  2012-11-07             3174   \n",
       "1  2012-11-07 07:45:51     15         015A0002  2012-11-07             3174   \n",
       "2  2012-11-07 07:51:28     15         015A0002  2012-11-07             3174   \n",
       "3  2012-11-07 07:53:29     15         015A0002  2012-11-07             3174   \n",
       "4  2012-11-07 07:55:48     15         015A0002  2012-11-07             3174   \n",
       "\n",
       "  BusOperator Congestion      Long        Lat  Delay BlockId VehicleId StopId  \\\n",
       "0          RD          0 -6.233317  53.342152      0   15032     24549    395   \n",
       "1          RD          0 -6.234283  53.341900      0   15032     24549    396   \n",
       "2          RD          0 -6.243330  53.346352    223   15032     24549   7371   \n",
       "3          RD          0 -6.248244  53.343922    142   15032     24549    399   \n",
       "4          RD          0 -6.255507  53.345360    170   15032     24549    400   \n",
       "\n",
       "   AtStop     Distance  TravelTime Weekday TimeCategory  \n",
       "0       1     0.000000         0.0       2        07:30  \n",
       "1       0    83.281841       100.0       2        07:30  \n",
       "2       0  1293.444401       437.0       2        07:30  \n",
       "3       1  1774.570774       558.0       2        07:30  \n",
       "4       0  2284.165206       697.0       2        07:30  "
      ]
     },
     "execution_count": 66,
     "metadata": {},
     "output_type": "execute_result"
    }
   ],
   "source": [
    "df.head()"
   ]
  },
  {
   "cell_type": "markdown",
   "metadata": {},
   "source": [
    "## Make Final Changes To Datatypes"
   ]
  },
  {
   "cell_type": "code",
   "execution_count": 67,
   "metadata": {
    "collapsed": false
   },
   "outputs": [
    {
     "data": {
      "text/plain": [
       "Timestamp             object\n",
       "LineId              category\n",
       "JourneyPatternId    category\n",
       "TimeFrame           category\n",
       "VehicleJourneyId    category\n",
       "BusOperator         category\n",
       "Congestion          category\n",
       "Long                 float64\n",
       "Lat                  float64\n",
       "Delay                  int64\n",
       "BlockId             category\n",
       "VehicleId           category\n",
       "StopId              category\n",
       "AtStop                 int64\n",
       "Distance             float64\n",
       "TravelTime           float64\n",
       "Weekday             category\n",
       "TimeCategory          object\n",
       "dtype: object"
      ]
     },
     "execution_count": 67,
     "metadata": {},
     "output_type": "execute_result"
    }
   ],
   "source": [
    "df.dtypes"
   ]
  },
  {
   "cell_type": "code",
   "execution_count": 68,
   "metadata": {
    "collapsed": true
   },
   "outputs": [],
   "source": [
    "df[\"VehicleJourneyId\"] = df[\"VehicleJourneyId\"].astype(int)\n",
    "df[\"AtStop\"] = df[\"AtStop\"].astype(int)\n",
    "df[\"Congestion\"] = df[\"Congestion\"].astype(int)\n",
    "df[\"BlockId\"] = df[\"BlockId\"].astype(int)\n",
    "df[\"VehicleId\"] = df[\"VehicleId\"].astype(int)\n",
    "df[\"Delay\"] = df[\"Delay\"].astype(int)\n",
    "df[\"TravelTime\"] = df[\"TravelTime\"].astype(int)"
   ]
  },
  {
   "cell_type": "code",
   "execution_count": 69,
   "metadata": {
    "collapsed": true
   },
   "outputs": [],
   "source": [
    "df[\"VehicleJourneyId\"] = df[\"VehicleJourneyId\"].astype('category')\n",
    "df[\"Congestion\"] = df[\"Congestion\"].astype('category')\n",
    "df[\"BlockId\"] = df[\"BlockId\"].astype('category')\n",
    "df[\"VehicleId\"] = df[\"VehicleId\"].astype('category')\n",
    "df[\"TimeCategory\"] = df[\"TimeCategory\"].astype('category')\n",
    "df['Timestamp'] =  pd.to_datetime(df['Timestamp'], format='%Y-%m-%d %H:%M:%S')"
   ]
  },
  {
   "cell_type": "code",
   "execution_count": 70,
   "metadata": {
    "collapsed": false
   },
   "outputs": [
    {
     "data": {
      "text/plain": [
       "Timestamp           datetime64[ns]\n",
       "LineId                    category\n",
       "JourneyPatternId          category\n",
       "TimeFrame                 category\n",
       "VehicleJourneyId          category\n",
       "BusOperator               category\n",
       "Congestion                category\n",
       "Long                       float64\n",
       "Lat                        float64\n",
       "Delay                        int32\n",
       "BlockId                   category\n",
       "VehicleId                 category\n",
       "StopId                    category\n",
       "AtStop                       int32\n",
       "Distance                   float64\n",
       "TravelTime                   int32\n",
       "Weekday                   category\n",
       "TimeCategory              category\n",
       "dtype: object"
      ]
     },
     "execution_count": 70,
     "metadata": {},
     "output_type": "execute_result"
    }
   ],
   "source": [
    "df.dtypes"
   ]
  },
  {
   "cell_type": "code",
   "execution_count": 71,
   "metadata": {
    "collapsed": false
   },
   "outputs": [
    {
     "data": {
      "text/html": [
       "<div>\n",
       "<table border=\"1\" class=\"dataframe\">\n",
       "  <thead>\n",
       "    <tr style=\"text-align: right;\">\n",
       "      <th></th>\n",
       "      <th>Timestamp</th>\n",
       "      <th>LineId</th>\n",
       "      <th>JourneyPatternId</th>\n",
       "      <th>TimeFrame</th>\n",
       "      <th>VehicleJourneyId</th>\n",
       "      <th>BusOperator</th>\n",
       "      <th>Congestion</th>\n",
       "      <th>Long</th>\n",
       "      <th>Lat</th>\n",
       "      <th>Delay</th>\n",
       "      <th>BlockId</th>\n",
       "      <th>VehicleId</th>\n",
       "      <th>StopId</th>\n",
       "      <th>AtStop</th>\n",
       "      <th>Distance</th>\n",
       "      <th>TravelTime</th>\n",
       "      <th>Weekday</th>\n",
       "      <th>TimeCategory</th>\n",
       "    </tr>\n",
       "  </thead>\n",
       "  <tbody>\n",
       "    <tr>\n",
       "      <th>0</th>\n",
       "      <td>2012-11-07 07:44:11</td>\n",
       "      <td>15</td>\n",
       "      <td>015A0002</td>\n",
       "      <td>2012-11-07</td>\n",
       "      <td>3174</td>\n",
       "      <td>RD</td>\n",
       "      <td>0</td>\n",
       "      <td>-6.233317</td>\n",
       "      <td>53.342152</td>\n",
       "      <td>0</td>\n",
       "      <td>15032</td>\n",
       "      <td>24549</td>\n",
       "      <td>395</td>\n",
       "      <td>1</td>\n",
       "      <td>0.000000</td>\n",
       "      <td>0</td>\n",
       "      <td>2</td>\n",
       "      <td>07:30</td>\n",
       "    </tr>\n",
       "    <tr>\n",
       "      <th>1</th>\n",
       "      <td>2012-11-07 07:45:51</td>\n",
       "      <td>15</td>\n",
       "      <td>015A0002</td>\n",
       "      <td>2012-11-07</td>\n",
       "      <td>3174</td>\n",
       "      <td>RD</td>\n",
       "      <td>0</td>\n",
       "      <td>-6.234283</td>\n",
       "      <td>53.341900</td>\n",
       "      <td>0</td>\n",
       "      <td>15032</td>\n",
       "      <td>24549</td>\n",
       "      <td>396</td>\n",
       "      <td>0</td>\n",
       "      <td>83.281841</td>\n",
       "      <td>100</td>\n",
       "      <td>2</td>\n",
       "      <td>07:30</td>\n",
       "    </tr>\n",
       "    <tr>\n",
       "      <th>2</th>\n",
       "      <td>2012-11-07 07:51:28</td>\n",
       "      <td>15</td>\n",
       "      <td>015A0002</td>\n",
       "      <td>2012-11-07</td>\n",
       "      <td>3174</td>\n",
       "      <td>RD</td>\n",
       "      <td>0</td>\n",
       "      <td>-6.243330</td>\n",
       "      <td>53.346352</td>\n",
       "      <td>223</td>\n",
       "      <td>15032</td>\n",
       "      <td>24549</td>\n",
       "      <td>7371</td>\n",
       "      <td>0</td>\n",
       "      <td>1293.444401</td>\n",
       "      <td>437</td>\n",
       "      <td>2</td>\n",
       "      <td>07:30</td>\n",
       "    </tr>\n",
       "    <tr>\n",
       "      <th>3</th>\n",
       "      <td>2012-11-07 07:53:29</td>\n",
       "      <td>15</td>\n",
       "      <td>015A0002</td>\n",
       "      <td>2012-11-07</td>\n",
       "      <td>3174</td>\n",
       "      <td>RD</td>\n",
       "      <td>0</td>\n",
       "      <td>-6.248244</td>\n",
       "      <td>53.343922</td>\n",
       "      <td>142</td>\n",
       "      <td>15032</td>\n",
       "      <td>24549</td>\n",
       "      <td>399</td>\n",
       "      <td>1</td>\n",
       "      <td>1774.570774</td>\n",
       "      <td>558</td>\n",
       "      <td>2</td>\n",
       "      <td>07:30</td>\n",
       "    </tr>\n",
       "    <tr>\n",
       "      <th>4</th>\n",
       "      <td>2012-11-07 07:55:48</td>\n",
       "      <td>15</td>\n",
       "      <td>015A0002</td>\n",
       "      <td>2012-11-07</td>\n",
       "      <td>3174</td>\n",
       "      <td>RD</td>\n",
       "      <td>0</td>\n",
       "      <td>-6.255507</td>\n",
       "      <td>53.345360</td>\n",
       "      <td>170</td>\n",
       "      <td>15032</td>\n",
       "      <td>24549</td>\n",
       "      <td>400</td>\n",
       "      <td>0</td>\n",
       "      <td>2284.165206</td>\n",
       "      <td>697</td>\n",
       "      <td>2</td>\n",
       "      <td>07:30</td>\n",
       "    </tr>\n",
       "  </tbody>\n",
       "</table>\n",
       "</div>"
      ],
      "text/plain": [
       "            Timestamp LineId JourneyPatternId   TimeFrame VehicleJourneyId  \\\n",
       "0 2012-11-07 07:44:11     15         015A0002  2012-11-07             3174   \n",
       "1 2012-11-07 07:45:51     15         015A0002  2012-11-07             3174   \n",
       "2 2012-11-07 07:51:28     15         015A0002  2012-11-07             3174   \n",
       "3 2012-11-07 07:53:29     15         015A0002  2012-11-07             3174   \n",
       "4 2012-11-07 07:55:48     15         015A0002  2012-11-07             3174   \n",
       "\n",
       "  BusOperator Congestion      Long        Lat  Delay BlockId VehicleId StopId  \\\n",
       "0          RD          0 -6.233317  53.342152      0   15032     24549    395   \n",
       "1          RD          0 -6.234283  53.341900      0   15032     24549    396   \n",
       "2          RD          0 -6.243330  53.346352    223   15032     24549   7371   \n",
       "3          RD          0 -6.248244  53.343922    142   15032     24549    399   \n",
       "4          RD          0 -6.255507  53.345360    170   15032     24549    400   \n",
       "\n",
       "   AtStop     Distance  TravelTime Weekday TimeCategory  \n",
       "0       1     0.000000           0       2        07:30  \n",
       "1       0    83.281841         100       2        07:30  \n",
       "2       0  1293.444401         437       2        07:30  \n",
       "3       1  1774.570774         558       2        07:30  \n",
       "4       0  2284.165206         697       2        07:30  "
      ]
     },
     "execution_count": 71,
     "metadata": {},
     "output_type": "execute_result"
    }
   ],
   "source": [
    "df.head()"
   ]
  },
  {
   "cell_type": "code",
   "execution_count": 72,
   "metadata": {
    "collapsed": true
   },
   "outputs": [],
   "source": [
    "df.to_csv(\"eighth_stage.csv\", index=False)"
   ]
  },
  {
   "cell_type": "markdown",
   "metadata": {},
   "source": [
    "## Add Weather Information"
   ]
  },
  {
   "cell_type": "code",
   "execution_count": null,
   "metadata": {
    "collapsed": true
   },
   "outputs": [],
   "source": [
    "# Read in weather data\n",
    "# Weather data file contains only relevant dates and first row containing the column names deleted\n",
    "\n",
    "COLNAMES2 = ['Time_hour','Ind', 'Rain', 'Ind1', 'Temp', 'Ind2', 'Wetb', 'Dewpt', 'Vappr', 'Rhum', 'Msl']\n",
    "df2 = pd.read_csv(\"weatherData.csv\", names=COLNAMES2)"
   ]
  },
  {
   "cell_type": "code",
   "execution_count": null,
   "metadata": {
    "collapsed": true
   },
   "outputs": [],
   "source": [
    "column_names = ['Time_hour', 'Rain', 'Temp']\n",
    "df2 = df2[column_names]"
   ]
  },
  {
   "cell_type": "code",
   "execution_count": null,
   "metadata": {
    "collapsed": true
   },
   "outputs": [],
   "source": [
    "for index, row in df2.iterrows():\n",
    "    # Change each date to standard format year-month-day\n",
    "    x = datetime.datetime.strptime(row[0], '%d/%m/%Y %H:%M').strftime('%Y-%m-%d %H')\n",
    "    df2.set_value(index, 'Time_hour', x)"
   ]
  },
  {
   "cell_type": "code",
   "execution_count": null,
   "metadata": {
    "collapsed": true
   },
   "outputs": [],
   "source": [
    "df2.Time_hour =  pd.to_datetime(df2.Time_hour)"
   ]
  },
  {
   "cell_type": "code",
   "execution_count": null,
   "metadata": {
    "collapsed": true
   },
   "outputs": [],
   "source": [
    "df2 = df2.replace(r'\\s+', np.nan, regex=True)\n",
    "df2.Rain = df2.Rain.astype(float)\n",
    "df2.Temp = df2.Temp.astype(float)"
   ]
  },
  {
   "cell_type": "code",
   "execution_count": null,
   "metadata": {
    "collapsed": true
   },
   "outputs": [],
   "source": [
    "df['Time_hour'] = df['Timestamp'].values.astype('<M8[h]')"
   ]
  },
  {
   "cell_type": "code",
   "execution_count": null,
   "metadata": {
    "collapsed": true
   },
   "outputs": [],
   "source": [
    "df2.head()"
   ]
  },
  {
   "cell_type": "code",
   "execution_count": null,
   "metadata": {
    "collapsed": true
   },
   "outputs": [],
   "source": [
    "len(df)"
   ]
  },
  {
   "cell_type": "code",
   "execution_count": null,
   "metadata": {
    "collapsed": true
   },
   "outputs": [],
   "source": [
    "len(df2)"
   ]
  },
  {
   "cell_type": "code",
   "execution_count": null,
   "metadata": {
    "collapsed": true
   },
   "outputs": [],
   "source": [
    "df2[\"windSpeed\"] = np.nan"
   ]
  },
  {
   "cell_type": "code",
   "execution_count": null,
   "metadata": {
    "collapsed": true
   },
   "outputs": [],
   "source": [
    "df2[\"Timestamp\"] = pd.to_datetime(df2[\"Time_hour\"]).astype('int64')// 10**9"
   ]
  },
  {
   "cell_type": "code",
   "execution_count": null,
   "metadata": {
    "collapsed": true
   },
   "outputs": [],
   "source": [
    "df2.head()"
   ]
  },
  {
   "cell_type": "code",
   "execution_count": null,
   "metadata": {
    "collapsed": true
   },
   "outputs": [],
   "source": [
    "\"\"\"\n",
    "Put your own api key from darksky when running this loop and remember after 1000 per day they charge you so be careful!\n",
    "darksky has a dashboard that shows you how many api calls you made\n",
    "\"\"\"\n",
    "count = 0\n",
    "dublin = forecast('115860eba8f194a9d04b751787f6a2b8',53.349323, -6.260750, time = df2.iloc[0]['Timestamp'], units = 'si')\n",
    "\n",
    "for item,row in df2.iterrows():\n",
    "    \n",
    "    df2.set_value(item, 'windSpeed', dublin.hourly[count].windSpeed)\n",
    "    count += 1\n",
    "    \n",
    "    if count > 23:\n",
    "        \n",
    "        # Reset count\n",
    "        count = 0\n",
    "        # This gets 24 hour of data, divided in one hour block, we only need one api call for every day\n",
    "        dublin = forecast('115860eba8f194a9d04b751787f6a2b8',53.349323, -6.260750, time = row[4], units = 'si')\n"
   ]
  },
  {
   "cell_type": "code",
   "execution_count": null,
   "metadata": {
    "collapsed": true
   },
   "outputs": [],
   "source": [
    "df2.tail()"
   ]
  },
  {
   "cell_type": "code",
   "execution_count": null,
   "metadata": {
    "collapsed": true
   },
   "outputs": [],
   "source": [
    "len(df2)"
   ]
  },
  {
   "cell_type": "code",
   "execution_count": null,
   "metadata": {
    "collapsed": true
   },
   "outputs": [],
   "source": [
    "df3 = pd.merge(df,df2, how='inner', on='Time_hour')"
   ]
  },
  {
   "cell_type": "code",
   "execution_count": null,
   "metadata": {
    "collapsed": true
   },
   "outputs": [],
   "source": [
    "len(df3)"
   ]
  },
  {
   "cell_type": "code",
   "execution_count": null,
   "metadata": {
    "collapsed": true
   },
   "outputs": [],
   "source": [
    "len(df)"
   ]
  },
  {
   "cell_type": "markdown",
   "metadata": {},
   "source": [
    "## Make Finished CSV"
   ]
  },
  {
   "cell_type": "code",
   "execution_count": 122,
   "metadata": {
    "collapsed": false
   },
   "outputs": [],
   "source": [
    "df.to_csv('???????.csv', index=False)"
   ]
  }
 ],
 "metadata": {
  "anaconda-cloud": {},
  "kernelspec": {
   "display_name": "Python [conda root]",
   "language": "python",
   "name": "conda-root-py"
  },
  "language_info": {
   "codemirror_mode": {
    "name": "ipython",
    "version": 3
   },
   "file_extension": ".py",
   "mimetype": "text/x-python",
   "name": "python",
   "nbconvert_exporter": "python",
   "pygments_lexer": "ipython3",
   "version": "3.5.2"
  }
 },
 "nbformat": 4,
 "nbformat_minor": 1
}
