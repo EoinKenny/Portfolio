{
 "cells": [
  {
   "cell_type": "code",
   "execution_count": 4,
   "metadata": {
    "collapsed": false
   },
   "outputs": [
    {
     "name": "stderr",
     "output_type": "stream",
     "text": [
      "C:\\Users\\Katherine\\Anaconda3\\lib\\site-packages\\sklearn\\cross_validation.py:44: DeprecationWarning: This module was deprecated in version 0.18 in favor of the model_selection module into which all the refactored classes and functions are moved. Also note that the interface of the new CV iterators are different from that of this module. This module will be removed in 0.20.\n",
      "  \"This module will be removed in 0.20.\", DeprecationWarning)\n"
     ]
    },
    {
     "data": {
      "text/plain": [
       "Timestamp             0\n",
       "Line_ID               0\n",
       "Journey_Pattern_ID    0\n",
       "Vehicle_Journey_ID    0\n",
       "Congestion            0\n",
       "Longitude             0\n",
       "Latitude              0\n",
       "Delay_seconds         0\n",
       "Block_ID              0\n",
       "Stop_ID               0\n",
       "Rain                  0\n",
       "Temp                  0\n",
       "Time_hour             0\n",
       "Time_day              0\n",
       "Dest                  0\n",
       "Time_seconds          0\n",
       "dtype: int64"
      ]
     },
     "execution_count": 4,
     "metadata": {},
     "output_type": "execute_result"
    }
   ],
   "source": [
    "#Below are the required packages as gleaned from Labs and Class\n",
    "#Import pandas for data analysis\n",
    "import pandas as pd\n",
    "\n",
    "# Import numpy for numeric computing\n",
    "import numpy as np\n",
    "\n",
    "# Import matplotlib for visualisation/plotting\n",
    "import matplotlib.pyplot as plt\n",
    "\n",
    "#Import matplotlib patches for plotting colors\n",
    "import matplotlib.patches as mpatches\n",
    "\n",
    "#For showing plots directly in the notebook\n",
    "%matplotlib inline\n",
    "\n",
    "#Import statsmodels package for training a linear regression model.\n",
    "import statsmodels.formula.api as sm\n",
    "\n",
    "#import sklearn\n",
    "import sklearn\n",
    "from sklearn.linear_model import LinearRegression\n",
    "from patsy import dmatrices\n",
    "from sklearn.tree import export_graphviz\n",
    "from sklearn.tree import DecisionTreeClassifier\n",
    "from sklearn.ensemble import RandomForestClassifier\n",
    "from sklearn.linear_model import LogisticRegression\n",
    "from sklearn.cross_validation import train_test_split\n",
    "from sklearn import metrics\n",
    "\n",
    "# Read the edited amazon csv file from homework 1, into a data \n",
    "df = pd.read_csv('TwoWeeksData.csv', encoding='ISO-8859-1')\n",
    "\n",
    "#check number of null values\n",
    "df.isnull().sum()\n",
    "\n"
   ]
  },
  {
   "cell_type": "code",
   "execution_count": null,
   "metadata": {
    "collapsed": true
   },
   "outputs": [],
   "source": []
  }
 ],
 "metadata": {
  "kernelspec": {
   "display_name": "Python [conda root]",
   "language": "python",
   "name": "conda-root-py"
  },
  "language_info": {
   "codemirror_mode": {
    "name": "ipython",
    "version": 3
   },
   "file_extension": ".py",
   "mimetype": "text/x-python",
   "name": "python",
   "nbconvert_exporter": "python",
   "pygments_lexer": "ipython3",
   "version": "3.5.2"
  }
 },
 "nbformat": 4,
 "nbformat_minor": 2
}
