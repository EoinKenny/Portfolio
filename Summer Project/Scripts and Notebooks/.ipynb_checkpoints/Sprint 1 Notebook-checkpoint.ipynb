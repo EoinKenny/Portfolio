{
 "cells": [
  {
   "cell_type": "markdown",
   "metadata": {},
   "source": [
    "# This Notebook Is For Assembling Our Work So Far"
   ]
  },
  {
   "cell_type": "markdown",
   "metadata": {},
   "source": [
    "# First Get Addresses and Add Feature To Bus Dataset"
   ]
  },
  {
   "cell_type": "code",
   "execution_count": null,
   "metadata": {
    "collapsed": true
   },
   "outputs": [],
   "source": [
    "import pandas as pd\n",
    "import urllib.request\n",
    "import json\n",
    "import numpy as np"
   ]
  },
  {
   "cell_type": "code",
   "execution_count": null,
   "metadata": {
    "collapsed": true
   },
   "outputs": [],
   "source": [
    "# Dublin bus information \n",
    "url = \"https://data.dublinked.ie/cgi-bin/rtpi/busstopinformation?stopid&format=json\"\n",
    "\n",
    "with urllib.request.urlopen(url) as url:\n",
    "    data = json.loads(url.read().decode())\n",
    "\n",
    "# Create data structure to store Stop ID and Address\n",
    "info = dict()\n",
    "\n",
    "for item in data[\"results\"]:\n",
    "    stopid = item[\"stopid\"]\n",
    "    address = item[\"fullname\"]\n",
    "\n",
    "    info[stopid] = address"
   ]
  },
  {
   "cell_type": "code",
   "execution_count": null,
   "metadata": {
    "collapsed": true
   },
   "outputs": [],
   "source": [
    "\"\"\" Pick the CSV File to Add Weather and Addresses To \"\"\"\n",
    "\n",
    "# Read in data with proper titles\n",
    "df = pd.read_csv(\"????????.csv\", header = None, low_memory = False)\n",
    "df.columns = [\"TimeStamp\", \"LineId\", \"Direction\", \"JourneyPatternId\", \"TimeFrame\", \"VehicleJourneyId\", \"BusOperator\", \"Congestion\", \"Long\", \"Lat\", \"Delay\", \"BlockId\", \"VehicleId\", \"StopId\", \"AtStop\"]"
   ]
  },
  {
   "cell_type": "code",
   "execution_count": null,
   "metadata": {
    "collapsed": true
   },
   "outputs": [],
   "source": [
    "address = list()"
   ]
  },
  {
   "cell_type": "code",
   "execution_count": null,
   "metadata": {
    "collapsed": true
   },
   "outputs": [],
   "source": [
    "for item, row in df.iterrows():\n",
    "    counter += 1\n",
    "    try:\n",
    "        address.append(info[row[13]])\n",
    "    except:\n",
    "        address.append(\"Stop missing\")"
   ]
  },
  {
   "cell_type": "code",
   "execution_count": null,
   "metadata": {
    "collapsed": true
   },
   "outputs": [],
   "source": [
    "df['Address'] = address"
   ]
  },
  {
   "cell_type": "markdown",
   "metadata": {},
   "source": [
    "# Now Make the Time Stamps in Weather & Bus CSV's the Same"
   ]
  },
  {
   "cell_type": "markdown",
   "metadata": {},
   "source": [
    "#### Weather File"
   ]
  },
  {
   "cell_type": "code",
   "execution_count": null,
   "metadata": {
    "collapsed": true
   },
   "outputs": [],
   "source": [
    "# Read in weather data\n",
    "df2 = pd.read_csv(\"weatherData.csv\", low_memory = False)\n",
    "df2.columns = [\"date\", \"ind\", \"rain\", \"ind.1\", \"temp\", \"ind.2\", \"wetb\", \"dewpt\", \"vappr\", \"rhum\", \"msl\"]"
   ]
  },
  {
   "cell_type": "code",
   "execution_count": null,
   "metadata": {
    "collapsed": true
   },
   "outputs": [],
   "source": [
    "# Replace \"nov\" with \"11\"\n",
    "df2['date'] = df2['date'].str.replace('nov', '11')\n",
    "\n",
    "# Also replace \"jan\" with 01\n",
    "df2['date'] = df2['date'].str.replace('jan', '01')"
   ]
  },
  {
   "cell_type": "code",
   "execution_count": null,
   "metadata": {
    "collapsed": true
   },
   "outputs": [],
   "source": [
    "# Change format of date in weather file\n",
    "for index, row in df2.iterrows():\n",
    "    # Change each date to standard format year-month-day\n",
    "    x = datetime.datetime.strptime(row[0], '%d-%m-%Y %H:%M').strftime('%Y-%m-%d %H:%M')\n",
    "    df2.set_value(index, 'date', x)"
   ]
  },
  {
   "cell_type": "markdown",
   "metadata": {},
   "source": [
    "#### Bus File"
   ]
  },
  {
   "cell_type": "code",
   "execution_count": null,
   "metadata": {
    "collapsed": true
   },
   "outputs": [],
   "source": [
    "# Change format of date in bus file to be in seconds instead of milliseconds\n",
    "\n",
    "for index, row in df.iterrows():\n",
    "    x = row[0]/1000000\n",
    "    df.set_value(index, 'TimeStamp', x)  "
   ]
  },
  {
   "cell_type": "code",
   "execution_count": null,
   "metadata": {
    "collapsed": true
   },
   "outputs": [],
   "source": [
    "# Change Bus Times to String because the date later must be a string and int will clash with it.\n",
    "df['TimeStamp'] = df['TimeStamp'].apply(str)"
   ]
  },
  {
   "cell_type": "code",
   "execution_count": null,
   "metadata": {
    "collapsed": true
   },
   "outputs": [],
   "source": [
    "# Change format of date in Bus file\n",
    "\n",
    "for index, row in df.iterrows():\n",
    "\n",
    "    ts = int(row[0])\n",
    "  \n",
    "    x = datetime.datetime.fromtimestamp(ts).strftime('%Y-%m-%d %H:%M:%S')\n",
    "    \n",
    "    df.set_value(index, 'TimeStamp', str(x))"
   ]
  },
  {
   "cell_type": "markdown",
   "metadata": {},
   "source": [
    "# Combine Two Files With Time"
   ]
  },
  {
   "cell_type": "code",
   "execution_count": null,
   "metadata": {
    "collapsed": true
   },
   "outputs": [],
   "source": [
    "# Convert columns to datetime in bus data\n",
    "df['TimeStamp'] =  pd.to_datetime(df['TimeStamp'], format='%Y-%m-%d %H:%M:%S')\n",
    "\n",
    "# Convert columns to datetime in weather\n",
    "df2['date'] =  pd.to_datetime(df2['date'], format='%Y-%m-%d %H:%M')"
   ]
  },
  {
   "cell_type": "code",
   "execution_count": null,
   "metadata": {
    "collapsed": true
   },
   "outputs": [],
   "source": [
    "# Make lists for the temperature and rainfall\n",
    "temp = list()\n",
    "rain = list()"
   ]
  },
  {
   "cell_type": "code",
   "execution_count": null,
   "metadata": {
    "collapsed": true
   },
   "outputs": [],
   "source": [
    "\"\"\" WARNING!!!!! THIS LOOP TAKES 1 HOUR PER MILLION ROWS \"\"\"\n",
    "\n",
    "# This is in case you want to stop the loop early\n",
    "count = 0\n",
    "\n",
    "# First iterate through weather data\n",
    "for item2, row2 in df2.iterrows():\n",
    "    weather_time = row2[0]\n",
    "    \n",
    "     count += 1\n",
    "    \n",
    "     if count > 2:\n",
    "        break\n",
    "    \n",
    "    for item, row in df.iterrows():\n",
    "        \n",
    "        # If the bus time is greater than the weather and less that the weather + 1 hour\n",
    "        if row[0] >= row2[0] and row[0] < row2[0] + pd.DateOffset(hours=1):\n",
    "            temp.append(row2[4])\n",
    "            rain.append(row2[2])\n",
    "            \n",
    "        if row[0] >= row2[0] + pd.DateOffset(hours=1):\n",
    "            break"
   ]
  },
  {
   "cell_type": "markdown",
   "metadata": {},
   "source": [
    "## Add Lists to Dataframe"
   ]
  },
  {
   "cell_type": "code",
   "execution_count": null,
   "metadata": {
    "collapsed": true
   },
   "outputs": [],
   "source": [
    "df['Temp'] = temp"
   ]
  },
  {
   "cell_type": "code",
   "execution_count": null,
   "metadata": {
    "collapsed": true
   },
   "outputs": [],
   "source": [
    "df['Rain'] = rain"
   ]
  },
  {
   "cell_type": "markdown",
   "metadata": {},
   "source": [
    "# //------------------------------------------------------------------------------------------------------------//"
   ]
  },
  {
   "cell_type": "markdown",
   "metadata": {},
   "source": [
    "# Simplify File For Sprint One"
   ]
  },
  {
   "cell_type": "code",
   "execution_count": null,
   "metadata": {
    "collapsed": true
   },
   "outputs": [],
   "source": [
    "from ipykernel import kernelapp as app"
   ]
  },
  {
   "cell_type": "code",
   "execution_count": null,
   "metadata": {
    "collapsed": true
   },
   "outputs": [],
   "source": [
    "# Organise the Data in order of each journey and the time broadcast\n",
    "df = df.sort_values(['VehicleJourneyId', 'TimeStamp'], ascending=True)"
   ]
  },
  {
   "cell_type": "code",
   "execution_count": null,
   "metadata": {
    "collapsed": true
   },
   "outputs": [],
   "source": [
    "# Clean up index\n",
    "df = df.reset_index()\n",
    "del df['index']"
   ]
  },
  {
   "cell_type": "code",
   "execution_count": null,
   "metadata": {
    "collapsed": true
   },
   "outputs": [],
   "source": [
    "# For Sprint One We Are Only Using The Stop ID\n",
    "stop_df = df"
   ]
  },
  {
   "cell_type": "code",
   "execution_count": null,
   "metadata": {
    "collapsed": true
   },
   "outputs": [],
   "source": [
    "stop_df['TimeStamp'] =  pd.to_datetime(stop_df['TimeStamp'], format='%Y-%m-%d %H:%M:%S')"
   ]
  },
  {
   "cell_type": "code",
   "execution_count": null,
   "metadata": {
    "collapsed": true
   },
   "outputs": [],
   "source": [
    "# List to hold addresses for destination addresses\n",
    "dst_stop = list()\n",
    "travel_time = list()\n",
    "\n",
    "for item, row in stop_df.iterrows():\n",
    "    \n",
    "    # Set up values on first iteration\n",
    "    if item == 0:\n",
    "        last_stop = row[4]\n",
    "        last_id = row[3]\n",
    "        last_time = row[0]\n",
    "        continue\n",
    "    \n",
    "    current_id = row[3]\n",
    "    \n",
    "    # If it's a new Journey ID\n",
    "    if current_id != last_id:\n",
    "        last_stop = row[4]\n",
    "        last_id = row[3]\n",
    "        last_time = row[0]\n",
    "        df.drop(item - 1, inplace = True)\n",
    "        continue\n",
    "        \n",
    "    dst_stop.append(row[4])\n",
    "    travel_time.append(row[0] - last_time)\n",
    "    last_time = row[0]"
   ]
  },
  {
   "cell_type": "code",
   "execution_count": null,
   "metadata": {
    "collapsed": true
   },
   "outputs": [],
   "source": [
    "# Insert the last index here...\n",
    "stop_df = stop_df.drop(????????????)"
   ]
  },
  {
   "cell_type": "code",
   "execution_count": null,
   "metadata": {
    "collapsed": true
   },
   "outputs": [],
   "source": [
    "stop_df[\"DstStop\"] = dst_stop"
   ]
  },
  {
   "cell_type": "code",
   "execution_count": null,
   "metadata": {
    "collapsed": true
   },
   "outputs": [],
   "source": [
    "stop_df[\"TravelTime\"] = travel_time"
   ]
  },
  {
   "cell_type": "code",
   "execution_count": null,
   "metadata": {
    "collapsed": true
   },
   "outputs": [],
   "source": [
    "# Clean up index\n",
    "stop_df = stop_df.reset_index()\n",
    "del stop_df['index']"
   ]
  },
  {
   "cell_type": "markdown",
   "metadata": {},
   "source": [
    "## Add Day Of Week And Modify TimeStamp\n"
   ]
  },
  {
   "cell_type": "code",
   "execution_count": null,
   "metadata": {
    "collapsed": true
   },
   "outputs": [],
   "source": [
    "stop_df['weekday'] = stop_df['TimeStamp'].dt.dayofweek"
   ]
  },
  {
   "cell_type": "code",
   "execution_count": null,
   "metadata": {
    "collapsed": true
   },
   "outputs": [],
   "source": [
    "stop_df['TimeStamp'] = stop_df['TimeStamp'].astype(str)"
   ]
  },
  {
   "cell_type": "code",
   "execution_count": null,
   "metadata": {
    "collapsed": true
   },
   "outputs": [],
   "source": [
    "for index, row in stop_df.iterrows():\n",
    "    x = row[\"TimeStamp\"][-8:]\n",
    "    stop_df.set_value(index, 'TimeStamp', x)    "
   ]
  },
  {
   "cell_type": "code",
   "execution_count": null,
   "metadata": {
    "collapsed": true
   },
   "outputs": [],
   "source": [
    "# Convert to datetime\n",
    "# ad_df['TimeStamp'] =  pd.to_datetime(ad_df['TimeStamp'], format='%H:%M:%S')\n",
    "stop_df['TimeStamp'] = stop_df['TimeStamp'].astype(str)\n",
    "# Convert to category\n",
    "# ad_df[\"TimeStamp\"] = ad_df[\"TimeStamp\"].astype(\"category\")\n",
    "stop_df[\"weekday\"] = stop_df[\"weekday\"].astype(\"category\")"
   ]
  },
  {
   "cell_type": "code",
   "execution_count": null,
   "metadata": {
    "collapsed": true
   },
   "outputs": [],
   "source": [
    "# Must convert travelTime into an int representing journey time in sec\n",
    "stop_df['TravelTime'] = stop_df['TravelTime'] / np.timedelta64(1, 's')"
   ]
  },
  {
   "cell_type": "markdown",
   "metadata": {},
   "source": [
    "# Change Time Stamp Into Categorical Feature"
   ]
  },
  {
   "cell_type": "code",
   "execution_count": null,
   "metadata": {
    "collapsed": true
   },
   "outputs": [],
   "source": []
  }
 ],
 "metadata": {
  "anaconda-cloud": {},
  "kernelspec": {
   "display_name": "Python [conda root]",
   "language": "python",
   "name": "conda-root-py"
  },
  "language_info": {
   "codemirror_mode": {
    "name": "ipython",
    "version": 3
   },
   "file_extension": ".py",
   "mimetype": "text/x-python",
   "name": "python",
   "nbconvert_exporter": "python",
   "pygments_lexer": "ipython3",
   "version": "3.5.2"
  }
 },
 "nbformat": 4,
 "nbformat_minor": 1
}
