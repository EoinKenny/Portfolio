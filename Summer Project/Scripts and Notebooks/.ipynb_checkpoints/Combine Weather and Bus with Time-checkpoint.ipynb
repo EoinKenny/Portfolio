{
 "cells": [
  {
   "cell_type": "code",
   "execution_count": 1,
   "metadata": {
    "collapsed": true
   },
   "outputs": [],
   "source": [
    "import pandas as pd"
   ]
  },
  {
   "cell_type": "code",
   "execution_count": 2,
   "metadata": {
    "collapsed": false
   },
   "outputs": [],
   "source": [
    "df = pd.read_csv(\"Bus_data_with_timeStamp_and_address.csv\", low_memory = False)\n",
    "df2 = pd.read_csv(\"Weather_data_with_timeStamp_converted.csv\", low_memory = False)"
   ]
  },
  {
   "cell_type": "code",
   "execution_count": 3,
   "metadata": {
    "collapsed": false
   },
   "outputs": [
    {
     "data": {
      "text/html": [
       "<div>\n",
       "<table border=\"1\" class=\"dataframe\">\n",
       "  <thead>\n",
       "    <tr style=\"text-align: right;\">\n",
       "      <th></th>\n",
       "      <th>TimeStamp</th>\n",
       "      <th>LineId</th>\n",
       "      <th>Direction</th>\n",
       "      <th>JourneyPatternId</th>\n",
       "      <th>TimeFrame</th>\n",
       "      <th>VehicleJourneyId</th>\n",
       "      <th>BusOperator</th>\n",
       "      <th>Congestion</th>\n",
       "      <th>Long</th>\n",
       "      <th>Lat</th>\n",
       "      <th>Delay</th>\n",
       "      <th>BlockId</th>\n",
       "      <th>VehicleId</th>\n",
       "      <th>StopId</th>\n",
       "      <th>AtStop</th>\n",
       "      <th>Address</th>\n",
       "    </tr>\n",
       "  </thead>\n",
       "  <tbody>\n",
       "    <tr>\n",
       "      <th>0</th>\n",
       "      <td>2012-11-06 00:00:00</td>\n",
       "      <td>15</td>\n",
       "      <td>0</td>\n",
       "      <td>00150001</td>\n",
       "      <td>2012-11-05</td>\n",
       "      <td>5826</td>\n",
       "      <td>RD</td>\n",
       "      <td>0</td>\n",
       "      <td>-6.258584</td>\n",
       "      <td>53.340099</td>\n",
       "      <td>-361</td>\n",
       "      <td>15013</td>\n",
       "      <td>33210</td>\n",
       "      <td>4870</td>\n",
       "      <td>0</td>\n",
       "      <td>St. Colmcille's Way</td>\n",
       "    </tr>\n",
       "    <tr>\n",
       "      <th>1</th>\n",
       "      <td>2012-11-06 00:00:00</td>\n",
       "      <td>46</td>\n",
       "      <td>0</td>\n",
       "      <td>046A1002</td>\n",
       "      <td>2012-11-05</td>\n",
       "      <td>7267</td>\n",
       "      <td>D2</td>\n",
       "      <td>0</td>\n",
       "      <td>-6.259093</td>\n",
       "      <td>53.345425</td>\n",
       "      <td>-1101</td>\n",
       "      <td>46004</td>\n",
       "      <td>36024</td>\n",
       "      <td>794</td>\n",
       "      <td>0</td>\n",
       "      <td>Stop missing</td>\n",
       "    </tr>\n",
       "    <tr>\n",
       "      <th>2</th>\n",
       "      <td>2012-11-06 00:00:00</td>\n",
       "      <td>14</td>\n",
       "      <td>0</td>\n",
       "      <td>00140001</td>\n",
       "      <td>2012-11-05</td>\n",
       "      <td>6206</td>\n",
       "      <td>D2</td>\n",
       "      <td>0</td>\n",
       "      <td>-6.257329</td>\n",
       "      <td>53.287521</td>\n",
       "      <td>-126</td>\n",
       "      <td>14003</td>\n",
       "      <td>33325</td>\n",
       "      <td>1047</td>\n",
       "      <td>0</td>\n",
       "      <td>Beaumont Avenue</td>\n",
       "    </tr>\n",
       "    <tr>\n",
       "      <th>3</th>\n",
       "      <td>2012-11-06 00:00:02</td>\n",
       "      <td>41</td>\n",
       "      <td>0</td>\n",
       "      <td>041B0002</td>\n",
       "      <td>2012-11-05</td>\n",
       "      <td>61</td>\n",
       "      <td>SL</td>\n",
       "      <td>0</td>\n",
       "      <td>-6.264167</td>\n",
       "      <td>53.453217</td>\n",
       "      <td>-623</td>\n",
       "      <td>41008</td>\n",
       "      <td>33631</td>\n",
       "      <td>3874</td>\n",
       "      <td>1</td>\n",
       "      <td>Rolestown</td>\n",
       "    </tr>\n",
       "    <tr>\n",
       "      <th>4</th>\n",
       "      <td>2012-11-06 00:00:02</td>\n",
       "      <td>63</td>\n",
       "      <td>0</td>\n",
       "      <td>null</td>\n",
       "      <td>2012-11-05</td>\n",
       "      <td>1116</td>\n",
       "      <td>D2</td>\n",
       "      <td>0</td>\n",
       "      <td>-6.171050</td>\n",
       "      <td>53.259201</td>\n",
       "      <td>292</td>\n",
       "      <td>63003</td>\n",
       "      <td>33137</td>\n",
       "      <td>3283</td>\n",
       "      <td>0</td>\n",
       "      <td>Enniskerry Rd</td>\n",
       "    </tr>\n",
       "  </tbody>\n",
       "</table>\n",
       "</div>"
      ],
      "text/plain": [
       "             TimeStamp LineId  Direction JourneyPatternId   TimeFrame  \\\n",
       "0  2012-11-06 00:00:00     15          0         00150001  2012-11-05   \n",
       "1  2012-11-06 00:00:00     46          0         046A1002  2012-11-05   \n",
       "2  2012-11-06 00:00:00     14          0         00140001  2012-11-05   \n",
       "3  2012-11-06 00:00:02     41          0         041B0002  2012-11-05   \n",
       "4  2012-11-06 00:00:02     63          0             null  2012-11-05   \n",
       "\n",
       "   VehicleJourneyId BusOperator  Congestion      Long        Lat  Delay  \\\n",
       "0              5826          RD           0 -6.258584  53.340099   -361   \n",
       "1              7267          D2           0 -6.259093  53.345425  -1101   \n",
       "2              6206          D2           0 -6.257329  53.287521   -126   \n",
       "3                61          SL           0 -6.264167  53.453217   -623   \n",
       "4              1116          D2           0 -6.171050  53.259201    292   \n",
       "\n",
       "   BlockId  VehicleId StopId  AtStop              Address  \n",
       "0    15013      33210   4870       0  St. Colmcille's Way  \n",
       "1    46004      36024    794       0         Stop missing  \n",
       "2    14003      33325   1047       0      Beaumont Avenue  \n",
       "3    41008      33631   3874       1            Rolestown  \n",
       "4    63003      33137   3283       0        Enniskerry Rd  "
      ]
     },
     "execution_count": 3,
     "metadata": {},
     "output_type": "execute_result"
    }
   ],
   "source": [
    "df.head()"
   ]
  },
  {
   "cell_type": "code",
   "execution_count": 4,
   "metadata": {
    "collapsed": false
   },
   "outputs": [
    {
     "data": {
      "text/html": [
       "<div>\n",
       "<table border=\"1\" class=\"dataframe\">\n",
       "  <thead>\n",
       "    <tr style=\"text-align: right;\">\n",
       "      <th></th>\n",
       "      <th>date</th>\n",
       "      <th>ind</th>\n",
       "      <th>rain</th>\n",
       "      <th>ind.1</th>\n",
       "      <th>temp</th>\n",
       "      <th>ind.2</th>\n",
       "      <th>wetb</th>\n",
       "      <th>dewpt</th>\n",
       "      <th>vappr</th>\n",
       "      <th>rhum</th>\n",
       "      <th>msl</th>\n",
       "    </tr>\n",
       "  </thead>\n",
       "  <tbody>\n",
       "    <tr>\n",
       "      <th>0</th>\n",
       "      <td>2012-11-06 00:00</td>\n",
       "      <td>0</td>\n",
       "      <td>0</td>\n",
       "      <td>0</td>\n",
       "      <td>2.6</td>\n",
       "      <td>0</td>\n",
       "      <td>2.2</td>\n",
       "      <td>1.7</td>\n",
       "      <td>6.9</td>\n",
       "      <td>94</td>\n",
       "      <td>1020.7</td>\n",
       "    </tr>\n",
       "    <tr>\n",
       "      <th>1</th>\n",
       "      <td>2012-11-06 01:00</td>\n",
       "      <td>0</td>\n",
       "      <td>0</td>\n",
       "      <td>0</td>\n",
       "      <td>2.8</td>\n",
       "      <td>0</td>\n",
       "      <td>2.5</td>\n",
       "      <td>2</td>\n",
       "      <td>7</td>\n",
       "      <td>94</td>\n",
       "      <td>1021.1</td>\n",
       "    </tr>\n",
       "    <tr>\n",
       "      <th>2</th>\n",
       "      <td>2012-11-06 02:00</td>\n",
       "      <td>0</td>\n",
       "      <td>0</td>\n",
       "      <td>0</td>\n",
       "      <td>3.4</td>\n",
       "      <td>0</td>\n",
       "      <td>3</td>\n",
       "      <td>2.6</td>\n",
       "      <td>7.4</td>\n",
       "      <td>94</td>\n",
       "      <td>1020.8</td>\n",
       "    </tr>\n",
       "    <tr>\n",
       "      <th>3</th>\n",
       "      <td>2012-11-06 03:00</td>\n",
       "      <td>0</td>\n",
       "      <td>0</td>\n",
       "      <td>0</td>\n",
       "      <td>4.6</td>\n",
       "      <td>0</td>\n",
       "      <td>4.1</td>\n",
       "      <td>3.4</td>\n",
       "      <td>7.8</td>\n",
       "      <td>92</td>\n",
       "      <td>1020.7</td>\n",
       "    </tr>\n",
       "    <tr>\n",
       "      <th>4</th>\n",
       "      <td>2012-11-06 04:00</td>\n",
       "      <td>0</td>\n",
       "      <td>0</td>\n",
       "      <td>0</td>\n",
       "      <td>4.9</td>\n",
       "      <td>0</td>\n",
       "      <td>4.3</td>\n",
       "      <td>3.5</td>\n",
       "      <td>7.9</td>\n",
       "      <td>90</td>\n",
       "      <td>1020.6</td>\n",
       "    </tr>\n",
       "  </tbody>\n",
       "</table>\n",
       "</div>"
      ],
      "text/plain": [
       "               date  ind rain  ind.1 temp  ind.2 wetb dewpt vappr rhum     msl\n",
       "0  2012-11-06 00:00    0    0      0  2.6      0  2.2   1.7   6.9   94  1020.7\n",
       "1  2012-11-06 01:00    0    0      0  2.8      0  2.5     2     7   94  1021.1\n",
       "2  2012-11-06 02:00    0    0      0  3.4      0    3   2.6   7.4   94  1020.8\n",
       "3  2012-11-06 03:00    0    0      0  4.6      0  4.1   3.4   7.8   92  1020.7\n",
       "4  2012-11-06 04:00    0    0      0  4.9      0  4.3   3.5   7.9   90  1020.6"
      ]
     },
     "execution_count": 4,
     "metadata": {},
     "output_type": "execute_result"
    }
   ],
   "source": [
    "df2.head()"
   ]
  },
  {
   "cell_type": "code",
   "execution_count": 5,
   "metadata": {
    "collapsed": true
   },
   "outputs": [],
   "source": [
    "# Convert columns to datetime in bus data\n",
    "df['TimeStamp'] =  pd.to_datetime(df['TimeStamp'], format='%Y-%m-%d %H:%M:%S')\n",
    "\n",
    "# Convert columns to datetime in weather\n",
    "df2['date'] =  pd.to_datetime(df2['date'], format='%Y-%m-%d %H:%M')"
   ]
  },
  {
   "cell_type": "code",
   "execution_count": 6,
   "metadata": {
    "collapsed": true
   },
   "outputs": [],
   "source": [
    "# Make lists for the temperature and rainfall\n",
    "temp = list()\n",
    "rain = list()"
   ]
  },
  {
   "cell_type": "code",
   "execution_count": 7,
   "metadata": {
    "collapsed": false
   },
   "outputs": [],
   "source": [
    "# count = 0\n",
    "\n",
    "# Stop before getting to tomorrow\n",
    "stop = pd.Timestamp('2012-11-07 00:00:00', tz=None)\n",
    "\n",
    "# First iterate through weather data\n",
    "for item2, row2 in df2.iterrows():\n",
    "    weather_time = row2[0]\n",
    "    \n",
    "    if row2[0] >= stop:\n",
    "        break\n",
    "    \n",
    "#     count += 1\n",
    "#     if count > 2:\n",
    "#         break\n",
    "    \n",
    "    for item, row in df.iterrows():\n",
    "        \n",
    "        # If the bus time is greater than the weather and less that the weather + 1 hour\n",
    "        if row[0] >= row2[0] and row[0] < row2[0] + pd.DateOffset(hours=1):\n",
    "            temp.append(row2[4])\n",
    "            rain.append(row2[2])\n",
    "        if row[0] >= row2[0] + pd.DateOffset(hours=1):\n",
    "            break"
   ]
  },
  {
   "cell_type": "code",
   "execution_count": 8,
   "metadata": {
    "collapsed": false,
    "scrolled": true
   },
   "outputs": [
    {
     "data": {
      "text/plain": [
       "1765912"
      ]
     },
     "execution_count": 8,
     "metadata": {},
     "output_type": "execute_result"
    }
   ],
   "source": [
    "len(temp)"
   ]
  },
  {
   "cell_type": "code",
   "execution_count": 9,
   "metadata": {
    "collapsed": false
   },
   "outputs": [
    {
     "data": {
      "text/plain": [
       "1765912"
      ]
     },
     "execution_count": 9,
     "metadata": {},
     "output_type": "execute_result"
    }
   ],
   "source": [
    "len(rain)"
   ]
  },
  {
   "cell_type": "code",
   "execution_count": 10,
   "metadata": {
    "collapsed": false
   },
   "outputs": [
    {
     "data": {
      "text/plain": [
       "(1765912, 16)"
      ]
     },
     "execution_count": 10,
     "metadata": {},
     "output_type": "execute_result"
    }
   ],
   "source": [
    "df.shape"
   ]
  },
  {
   "cell_type": "markdown",
   "metadata": {},
   "source": [
    "## Add Lists to Dataframe"
   ]
  },
  {
   "cell_type": "code",
   "execution_count": 11,
   "metadata": {
    "collapsed": false
   },
   "outputs": [],
   "source": [
    "df['Temp'] = temp"
   ]
  },
  {
   "cell_type": "code",
   "execution_count": 12,
   "metadata": {
    "collapsed": false
   },
   "outputs": [],
   "source": [
    "df['Rain'] = rain"
   ]
  },
  {
   "cell_type": "code",
   "execution_count": 13,
   "metadata": {
    "collapsed": true
   },
   "outputs": [],
   "source": [
    "df.to_csv(\"FinalNov6th_Inc_Addresses_Weather.csv\", index=False)"
   ]
  },
  {
   "cell_type": "code",
   "execution_count": 17,
   "metadata": {
    "collapsed": false
   },
   "outputs": [],
   "source": [
    "df = pd.read_csv(\"FinalNov6th_Inc_Addresses_Weather.csv\", low_memory = False)"
   ]
  },
  {
   "cell_type": "code",
   "execution_count": 18,
   "metadata": {
    "collapsed": false
   },
   "outputs": [
    {
     "data": {
      "text/html": [
       "<div>\n",
       "<table border=\"1\" class=\"dataframe\">\n",
       "  <thead>\n",
       "    <tr style=\"text-align: right;\">\n",
       "      <th></th>\n",
       "      <th>TimeStamp</th>\n",
       "      <th>LineId</th>\n",
       "      <th>Direction</th>\n",
       "      <th>JourneyPatternId</th>\n",
       "      <th>TimeFrame</th>\n",
       "      <th>VehicleJourneyId</th>\n",
       "      <th>BusOperator</th>\n",
       "      <th>Congestion</th>\n",
       "      <th>Long</th>\n",
       "      <th>Lat</th>\n",
       "      <th>Delay</th>\n",
       "      <th>BlockId</th>\n",
       "      <th>VehicleId</th>\n",
       "      <th>StopId</th>\n",
       "      <th>AtStop</th>\n",
       "      <th>Address</th>\n",
       "      <th>Temp</th>\n",
       "      <th>Rain</th>\n",
       "    </tr>\n",
       "  </thead>\n",
       "  <tbody>\n",
       "    <tr>\n",
       "      <th>0</th>\n",
       "      <td>2012-11-06 00:00:00</td>\n",
       "      <td>15</td>\n",
       "      <td>0</td>\n",
       "      <td>00150001</td>\n",
       "      <td>2012-11-05</td>\n",
       "      <td>5826</td>\n",
       "      <td>RD</td>\n",
       "      <td>0</td>\n",
       "      <td>-6.258584</td>\n",
       "      <td>53.340099</td>\n",
       "      <td>-361</td>\n",
       "      <td>15013</td>\n",
       "      <td>33210</td>\n",
       "      <td>4870</td>\n",
       "      <td>0</td>\n",
       "      <td>St. Colmcille's Way</td>\n",
       "      <td>2.6</td>\n",
       "      <td>0.0</td>\n",
       "    </tr>\n",
       "    <tr>\n",
       "      <th>1</th>\n",
       "      <td>2012-11-06 00:00:00</td>\n",
       "      <td>46</td>\n",
       "      <td>0</td>\n",
       "      <td>046A1002</td>\n",
       "      <td>2012-11-05</td>\n",
       "      <td>7267</td>\n",
       "      <td>D2</td>\n",
       "      <td>0</td>\n",
       "      <td>-6.259093</td>\n",
       "      <td>53.345425</td>\n",
       "      <td>-1101</td>\n",
       "      <td>46004</td>\n",
       "      <td>36024</td>\n",
       "      <td>794</td>\n",
       "      <td>0</td>\n",
       "      <td>Stop missing</td>\n",
       "      <td>2.6</td>\n",
       "      <td>0.0</td>\n",
       "    </tr>\n",
       "    <tr>\n",
       "      <th>2</th>\n",
       "      <td>2012-11-06 00:00:00</td>\n",
       "      <td>14</td>\n",
       "      <td>0</td>\n",
       "      <td>00140001</td>\n",
       "      <td>2012-11-05</td>\n",
       "      <td>6206</td>\n",
       "      <td>D2</td>\n",
       "      <td>0</td>\n",
       "      <td>-6.257329</td>\n",
       "      <td>53.287521</td>\n",
       "      <td>-126</td>\n",
       "      <td>14003</td>\n",
       "      <td>33325</td>\n",
       "      <td>1047</td>\n",
       "      <td>0</td>\n",
       "      <td>Beaumont Avenue</td>\n",
       "      <td>2.6</td>\n",
       "      <td>0.0</td>\n",
       "    </tr>\n",
       "    <tr>\n",
       "      <th>3</th>\n",
       "      <td>2012-11-06 00:00:02</td>\n",
       "      <td>41</td>\n",
       "      <td>0</td>\n",
       "      <td>041B0002</td>\n",
       "      <td>2012-11-05</td>\n",
       "      <td>61</td>\n",
       "      <td>SL</td>\n",
       "      <td>0</td>\n",
       "      <td>-6.264167</td>\n",
       "      <td>53.453217</td>\n",
       "      <td>-623</td>\n",
       "      <td>41008</td>\n",
       "      <td>33631</td>\n",
       "      <td>3874</td>\n",
       "      <td>1</td>\n",
       "      <td>Rolestown</td>\n",
       "      <td>2.6</td>\n",
       "      <td>0.0</td>\n",
       "    </tr>\n",
       "    <tr>\n",
       "      <th>4</th>\n",
       "      <td>2012-11-06 00:00:02</td>\n",
       "      <td>63</td>\n",
       "      <td>0</td>\n",
       "      <td>null</td>\n",
       "      <td>2012-11-05</td>\n",
       "      <td>1116</td>\n",
       "      <td>D2</td>\n",
       "      <td>0</td>\n",
       "      <td>-6.171050</td>\n",
       "      <td>53.259201</td>\n",
       "      <td>292</td>\n",
       "      <td>63003</td>\n",
       "      <td>33137</td>\n",
       "      <td>3283</td>\n",
       "      <td>0</td>\n",
       "      <td>Enniskerry Rd</td>\n",
       "      <td>2.6</td>\n",
       "      <td>0.0</td>\n",
       "    </tr>\n",
       "  </tbody>\n",
       "</table>\n",
       "</div>"
      ],
      "text/plain": [
       "             TimeStamp LineId  Direction JourneyPatternId   TimeFrame  \\\n",
       "0  2012-11-06 00:00:00     15          0         00150001  2012-11-05   \n",
       "1  2012-11-06 00:00:00     46          0         046A1002  2012-11-05   \n",
       "2  2012-11-06 00:00:00     14          0         00140001  2012-11-05   \n",
       "3  2012-11-06 00:00:02     41          0         041B0002  2012-11-05   \n",
       "4  2012-11-06 00:00:02     63          0             null  2012-11-05   \n",
       "\n",
       "   VehicleJourneyId BusOperator  Congestion      Long        Lat  Delay  \\\n",
       "0              5826          RD           0 -6.258584  53.340099   -361   \n",
       "1              7267          D2           0 -6.259093  53.345425  -1101   \n",
       "2              6206          D2           0 -6.257329  53.287521   -126   \n",
       "3                61          SL           0 -6.264167  53.453217   -623   \n",
       "4              1116          D2           0 -6.171050  53.259201    292   \n",
       "\n",
       "   BlockId  VehicleId StopId  AtStop              Address  Temp  Rain  \n",
       "0    15013      33210   4870       0  St. Colmcille's Way   2.6   0.0  \n",
       "1    46004      36024    794       0         Stop missing   2.6   0.0  \n",
       "2    14003      33325   1047       0      Beaumont Avenue   2.6   0.0  \n",
       "3    41008      33631   3874       1            Rolestown   2.6   0.0  \n",
       "4    63003      33137   3283       0        Enniskerry Rd   2.6   0.0  "
      ]
     },
     "execution_count": 18,
     "metadata": {},
     "output_type": "execute_result"
    }
   ],
   "source": [
    "df.head()"
   ]
  }
 ],
 "metadata": {
  "anaconda-cloud": {},
  "kernelspec": {
   "display_name": "Python [conda root]",
   "language": "python",
   "name": "conda-root-py"
  },
  "language_info": {
   "codemirror_mode": {
    "name": "ipython",
    "version": 3
   },
   "file_extension": ".py",
   "mimetype": "text/x-python",
   "name": "python",
   "nbconvert_exporter": "python",
   "pygments_lexer": "ipython3",
   "version": "3.5.2"
  }
 },
 "nbformat": 4,
 "nbformat_minor": 1
}
