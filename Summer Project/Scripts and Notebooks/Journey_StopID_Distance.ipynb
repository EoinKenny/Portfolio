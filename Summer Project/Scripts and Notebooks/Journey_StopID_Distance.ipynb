{
 "cells": [
  {
   "cell_type": "markdown",
   "metadata": {},
   "source": [
    "# Make SQL Table For Journey Pattern ID's , Distance & Stop ID's"
   ]
  },
  {
   "cell_type": "code",
   "execution_count": 56,
   "metadata": {
    "collapsed": true
   },
   "outputs": [],
   "source": [
    "import pandas as pd\n",
    "import numpy as np"
   ]
  },
  {
   "cell_type": "code",
   "execution_count": 40,
   "metadata": {
    "collapsed": true
   },
   "outputs": [],
   "source": [
    "#filter data to those buses that are at the stop. We want to construct a dataframe with a full example of journey pattern id\n",
    "df = pd.read_hdf(\"cleaned_store.h5\", key=\"table_name\", where=\"At_Stop == 1\")"
   ]
  },
  {
   "cell_type": "code",
   "execution_count": 42,
   "metadata": {
    "collapsed": true
   },
   "outputs": [],
   "source": [
    "# Organise the Data\n",
    "df.sort_values(['Time_Frame', 'Vehicle_ID', 'Vehicle_Journey_ID', 'Timestamp'], ascending=True, inplace=True)\n",
    "grouped = df.groupby([\"Time_Frame\", \"Vehicle_ID\", \"Vehicle_Journey_ID\"])"
   ]
  },
  {
   "cell_type": "code",
   "execution_count": 43,
   "metadata": {
    "collapsed": true
   },
   "outputs": [],
   "source": [
    "def func(group):\n",
    "    # filter all group whose first row for time is not 0.0, this is just a precaution to get the longest and most correct group\n",
    "    return group.iloc[0,14] == 0.0\n"
   ]
  },
  {
   "cell_type": "code",
   "execution_count": 44,
   "metadata": {
    "collapsed": true
   },
   "outputs": [],
   "source": [
    "df = grouped.filter(lambda x: func(x))"
   ]
  },
  {
   "cell_type": "code",
   "execution_count": 45,
   "metadata": {
    "collapsed": true
   },
   "outputs": [],
   "source": [
    "# Dataframe to hold information\n",
    "sql_table = pd.DataFrame()\n",
    "\n",
    "# Get Unique Journey Pattern ID's \n",
    "j_patterns = df[\"Journey_Pattern_ID\"].value_counts().index\n",
    "\n",
    "# Write Loop to add longest example of each JourneyPatternId to a new dataframe\n",
    "for journey in j_patterns:\n",
    "    add_df = df[df.Journey_Pattern_ID == journey]\n",
    "   \n",
    "    add_df = add_df.groupby([\"Time_Frame\", \"Vehicle_ID\", \"Vehicle_Journey_ID\"])\n",
    "   \n",
    "    add_df = sorted(add_df, key=lambda x: len(x[1]), reverse=True)\n",
    "   \n",
    "    add_df = add_df[0][1]\n",
    "           \n",
    "    # Combine DataFrames\n",
    "    sql_table = sql_table.append(add_df, ignore_index=True)"
   ]
  },
  {
   "cell_type": "code",
   "execution_count": 48,
   "metadata": {
    "collapsed": true
   },
   "outputs": [],
   "source": [
    "sql_table = sql_table[[\"Journey_Pattern_ID\", \"Stop_ID\", \"Distance\"]]"
   ]
  },
  {
   "cell_type": "code",
   "execution_count": 54,
   "metadata": {
    "collapsed": false
   },
   "outputs": [
    {
     "name": "stderr",
     "output_type": "stream",
     "text": [
      "C:\\Users\\Daniele\\Anaconda3\\lib\\site-packages\\ipykernel_launcher.py:2: SettingWithCopyWarning: \n",
      "A value is trying to be set on a copy of a slice from a DataFrame\n",
      "\n",
      "See the caveats in the documentation: http://pandas.pydata.org/pandas-docs/stable/indexing.html#indexing-view-versus-copy\n",
      "  \n"
     ]
    }
   ],
   "source": [
    "# Organise the Data\n",
    "sql_table.sort_values([\"Journey_Pattern_ID\", \"Distance\"], ascending=True, inplace=True)\n",
    "sql_table.reset_index(inplace=True, drop=True)"
   ]
  },
  {
   "cell_type": "code",
   "execution_count": 55,
   "metadata": {
    "collapsed": true
   },
   "outputs": [],
   "source": [
    "sql_table.to_csv(\"JourneyPatternID_StopID.csv\",index=False)"
   ]
  }
 ],
 "metadata": {
  "anaconda-cloud": {},
  "kernelspec": {
   "display_name": "Python [default]",
   "language": "python",
   "name": "python3"
  },
  "language_info": {
   "codemirror_mode": {
    "name": "ipython",
    "version": 3
   },
   "file_extension": ".py",
   "mimetype": "text/x-python",
   "name": "python",
   "nbconvert_exporter": "python",
   "pygments_lexer": "ipython3",
   "version": "3.5.2"
  }
 },
 "nbformat": 4,
 "nbformat_minor": 2
}
