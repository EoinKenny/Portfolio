{
 "cells": [
  {
   "cell_type": "code",
   "execution_count": 1,
   "metadata": {
    "collapsed": true
   },
   "outputs": [],
   "source": [
    "import pandas as pd\n",
    "import numpy as np\n",
    "import pandas as pd\n",
    "import matplotlib as mpl\n",
    "import matplotlib.pyplot as plt\n",
    "\n",
    "%matplotlib inline\n",
    "\n",
    "# import seaborn as sns\n",
    "# sns.set(style=\"whitegrid\", color_codes=True)\n",
    "\n",
    "import seaborn as sns\n",
    "\n",
    "# For plot sizes\n",
    "from pylab import rcParams\n",
    "rcParams['figure.figsize'] = 10, 5\n",
    "\n",
    "# this is the standard import if you're using \"formula notation\" (similar to R)\n",
    "import statsmodels.formula.api as smf"
   ]
  },
  {
   "cell_type": "code",
   "execution_count": 2,
   "metadata": {
    "collapsed": false
   },
   "outputs": [],
   "source": [
    "df = pd.read_hdf(\"cleaned_store.h5\", key=\"table_name\", where='Journey_Pattern_ID == \"00401001\"', columns=['Timestamp', \"Journey_Pattern_ID\", \"Time_Frame\", \"Vehicle_Journey_ID\", \"Week_Day\", \"Distance\", \"TravelTime\", \"TimeCategory\", \"Rain\"])\n",
    "df.columns = [\"Timestamp\", \"JourneyPatternId\", \"TimeFrame\", \"VehicleJourneyId\", \"Day\", \"Distance\", \"TravelTime\", \"TimeCategory\", \"Rain\"]"
   ]
  },
  {
   "cell_type": "code",
   "execution_count": 3,
   "metadata": {
    "collapsed": false
   },
   "outputs": [
    {
     "data": {
      "text/html": [
       "<div>\n",
       "<style>\n",
       "    .dataframe thead tr:only-child th {\n",
       "        text-align: right;\n",
       "    }\n",
       "\n",
       "    .dataframe thead th {\n",
       "        text-align: left;\n",
       "    }\n",
       "\n",
       "    .dataframe tbody tr th {\n",
       "        vertical-align: top;\n",
       "    }\n",
       "</style>\n",
       "<table border=\"1\" class=\"dataframe\">\n",
       "  <thead>\n",
       "    <tr style=\"text-align: right;\">\n",
       "      <th></th>\n",
       "      <th>Timestamp</th>\n",
       "      <th>JourneyPatternId</th>\n",
       "      <th>TimeFrame</th>\n",
       "      <th>VehicleJourneyId</th>\n",
       "      <th>Day</th>\n",
       "      <th>Distance</th>\n",
       "      <th>TravelTime</th>\n",
       "      <th>TimeCategory</th>\n",
       "      <th>Rain</th>\n",
       "    </tr>\n",
       "  </thead>\n",
       "  <tbody>\n",
       "    <tr>\n",
       "      <th>823</th>\n",
       "      <td>2012-11-12 13:01:23</td>\n",
       "      <td>00401001</td>\n",
       "      <td>2012-11-12</td>\n",
       "      <td>6462</td>\n",
       "      <td>0</td>\n",
       "      <td>10.693702</td>\n",
       "      <td>1953.0</td>\n",
       "      <td>12:30:00</td>\n",
       "      <td>0.0</td>\n",
       "    </tr>\n",
       "    <tr>\n",
       "      <th>824</th>\n",
       "      <td>2012-11-12 13:02:41</td>\n",
       "      <td>00401001</td>\n",
       "      <td>2012-11-12</td>\n",
       "      <td>6462</td>\n",
       "      <td>0</td>\n",
       "      <td>11.236275</td>\n",
       "      <td>2031.0</td>\n",
       "      <td>12:30:00</td>\n",
       "      <td>0.0</td>\n",
       "    </tr>\n",
       "    <tr>\n",
       "      <th>825</th>\n",
       "      <td>2012-11-12 13:03:01</td>\n",
       "      <td>00401001</td>\n",
       "      <td>2012-11-12</td>\n",
       "      <td>6462</td>\n",
       "      <td>0</td>\n",
       "      <td>11.359826</td>\n",
       "      <td>2051.0</td>\n",
       "      <td>12:30:00</td>\n",
       "      <td>0.0</td>\n",
       "    </tr>\n",
       "    <tr>\n",
       "      <th>826</th>\n",
       "      <td>2012-11-12 13:05:23</td>\n",
       "      <td>00401001</td>\n",
       "      <td>2012-11-12</td>\n",
       "      <td>6462</td>\n",
       "      <td>0</td>\n",
       "      <td>11.750859</td>\n",
       "      <td>2193.0</td>\n",
       "      <td>12:30:00</td>\n",
       "      <td>0.0</td>\n",
       "    </tr>\n",
       "    <tr>\n",
       "      <th>827</th>\n",
       "      <td>2012-11-12 13:06:02</td>\n",
       "      <td>00401001</td>\n",
       "      <td>2012-11-12</td>\n",
       "      <td>6462</td>\n",
       "      <td>0</td>\n",
       "      <td>12.158680</td>\n",
       "      <td>2232.0</td>\n",
       "      <td>12:30:00</td>\n",
       "      <td>0.0</td>\n",
       "    </tr>\n",
       "  </tbody>\n",
       "</table>\n",
       "</div>"
      ],
      "text/plain": [
       "              Timestamp JourneyPatternId  TimeFrame VehicleJourneyId  Day  \\\n",
       "823 2012-11-12 13:01:23         00401001 2012-11-12             6462    0   \n",
       "824 2012-11-12 13:02:41         00401001 2012-11-12             6462    0   \n",
       "825 2012-11-12 13:03:01         00401001 2012-11-12             6462    0   \n",
       "826 2012-11-12 13:05:23         00401001 2012-11-12             6462    0   \n",
       "827 2012-11-12 13:06:02         00401001 2012-11-12             6462    0   \n",
       "\n",
       "      Distance  TravelTime TimeCategory  Rain  \n",
       "823  10.693702      1953.0     12:30:00   0.0  \n",
       "824  11.236275      2031.0     12:30:00   0.0  \n",
       "825  11.359826      2051.0     12:30:00   0.0  \n",
       "826  11.750859      2193.0     12:30:00   0.0  \n",
       "827  12.158680      2232.0     12:30:00   0.0  "
      ]
     },
     "execution_count": 3,
     "metadata": {},
     "output_type": "execute_result"
    }
   ],
   "source": [
    "df.head()"
   ]
  },
  {
   "cell_type": "code",
   "execution_count": 4,
   "metadata": {
    "collapsed": false
   },
   "outputs": [
    {
     "data": {
      "text/plain": [
       "(256594, 9)"
      ]
     },
     "execution_count": 4,
     "metadata": {},
     "output_type": "execute_result"
    }
   ],
   "source": [
    "df.shape"
   ]
  },
  {
   "cell_type": "markdown",
   "metadata": {},
   "source": [
    "## Change Day Category"
   ]
  },
  {
   "cell_type": "code",
   "execution_count": 5,
   "metadata": {
    "collapsed": true
   },
   "outputs": [],
   "source": [
    "# Organise the Data\n",
    "df = df.sort_values(['TimeFrame', 'VehicleJourneyId', 'Timestamp'], ascending=True)\n",
    "\n",
    "# Clean up index\n",
    "df = df.reset_index()\n",
    "del df['index']"
   ]
  },
  {
   "cell_type": "code",
   "execution_count": 6,
   "metadata": {
    "collapsed": true
   },
   "outputs": [],
   "source": [
    "df.Day = df.Day.astype(\"str\")"
   ]
  },
  {
   "cell_type": "code",
   "execution_count": 7,
   "metadata": {
    "collapsed": true
   },
   "outputs": [],
   "source": [
    "# Create group object to work with \n",
    "gb = df.groupby([\"TimeFrame\"], as_index=False, group_keys=False)"
   ]
  },
  {
   "cell_type": "code",
   "execution_count": 8,
   "metadata": {
    "collapsed": false
   },
   "outputs": [],
   "source": [
    "def change_day(group):\n",
    "    \n",
    "    day_num = group.Day.value_counts().index.tolist()[0]\n",
    "    \n",
    "    if day_num == '0' or day_num == '1' or day_num == '2' or day_num == '3' or day_num == '4':\n",
    "        group.Day = 'Mon-Fri'\n",
    "        \n",
    "    if day_num == '5':\n",
    "        group.Day = 'Sat'\n",
    "        \n",
    "    if day_num == '6':\n",
    "        group.Day = 'Sun'\n",
    "    \n",
    "    return group"
   ]
  },
  {
   "cell_type": "code",
   "execution_count": 9,
   "metadata": {
    "collapsed": false,
    "scrolled": true
   },
   "outputs": [],
   "source": [
    "df = gb.apply(change_day)"
   ]
  },
  {
   "cell_type": "code",
   "execution_count": 10,
   "metadata": {
    "collapsed": true
   },
   "outputs": [],
   "source": [
    "df.Day = df.Day.astype(\"category\")"
   ]
  },
  {
   "cell_type": "code",
   "execution_count": 11,
   "metadata": {
    "collapsed": false
   },
   "outputs": [
    {
     "data": {
      "text/plain": [
       "Timestamp           datetime64[ns]\n",
       "JourneyPatternId            object\n",
       "TimeFrame           datetime64[ns]\n",
       "VehicleJourneyId            object\n",
       "Day                       category\n",
       "Distance                   float64\n",
       "TravelTime                 float64\n",
       "TimeCategory                object\n",
       "Rain                       float32\n",
       "dtype: object"
      ]
     },
     "execution_count": 11,
     "metadata": {},
     "output_type": "execute_result"
    }
   ],
   "source": [
    "df.dtypes"
   ]
  },
  {
   "cell_type": "markdown",
   "metadata": {
    "collapsed": false
   },
   "source": [
    "## Change TimeCategory To New Speed Category"
   ]
  },
  {
   "cell_type": "code",
   "execution_count": 12,
   "metadata": {
    "collapsed": false
   },
   "outputs": [
    {
     "data": {
      "text/html": [
       "<div>\n",
       "<style>\n",
       "    .dataframe thead tr:only-child th {\n",
       "        text-align: right;\n",
       "    }\n",
       "\n",
       "    .dataframe thead th {\n",
       "        text-align: left;\n",
       "    }\n",
       "\n",
       "    .dataframe tbody tr th {\n",
       "        vertical-align: top;\n",
       "    }\n",
       "</style>\n",
       "<table border=\"1\" class=\"dataframe\">\n",
       "  <thead>\n",
       "    <tr style=\"text-align: right;\">\n",
       "      <th></th>\n",
       "      <th>Timestamp</th>\n",
       "      <th>JourneyPatternId</th>\n",
       "      <th>TimeFrame</th>\n",
       "      <th>VehicleJourneyId</th>\n",
       "      <th>Day</th>\n",
       "      <th>Distance</th>\n",
       "      <th>TravelTime</th>\n",
       "      <th>TimeCategory</th>\n",
       "      <th>Rain</th>\n",
       "    </tr>\n",
       "  </thead>\n",
       "  <tbody>\n",
       "    <tr>\n",
       "      <th>0</th>\n",
       "      <td>2012-11-06 12:40:39</td>\n",
       "      <td>00401001</td>\n",
       "      <td>2012-11-06</td>\n",
       "      <td>6320</td>\n",
       "      <td>Mon-Fri</td>\n",
       "      <td>0.000000</td>\n",
       "      <td>0.0</td>\n",
       "      <td>12:30:00</td>\n",
       "      <td>0.0</td>\n",
       "    </tr>\n",
       "    <tr>\n",
       "      <th>1</th>\n",
       "      <td>2012-11-06 12:42:58</td>\n",
       "      <td>00401001</td>\n",
       "      <td>2012-11-06</td>\n",
       "      <td>6320</td>\n",
       "      <td>Mon-Fri</td>\n",
       "      <td>1.288087</td>\n",
       "      <td>139.0</td>\n",
       "      <td>12:30:00</td>\n",
       "      <td>0.0</td>\n",
       "    </tr>\n",
       "    <tr>\n",
       "      <th>2</th>\n",
       "      <td>2012-11-06 12:43:41</td>\n",
       "      <td>00401001</td>\n",
       "      <td>2012-11-06</td>\n",
       "      <td>6320</td>\n",
       "      <td>Mon-Fri</td>\n",
       "      <td>1.539224</td>\n",
       "      <td>182.0</td>\n",
       "      <td>12:30:00</td>\n",
       "      <td>0.0</td>\n",
       "    </tr>\n",
       "    <tr>\n",
       "      <th>3</th>\n",
       "      <td>2012-11-06 12:43:59</td>\n",
       "      <td>00401001</td>\n",
       "      <td>2012-11-06</td>\n",
       "      <td>6320</td>\n",
       "      <td>Mon-Fri</td>\n",
       "      <td>1.860739</td>\n",
       "      <td>200.0</td>\n",
       "      <td>12:30:00</td>\n",
       "      <td>0.0</td>\n",
       "    </tr>\n",
       "    <tr>\n",
       "      <th>4</th>\n",
       "      <td>2012-11-06 12:44:20</td>\n",
       "      <td>00401001</td>\n",
       "      <td>2012-11-06</td>\n",
       "      <td>6320</td>\n",
       "      <td>Mon-Fri</td>\n",
       "      <td>2.188079</td>\n",
       "      <td>221.0</td>\n",
       "      <td>12:30:00</td>\n",
       "      <td>0.0</td>\n",
       "    </tr>\n",
       "  </tbody>\n",
       "</table>\n",
       "</div>"
      ],
      "text/plain": [
       "            Timestamp JourneyPatternId  TimeFrame VehicleJourneyId      Day  \\\n",
       "0 2012-11-06 12:40:39         00401001 2012-11-06             6320  Mon-Fri   \n",
       "1 2012-11-06 12:42:58         00401001 2012-11-06             6320  Mon-Fri   \n",
       "2 2012-11-06 12:43:41         00401001 2012-11-06             6320  Mon-Fri   \n",
       "3 2012-11-06 12:43:59         00401001 2012-11-06             6320  Mon-Fri   \n",
       "4 2012-11-06 12:44:20         00401001 2012-11-06             6320  Mon-Fri   \n",
       "\n",
       "   Distance  TravelTime TimeCategory  Rain  \n",
       "0  0.000000         0.0     12:30:00   0.0  \n",
       "1  1.288087       139.0     12:30:00   0.0  \n",
       "2  1.539224       182.0     12:30:00   0.0  \n",
       "3  1.860739       200.0     12:30:00   0.0  \n",
       "4  2.188079       221.0     12:30:00   0.0  "
      ]
     },
     "execution_count": 12,
     "metadata": {},
     "output_type": "execute_result"
    }
   ],
   "source": [
    "df.head()"
   ]
  },
  {
   "cell_type": "code",
   "execution_count": 13,
   "metadata": {
    "collapsed": true
   },
   "outputs": [],
   "source": [
    "df.columns = [\"Timestamp\", \"JourneyPatternId\", \"TimeFrame\", \"VehicleJourneyId\", \"Day\", \"Distance\", \"TravelTime\", \"Speed\", \"Rain\"]"
   ]
  },
  {
   "cell_type": "code",
   "execution_count": 14,
   "metadata": {
    "collapsed": false
   },
   "outputs": [],
   "source": [
    "# Organise the Data\n",
    "df = df.sort_values(['TimeFrame', 'VehicleJourneyId', 'Timestamp'], ascending=True)\n",
    "\n",
    "# Clean up index\n",
    "df = df.reset_index()\n",
    "del df['index']"
   ]
  },
  {
   "cell_type": "code",
   "execution_count": 15,
   "metadata": {
    "collapsed": true
   },
   "outputs": [],
   "source": [
    "# Create group object to work with \n",
    "gb = df.groupby([\"TimeFrame\", \"VehicleJourneyId\"], as_index=False, group_keys=False)"
   ]
  },
  {
   "cell_type": "code",
   "execution_count": 16,
   "metadata": {
    "collapsed": false
   },
   "outputs": [],
   "source": [
    "def change_day(group):\n",
    "    \n",
    "    day = group.Day.value_counts().index.tolist()[0]\n",
    "    time_cat = group.Speed.value_counts().index.tolist()[0]\n",
    "    \n",
    "    # For Weekdays\n",
    "    if day == 'Mon-Fri':\n",
    "        if time_cat == \"06:00:00\":\n",
    "            group.Speed = 'Fast'\n",
    "        if time_cat == \"06:30:00\":\n",
    "            group.Speed = 'Fast'\n",
    "        if time_cat == \"07:00:00\":\n",
    "            group.Speed = 'Medium'\n",
    "        if time_cat == \"07:30:00\":\n",
    "            group.Speed = 'Medium'\n",
    "        if time_cat == \"08:00:00\":\n",
    "            group.Speed = 'Slow'\n",
    "        if time_cat == \"08:30:00\":\n",
    "            group.Speed = 'Slow'\n",
    "        if time_cat == \"09:00:00\":\n",
    "            group.Speed = 'Slow'\n",
    "        if time_cat == \"09:30:00\":\n",
    "            group.Speed = 'Medium'\n",
    "        if time_cat == \"10:00:00\":\n",
    "            group.Speed = 'Medium'\n",
    "        if time_cat == \"10:30:00\":\n",
    "            group.Speed = 'Medium'\n",
    "        if time_cat == \"11:00:00\":\n",
    "            group.Speed = 'Medium'\n",
    "        if time_cat == \"11:30:00\":\n",
    "            group.Speed = 'Medium'\n",
    "        if time_cat == \"12:00:00\":\n",
    "            group.Speed = 'Medium'\n",
    "        if time_cat == \"12:30:00\":\n",
    "            group.Speed = 'Medium'\n",
    "        if time_cat == \"13:00:00\":\n",
    "            group.Speed = 'Slow'\n",
    "        if time_cat == \"13:30:00\":\n",
    "            group.Speed = 'Slow'\n",
    "        if time_cat == \"14:00:00\":\n",
    "            group.Speed = 'Medium'\n",
    "        if time_cat == \"14:30:00\":\n",
    "            group.Speed = 'Medium'\n",
    "        if time_cat == \"15:00:00\":\n",
    "            group.Speed = 'Medium'\n",
    "        if time_cat == \"15:30:00\":\n",
    "            group.Speed = 'Medium'\n",
    "        if time_cat == \"16:00:00\":\n",
    "            group.Speed = 'Slow'\n",
    "        if time_cat == \"16:30:00\":\n",
    "            group.Speed = 'Slow'\n",
    "        if time_cat == \"17:00:00\":\n",
    "            group.Speed = 'Slow'\n",
    "        if time_cat == \"17:30:00\":\n",
    "            group.Speed = 'Slow'\n",
    "        if time_cat == \"18:00:00\":\n",
    "            group.Speed = 'Slow'\n",
    "        if time_cat == \"18:30:00\":\n",
    "            group.Speed = 'Medium'\n",
    "        if time_cat == \"19:00:00\":\n",
    "            group.Speed = 'Medium'\n",
    "        if time_cat == \"19:30:00\":\n",
    "            group.Speed = 'Medium'\n",
    "        if time_cat == \"20:00:00\":\n",
    "            group.Speed = 'Medium'\n",
    "        if time_cat == \"20:30:00\":\n",
    "            group.Speed = 'Medium'\n",
    "        if time_cat == \"21:00:00\":\n",
    "            group.Speed = 'Medium'\n",
    "        if time_cat == \"21:30:00\":\n",
    "            group.Speed = 'Fast'\n",
    "        if time_cat == \"22:00:00\":\n",
    "            group.Speed = 'Fast'\n",
    "        if time_cat == \"22:30:00\":\n",
    "            group.Speed = 'Fast'\n",
    "        if time_cat == \"23:00:00\":\n",
    "            group.Speed = 'Fast'\n",
    "        if time_cat == \"23:30:00\":\n",
    "            group.Speed = 'Fast'\n",
    "        if time_cat == \"00:00:00\":\n",
    "            group.Speed = 'Fast'\n",
    "        if time_cat == \"00:30:00\":\n",
    "            group.Speed = 'Fast'\n",
    "        if time_cat == \"01:00:00\":\n",
    "            group.Speed = 'Fast'\n",
    "        if time_cat == \"01:30:00\":\n",
    "            group.Speed = 'Fast'\n",
    "        if time_cat == \"02:00:00\":\n",
    "            group.Speed = 'Fast'\n",
    "        if time_cat == \"02:30:00\":\n",
    "            group.Speed = 'Fast'\n",
    "            \n",
    "    # For Saturday\n",
    "    if day == 'Sat':\n",
    "        if time_cat == \"06:00:00\":\n",
    "            group.Speed = 'Fast'\n",
    "        if time_cat == \"06:30:00\":\n",
    "            group.Speed = 'Fast'\n",
    "        if time_cat == \"07:00:00\":\n",
    "            group.Speed = 'Fast'\n",
    "        if time_cat == \"07:30:00\":\n",
    "            group.Speed = 'Fast'\n",
    "        if time_cat == \"08:00:00\":\n",
    "            group.Speed = 'Medium'\n",
    "        if time_cat == \"08:30:00\":\n",
    "            group.Speed = 'Medium'\n",
    "        if time_cat == \"09:00:00\":\n",
    "            group.Speed = 'Slow'\n",
    "        if time_cat == \"09:30:00\":\n",
    "            group.Speed = 'Medium'\n",
    "        if time_cat == \"10:00:00\":\n",
    "            group.Speed = 'Medium'\n",
    "        if time_cat == \"10:30:00\":\n",
    "            group.Speed = 'Medium'\n",
    "        if time_cat == \"11:00:00\":\n",
    "            group.Speed = 'Medium'\n",
    "        if time_cat == \"11:30:00\":\n",
    "            group.Speed = 'Medium'\n",
    "        if time_cat == \"12:00:00\":\n",
    "            group.Speed = 'Medium'\n",
    "        if time_cat == \"12:30:00\":\n",
    "            group.Speed = 'Medium'\n",
    "        if time_cat == \"13:00:00\":\n",
    "            group.Speed = 'Slow'\n",
    "        if time_cat == \"13:30:00\":\n",
    "            group.Speed = 'Medium'\n",
    "        if time_cat == \"14:00:00\":\n",
    "            group.Speed = 'Medium'\n",
    "        if time_cat == \"14:30:00\":\n",
    "            group.Speed = 'Medium'\n",
    "        if time_cat == \"15:00:00\":\n",
    "            group.Speed = 'Medium'\n",
    "        if time_cat == \"15:30:00\":\n",
    "            group.Speed = 'Medium'\n",
    "        if time_cat == \"16:00:00\":\n",
    "            group.Speed = 'Slow'\n",
    "        if time_cat == \"16:30:00\":\n",
    "            group.Speed = 'Medium'\n",
    "        if time_cat == \"17:00:00\":\n",
    "            group.Speed = 'Medium'\n",
    "        if time_cat == \"17:30:00\":\n",
    "            group.Speed = 'Medium'\n",
    "        if time_cat == \"18:00:00\":\n",
    "            group.Speed = 'Medium'\n",
    "        if time_cat == \"18:30:00\":\n",
    "            group.Speed = 'Medium'\n",
    "        if time_cat == \"19:00:00\":\n",
    "            group.Speed = 'Medium'\n",
    "        if time_cat == \"19:30:00\":\n",
    "            group.Speed = 'Medium'\n",
    "        if time_cat == \"20:00:00\":\n",
    "            group.Speed = 'Medium'\n",
    "        if time_cat == \"20:30:00\":\n",
    "            group.Speed = 'Medium'\n",
    "        if time_cat == \"21:00:00\":\n",
    "            group.Speed = 'Fast'\n",
    "        if time_cat == \"21:30:00\":\n",
    "            group.Speed = 'Fast'\n",
    "        if time_cat == \"22:00:00\":\n",
    "            group.Speed = 'Fast'\n",
    "        if time_cat == \"22:30:00\":\n",
    "            group.Speed = 'Fast'\n",
    "        if time_cat == \"23:00:00\":\n",
    "            group.Speed = 'Fast'\n",
    "        if time_cat == \"23:30:00\":\n",
    "            group.Speed = 'Fast'\n",
    "        if time_cat == \"00:00:00\":\n",
    "            group.Speed = 'Fast'\n",
    "        if time_cat == \"00:30:00\":\n",
    "            group.Speed = 'Fast'\n",
    "        if time_cat == \"01:00:00\":\n",
    "            group.Speed = 'Fast'\n",
    "        if time_cat == \"01:30:00\":\n",
    "            group.Speed = 'Fast'\n",
    "        if time_cat == \"02:00:00\":\n",
    "            group.Speed = 'Fast'\n",
    "        if time_cat == \"02:30:00\":\n",
    "            group.Speed = 'Fast'\n",
    "            \n",
    "    # For Sunday\n",
    "    if day == 'Sun':\n",
    "        if time_cat == \"06:00:00\":\n",
    "            group.Speed = 'Fast'\n",
    "        if time_cat == \"06:30:00\":\n",
    "            group.Speed = 'Fast'\n",
    "        if time_cat == \"07:00:00\":\n",
    "            group.Speed = 'Fast'\n",
    "        if time_cat == \"07:30:00\":\n",
    "            group.Speed = 'Fast'\n",
    "        if time_cat == \"08:00:00\":\n",
    "            group.Speed = 'Fast'\n",
    "        if time_cat == \"08:30:00\":\n",
    "            group.Speed = 'Fast'\n",
    "        if time_cat == \"09:00:00\":\n",
    "            group.Speed = 'Medium'\n",
    "        if time_cat == \"09:30:00\":\n",
    "            group.Speed = 'Fast'\n",
    "        if time_cat == \"10:00:00\":\n",
    "            group.Speed = 'Fast'\n",
    "        if time_cat == \"10:30:00\":\n",
    "            group.Speed = 'Fast'\n",
    "        if time_cat == \"11:00:00\":\n",
    "            group.Speed = 'Medium'\n",
    "        if time_cat == \"11:30:00\":\n",
    "            group.Speed = 'Medium'\n",
    "        if time_cat == \"12:00:00\":\n",
    "            group.Speed = 'Medium'\n",
    "        if time_cat == \"12:30:00\":\n",
    "            group.Speed = 'Medium'\n",
    "        if time_cat == \"13:00:00\":\n",
    "            group.Speed = 'Slow'\n",
    "        if time_cat == \"13:30:00\":\n",
    "            group.Speed = 'Medium'\n",
    "        if time_cat == \"14:00:00\":\n",
    "            group.Speed = 'Medium'\n",
    "        if time_cat == \"14:30:00\":\n",
    "            group.Speed = 'Medium'\n",
    "        if time_cat == \"15:00:00\":\n",
    "            group.Speed = 'Medium'\n",
    "        if time_cat == \"15:30:00\":\n",
    "            group.Speed = 'Medium'\n",
    "        if time_cat == \"16:00:00\":\n",
    "            group.Speed = 'Medium'\n",
    "        if time_cat == \"16:30:00\":\n",
    "            group.Speed = 'Medium'\n",
    "        if time_cat == \"17:00:00\":\n",
    "            group.Speed = 'Medium'\n",
    "        if time_cat == \"17:30:00\":\n",
    "            group.Speed = 'Medium'\n",
    "        if time_cat == \"18:00:00\":\n",
    "            group.Speed = 'Medium'\n",
    "        if time_cat == \"18:30:00\":\n",
    "            group.Speed = 'Medium'\n",
    "        if time_cat == \"19:00:00\":\n",
    "            group.Speed = 'Medium'\n",
    "        if time_cat == \"19:30:00\":\n",
    "            group.Speed = 'Medium'\n",
    "        if time_cat == \"20:00:00\":\n",
    "            group.Speed = 'Medium'\n",
    "        if time_cat == \"20:30:00\":\n",
    "            group.Speed = 'Medium'\n",
    "        if time_cat == \"21:00:00\":\n",
    "            group.Speed = 'Fast'\n",
    "        if time_cat == \"21:30:00\":\n",
    "            group.Speed = 'Fast'\n",
    "        if time_cat == \"22:00:00\":\n",
    "            group.Speed = 'Fast'\n",
    "        if time_cat == \"22:30:00\":\n",
    "            group.Speed = 'Fast'\n",
    "        if time_cat == \"23:00:00\":\n",
    "            group.Speed = 'Fast'\n",
    "        if time_cat == \"23:30:00\":\n",
    "            group.Speed = 'Fast'\n",
    "        if time_cat == \"00:00:00\":\n",
    "            group.Speed = 'Fast'\n",
    "        if time_cat == \"00:30:00\":\n",
    "            group.Speed = 'Fast'\n",
    "        if time_cat == \"01:00:00\":\n",
    "            group.Speed = 'Fast'\n",
    "        if time_cat == \"01:30:00\":\n",
    "            group.Speed = 'Fast'\n",
    "        if time_cat == \"02:00:00\":\n",
    "            group.Speed = 'Fast'\n",
    "        if time_cat == \"02:30:00\":\n",
    "            group.Speed = 'Fast'\n",
    "    \n",
    "    \n",
    "    return group"
   ]
  },
  {
   "cell_type": "code",
   "execution_count": 17,
   "metadata": {
    "collapsed": false
   },
   "outputs": [],
   "source": [
    "df = gb.apply(change_day)"
   ]
  },
  {
   "cell_type": "code",
   "execution_count": 18,
   "metadata": {
    "collapsed": false
   },
   "outputs": [
    {
     "data": {
      "text/html": [
       "<div>\n",
       "<style>\n",
       "    .dataframe thead tr:only-child th {\n",
       "        text-align: right;\n",
       "    }\n",
       "\n",
       "    .dataframe thead th {\n",
       "        text-align: left;\n",
       "    }\n",
       "\n",
       "    .dataframe tbody tr th {\n",
       "        vertical-align: top;\n",
       "    }\n",
       "</style>\n",
       "<table border=\"1\" class=\"dataframe\">\n",
       "  <thead>\n",
       "    <tr style=\"text-align: right;\">\n",
       "      <th></th>\n",
       "      <th>Timestamp</th>\n",
       "      <th>JourneyPatternId</th>\n",
       "      <th>TimeFrame</th>\n",
       "      <th>VehicleJourneyId</th>\n",
       "      <th>Day</th>\n",
       "      <th>Distance</th>\n",
       "      <th>TravelTime</th>\n",
       "      <th>Speed</th>\n",
       "      <th>Rain</th>\n",
       "    </tr>\n",
       "  </thead>\n",
       "  <tbody>\n",
       "    <tr>\n",
       "      <th>0</th>\n",
       "      <td>2012-11-06 12:40:39</td>\n",
       "      <td>00401001</td>\n",
       "      <td>2012-11-06</td>\n",
       "      <td>6320</td>\n",
       "      <td>Mon-Fri</td>\n",
       "      <td>0.000000</td>\n",
       "      <td>0.0</td>\n",
       "      <td>Medium</td>\n",
       "      <td>0.0</td>\n",
       "    </tr>\n",
       "    <tr>\n",
       "      <th>1</th>\n",
       "      <td>2012-11-06 12:42:58</td>\n",
       "      <td>00401001</td>\n",
       "      <td>2012-11-06</td>\n",
       "      <td>6320</td>\n",
       "      <td>Mon-Fri</td>\n",
       "      <td>1.288087</td>\n",
       "      <td>139.0</td>\n",
       "      <td>Medium</td>\n",
       "      <td>0.0</td>\n",
       "    </tr>\n",
       "    <tr>\n",
       "      <th>2</th>\n",
       "      <td>2012-11-06 12:43:41</td>\n",
       "      <td>00401001</td>\n",
       "      <td>2012-11-06</td>\n",
       "      <td>6320</td>\n",
       "      <td>Mon-Fri</td>\n",
       "      <td>1.539224</td>\n",
       "      <td>182.0</td>\n",
       "      <td>Medium</td>\n",
       "      <td>0.0</td>\n",
       "    </tr>\n",
       "    <tr>\n",
       "      <th>3</th>\n",
       "      <td>2012-11-06 12:43:59</td>\n",
       "      <td>00401001</td>\n",
       "      <td>2012-11-06</td>\n",
       "      <td>6320</td>\n",
       "      <td>Mon-Fri</td>\n",
       "      <td>1.860739</td>\n",
       "      <td>200.0</td>\n",
       "      <td>Medium</td>\n",
       "      <td>0.0</td>\n",
       "    </tr>\n",
       "    <tr>\n",
       "      <th>4</th>\n",
       "      <td>2012-11-06 12:44:20</td>\n",
       "      <td>00401001</td>\n",
       "      <td>2012-11-06</td>\n",
       "      <td>6320</td>\n",
       "      <td>Mon-Fri</td>\n",
       "      <td>2.188079</td>\n",
       "      <td>221.0</td>\n",
       "      <td>Medium</td>\n",
       "      <td>0.0</td>\n",
       "    </tr>\n",
       "  </tbody>\n",
       "</table>\n",
       "</div>"
      ],
      "text/plain": [
       "            Timestamp JourneyPatternId  TimeFrame VehicleJourneyId      Day  \\\n",
       "0 2012-11-06 12:40:39         00401001 2012-11-06             6320  Mon-Fri   \n",
       "1 2012-11-06 12:42:58         00401001 2012-11-06             6320  Mon-Fri   \n",
       "2 2012-11-06 12:43:41         00401001 2012-11-06             6320  Mon-Fri   \n",
       "3 2012-11-06 12:43:59         00401001 2012-11-06             6320  Mon-Fri   \n",
       "4 2012-11-06 12:44:20         00401001 2012-11-06             6320  Mon-Fri   \n",
       "\n",
       "   Distance  TravelTime   Speed  Rain  \n",
       "0  0.000000         0.0  Medium   0.0  \n",
       "1  1.288087       139.0  Medium   0.0  \n",
       "2  1.539224       182.0  Medium   0.0  \n",
       "3  1.860739       200.0  Medium   0.0  \n",
       "4  2.188079       221.0  Medium   0.0  "
      ]
     },
     "execution_count": 18,
     "metadata": {},
     "output_type": "execute_result"
    }
   ],
   "source": [
    "df.head()"
   ]
  },
  {
   "cell_type": "markdown",
   "metadata": {
    "collapsed": true
   },
   "source": [
    "# Make Linear Regression Model"
   ]
  },
  {
   "cell_type": "code",
   "execution_count": 19,
   "metadata": {
    "collapsed": true
   },
   "outputs": [],
   "source": [
    "# df.JourneyPatternId = df.JourneyPatternId.astype(\"object\")\n",
    "# df.Day = df.Day.astype(\"object\")\n",
    "# df.Speed = df.Speed.astype(\"object\")\n",
    "\n",
    "df.Speed = df.Speed.astype(\"category\")\n",
    "df.TimeFrame = df.TimeFrame.astype(\"str\")"
   ]
  },
  {
   "cell_type": "code",
   "execution_count": 20,
   "metadata": {
    "collapsed": false,
    "scrolled": true
   },
   "outputs": [
    {
     "data": {
      "text/plain": [
       "Timestamp           datetime64[ns]\n",
       "JourneyPatternId            object\n",
       "TimeFrame                   object\n",
       "VehicleJourneyId            object\n",
       "Day                       category\n",
       "Distance                   float64\n",
       "TravelTime                 float64\n",
       "Speed                     category\n",
       "Rain                       float32\n",
       "dtype: object"
      ]
     },
     "execution_count": 20,
     "metadata": {},
     "output_type": "execute_result"
    }
   ],
   "source": [
    "df.dtypes"
   ]
  },
  {
   "cell_type": "code",
   "execution_count": 21,
   "metadata": {
    "collapsed": false
   },
   "outputs": [
    {
     "data": {
      "text/html": [
       "<div>\n",
       "<style>\n",
       "    .dataframe thead tr:only-child th {\n",
       "        text-align: right;\n",
       "    }\n",
       "\n",
       "    .dataframe thead th {\n",
       "        text-align: left;\n",
       "    }\n",
       "\n",
       "    .dataframe tbody tr th {\n",
       "        vertical-align: top;\n",
       "    }\n",
       "</style>\n",
       "<table border=\"1\" class=\"dataframe\">\n",
       "  <thead>\n",
       "    <tr style=\"text-align: right;\">\n",
       "      <th></th>\n",
       "      <th>Timestamp</th>\n",
       "      <th>JourneyPatternId</th>\n",
       "      <th>TimeFrame</th>\n",
       "      <th>VehicleJourneyId</th>\n",
       "      <th>Day</th>\n",
       "      <th>Distance</th>\n",
       "      <th>TravelTime</th>\n",
       "      <th>Speed</th>\n",
       "      <th>Rain</th>\n",
       "    </tr>\n",
       "  </thead>\n",
       "  <tbody>\n",
       "    <tr>\n",
       "      <th>0</th>\n",
       "      <td>2012-11-06 12:40:39</td>\n",
       "      <td>00401001</td>\n",
       "      <td>2012-11-06</td>\n",
       "      <td>6320</td>\n",
       "      <td>Mon-Fri</td>\n",
       "      <td>0.000000</td>\n",
       "      <td>0.0</td>\n",
       "      <td>Medium</td>\n",
       "      <td>0.0</td>\n",
       "    </tr>\n",
       "    <tr>\n",
       "      <th>1</th>\n",
       "      <td>2012-11-06 12:42:58</td>\n",
       "      <td>00401001</td>\n",
       "      <td>2012-11-06</td>\n",
       "      <td>6320</td>\n",
       "      <td>Mon-Fri</td>\n",
       "      <td>1.288087</td>\n",
       "      <td>139.0</td>\n",
       "      <td>Medium</td>\n",
       "      <td>0.0</td>\n",
       "    </tr>\n",
       "    <tr>\n",
       "      <th>2</th>\n",
       "      <td>2012-11-06 12:43:41</td>\n",
       "      <td>00401001</td>\n",
       "      <td>2012-11-06</td>\n",
       "      <td>6320</td>\n",
       "      <td>Mon-Fri</td>\n",
       "      <td>1.539224</td>\n",
       "      <td>182.0</td>\n",
       "      <td>Medium</td>\n",
       "      <td>0.0</td>\n",
       "    </tr>\n",
       "    <tr>\n",
       "      <th>3</th>\n",
       "      <td>2012-11-06 12:43:59</td>\n",
       "      <td>00401001</td>\n",
       "      <td>2012-11-06</td>\n",
       "      <td>6320</td>\n",
       "      <td>Mon-Fri</td>\n",
       "      <td>1.860739</td>\n",
       "      <td>200.0</td>\n",
       "      <td>Medium</td>\n",
       "      <td>0.0</td>\n",
       "    </tr>\n",
       "    <tr>\n",
       "      <th>4</th>\n",
       "      <td>2012-11-06 12:44:20</td>\n",
       "      <td>00401001</td>\n",
       "      <td>2012-11-06</td>\n",
       "      <td>6320</td>\n",
       "      <td>Mon-Fri</td>\n",
       "      <td>2.188079</td>\n",
       "      <td>221.0</td>\n",
       "      <td>Medium</td>\n",
       "      <td>0.0</td>\n",
       "    </tr>\n",
       "  </tbody>\n",
       "</table>\n",
       "</div>"
      ],
      "text/plain": [
       "            Timestamp JourneyPatternId   TimeFrame VehicleJourneyId      Day  \\\n",
       "0 2012-11-06 12:40:39         00401001  2012-11-06             6320  Mon-Fri   \n",
       "1 2012-11-06 12:42:58         00401001  2012-11-06             6320  Mon-Fri   \n",
       "2 2012-11-06 12:43:41         00401001  2012-11-06             6320  Mon-Fri   \n",
       "3 2012-11-06 12:43:59         00401001  2012-11-06             6320  Mon-Fri   \n",
       "4 2012-11-06 12:44:20         00401001  2012-11-06             6320  Mon-Fri   \n",
       "\n",
       "   Distance  TravelTime   Speed  Rain  \n",
       "0  0.000000         0.0  Medium   0.0  \n",
       "1  1.288087       139.0  Medium   0.0  \n",
       "2  1.539224       182.0  Medium   0.0  \n",
       "3  1.860739       200.0  Medium   0.0  \n",
       "4  2.188079       221.0  Medium   0.0  "
      ]
     },
     "execution_count": 21,
     "metadata": {},
     "output_type": "execute_result"
    }
   ],
   "source": [
    "df.head()"
   ]
  },
  {
   "cell_type": "code",
   "execution_count": 22,
   "metadata": {
    "collapsed": true
   },
   "outputs": [],
   "source": [
    "train = df[df['TimeFrame'] < '2012-11-16']\n",
    "test = df[df['TimeFrame'] >= '2012-11-16']"
   ]
  },
  {
   "cell_type": "code",
   "execution_count": 23,
   "metadata": {
    "collapsed": false
   },
   "outputs": [],
   "source": [
    "# create a fitted test model\n",
    "lm = smf.ols(formula='TravelTime ~ Speed + Distance + Day', data=train).fit()"
   ]
  },
  {
   "cell_type": "code",
   "execution_count": 24,
   "metadata": {
    "collapsed": false,
    "scrolled": false
   },
   "outputs": [
    {
     "name": "stdout",
     "output_type": "stream",
     "text": [
      "                            OLS Regression Results                            \n",
      "==============================================================================\n",
      "Dep. Variable:             TravelTime   R-squared:                       0.935\n",
      "Model:                            OLS   Adj. R-squared:                  0.935\n",
      "Method:                 Least Squares   F-statistic:                 1.589e+05\n",
      "Date:                Thu, 17 Aug 2017   Prob (F-statistic):               0.00\n",
      "Time:                        13:30:20   Log-Likelihood:            -4.1129e+05\n",
      "No. Observations:               55106   AIC:                         8.226e+05\n",
      "Df Residuals:                   55100   BIC:                         8.226e+05\n",
      "Df Model:                           5                                         \n",
      "Covariance Type:            nonrobust                                         \n",
      "===================================================================================\n",
      "                      coef    std err          t      P>|t|      [0.025      0.975]\n",
      "-----------------------------------------------------------------------------------\n",
      "Intercept        -857.1531      5.996   -142.951      0.000    -868.906    -845.401\n",
      "Speed[T.Medium]   575.6695      5.384    106.927      0.000     565.117     586.222\n",
      "Speed[T.Slow]     878.1098      6.054    145.050      0.000     866.244     889.975\n",
      "Day[T.Sat]        -17.4500      6.070     -2.875      0.004     -29.348      -5.552\n",
      "Day[T.Sun]       -164.3959      7.354    -22.356      0.000    -178.809    -149.983\n",
      "Distance          211.3609      0.241    877.083      0.000     210.889     211.833\n",
      "==============================================================================\n",
      "Omnibus:                     1499.839   Durbin-Watson:                   0.059\n",
      "Prob(Omnibus):                  0.000   Jarque-Bera (JB):             3493.153\n",
      "Skew:                           0.113   Prob(JB):                         0.00\n",
      "Kurtosis:                       4.213   Cond. No.                         81.9\n",
      "==============================================================================\n",
      "\n",
      "Warnings:\n",
      "[1] Standard Errors assume that the covariance matrix of the errors is correctly specified.\n"
     ]
    }
   ],
   "source": [
    "print(lm.summary())"
   ]
  },
  {
   "cell_type": "code",
   "execution_count": 25,
   "metadata": {
    "collapsed": true
   },
   "outputs": [],
   "source": [
    "test_y = test[\"TravelTime\"]\n",
    "test_X = test[[\"Distance\", \"Speed\", \"Day\"]]"
   ]
  },
  {
   "cell_type": "code",
   "execution_count": 26,
   "metadata": {
    "collapsed": false
   },
   "outputs": [],
   "source": [
    "# test_X = test_X[test_X.TimeCategory != '00:00']\n",
    "predictions = lm.predict(test_X)"
   ]
  },
  {
   "cell_type": "code",
   "execution_count": 27,
   "metadata": {
    "collapsed": false
   },
   "outputs": [
    {
     "data": {
      "text/plain": [
       "341.78135787868297"
      ]
     },
     "execution_count": 27,
     "metadata": {},
     "output_type": "execute_result"
    }
   ],
   "source": [
    "# Custom Metric\n",
    "abs(abs(test_y) - abs(predictions)).mean()  "
   ]
  },
  {
   "cell_type": "code",
   "execution_count": 28,
   "metadata": {
    "collapsed": false
   },
   "outputs": [
    {
     "name": "stdout",
     "output_type": "stream",
     "text": [
      "\n",
      "Mean Squared Error:\n",
      " 243588.14878318756\n"
     ]
    }
   ],
   "source": [
    "# Print the Mean Squared Error of the model on the training set\n",
    "mse = ((test_y - predictions)** 2).mean()\n",
    "print(\"\\nMean Squared Error:\\n\", mse)"
   ]
  },
  {
   "cell_type": "code",
   "execution_count": 29,
   "metadata": {
    "collapsed": false
   },
   "outputs": [
    {
     "data": {
      "text/plain": [
       "493.54650113559467"
      ]
     },
     "execution_count": 29,
     "metadata": {},
     "output_type": "execute_result"
    }
   ],
   "source": [
    "from math import sqrt\n",
    "\n",
    "sqrt(mse)"
   ]
  },
  {
   "cell_type": "markdown",
   "metadata": {
    "collapsed": true
   },
   "source": [
    "# Sklearn Linear Regression"
   ]
  },
  {
   "cell_type": "code",
   "execution_count": 55,
   "metadata": {
    "collapsed": true
   },
   "outputs": [],
   "source": [
    "lin_df = df"
   ]
  },
  {
   "cell_type": "code",
   "execution_count": 56,
   "metadata": {
    "collapsed": false
   },
   "outputs": [],
   "source": [
    "# Get dummies\n",
    "day_dummies = pd.get_dummies(lin_df.Day)\n",
    "day_dummies.columns = [\"Mon-Fri\", \"Sat\", \"Sun\"]\n",
    "speed_dummies = pd.get_dummies(lin_df.Speed)"
   ]
  },
  {
   "cell_type": "code",
   "execution_count": 57,
   "metadata": {
    "collapsed": false
   },
   "outputs": [],
   "source": [
    "# Assign to df\n",
    "lin_df = pd.concat([lin_df, day_dummies], axis=1)\n",
    "lin_df = pd.concat([lin_df, speed_dummies], axis=1)"
   ]
  },
  {
   "cell_type": "code",
   "execution_count": 58,
   "metadata": {
    "collapsed": false
   },
   "outputs": [
    {
     "data": {
      "text/html": [
       "<div>\n",
       "<style>\n",
       "    .dataframe thead tr:only-child th {\n",
       "        text-align: right;\n",
       "    }\n",
       "\n",
       "    .dataframe thead th {\n",
       "        text-align: left;\n",
       "    }\n",
       "\n",
       "    .dataframe tbody tr th {\n",
       "        vertical-align: top;\n",
       "    }\n",
       "</style>\n",
       "<table border=\"1\" class=\"dataframe\">\n",
       "  <thead>\n",
       "    <tr style=\"text-align: right;\">\n",
       "      <th></th>\n",
       "      <th>Timestamp</th>\n",
       "      <th>JourneyPatternId</th>\n",
       "      <th>TimeFrame</th>\n",
       "      <th>VehicleJourneyId</th>\n",
       "      <th>Day</th>\n",
       "      <th>Distance</th>\n",
       "      <th>TravelTime</th>\n",
       "      <th>Speed</th>\n",
       "      <th>Rain</th>\n",
       "      <th>Mon-Fri</th>\n",
       "      <th>Sat</th>\n",
       "      <th>Sun</th>\n",
       "      <th>Fast</th>\n",
       "      <th>Medium</th>\n",
       "      <th>Slow</th>\n",
       "    </tr>\n",
       "  </thead>\n",
       "  <tbody>\n",
       "    <tr>\n",
       "      <th>0</th>\n",
       "      <td>2012-11-06 12:40:39</td>\n",
       "      <td>00401001</td>\n",
       "      <td>2012-11-06</td>\n",
       "      <td>6320</td>\n",
       "      <td>Mon-Fri</td>\n",
       "      <td>0.000000</td>\n",
       "      <td>0.0</td>\n",
       "      <td>Medium</td>\n",
       "      <td>0.0</td>\n",
       "      <td>1</td>\n",
       "      <td>0</td>\n",
       "      <td>0</td>\n",
       "      <td>0</td>\n",
       "      <td>1</td>\n",
       "      <td>0</td>\n",
       "    </tr>\n",
       "    <tr>\n",
       "      <th>1</th>\n",
       "      <td>2012-11-06 12:42:58</td>\n",
       "      <td>00401001</td>\n",
       "      <td>2012-11-06</td>\n",
       "      <td>6320</td>\n",
       "      <td>Mon-Fri</td>\n",
       "      <td>1.288087</td>\n",
       "      <td>139.0</td>\n",
       "      <td>Medium</td>\n",
       "      <td>0.0</td>\n",
       "      <td>1</td>\n",
       "      <td>0</td>\n",
       "      <td>0</td>\n",
       "      <td>0</td>\n",
       "      <td>1</td>\n",
       "      <td>0</td>\n",
       "    </tr>\n",
       "    <tr>\n",
       "      <th>2</th>\n",
       "      <td>2012-11-06 12:43:41</td>\n",
       "      <td>00401001</td>\n",
       "      <td>2012-11-06</td>\n",
       "      <td>6320</td>\n",
       "      <td>Mon-Fri</td>\n",
       "      <td>1.539224</td>\n",
       "      <td>182.0</td>\n",
       "      <td>Medium</td>\n",
       "      <td>0.0</td>\n",
       "      <td>1</td>\n",
       "      <td>0</td>\n",
       "      <td>0</td>\n",
       "      <td>0</td>\n",
       "      <td>1</td>\n",
       "      <td>0</td>\n",
       "    </tr>\n",
       "    <tr>\n",
       "      <th>3</th>\n",
       "      <td>2012-11-06 12:43:59</td>\n",
       "      <td>00401001</td>\n",
       "      <td>2012-11-06</td>\n",
       "      <td>6320</td>\n",
       "      <td>Mon-Fri</td>\n",
       "      <td>1.860739</td>\n",
       "      <td>200.0</td>\n",
       "      <td>Medium</td>\n",
       "      <td>0.0</td>\n",
       "      <td>1</td>\n",
       "      <td>0</td>\n",
       "      <td>0</td>\n",
       "      <td>0</td>\n",
       "      <td>1</td>\n",
       "      <td>0</td>\n",
       "    </tr>\n",
       "    <tr>\n",
       "      <th>4</th>\n",
       "      <td>2012-11-06 12:44:20</td>\n",
       "      <td>00401001</td>\n",
       "      <td>2012-11-06</td>\n",
       "      <td>6320</td>\n",
       "      <td>Mon-Fri</td>\n",
       "      <td>2.188079</td>\n",
       "      <td>221.0</td>\n",
       "      <td>Medium</td>\n",
       "      <td>0.0</td>\n",
       "      <td>1</td>\n",
       "      <td>0</td>\n",
       "      <td>0</td>\n",
       "      <td>0</td>\n",
       "      <td>1</td>\n",
       "      <td>0</td>\n",
       "    </tr>\n",
       "  </tbody>\n",
       "</table>\n",
       "</div>"
      ],
      "text/plain": [
       "            Timestamp JourneyPatternId   TimeFrame VehicleJourneyId      Day  \\\n",
       "0 2012-11-06 12:40:39         00401001  2012-11-06             6320  Mon-Fri   \n",
       "1 2012-11-06 12:42:58         00401001  2012-11-06             6320  Mon-Fri   \n",
       "2 2012-11-06 12:43:41         00401001  2012-11-06             6320  Mon-Fri   \n",
       "3 2012-11-06 12:43:59         00401001  2012-11-06             6320  Mon-Fri   \n",
       "4 2012-11-06 12:44:20         00401001  2012-11-06             6320  Mon-Fri   \n",
       "\n",
       "   Distance  TravelTime   Speed  Rain  Mon-Fri  Sat  Sun  Fast  Medium  Slow  \n",
       "0  0.000000         0.0  Medium   0.0        1    0    0     0       1     0  \n",
       "1  1.288087       139.0  Medium   0.0        1    0    0     0       1     0  \n",
       "2  1.539224       182.0  Medium   0.0        1    0    0     0       1     0  \n",
       "3  1.860739       200.0  Medium   0.0        1    0    0     0       1     0  \n",
       "4  2.188079       221.0  Medium   0.0        1    0    0     0       1     0  "
      ]
     },
     "execution_count": 58,
     "metadata": {},
     "output_type": "execute_result"
    }
   ],
   "source": [
    "lin_df.head()"
   ]
  },
  {
   "cell_type": "code",
   "execution_count": 59,
   "metadata": {
    "collapsed": false
   },
   "outputs": [],
   "source": [
    "lin_df.Sat = lin_df.Sat.astype(\"int\")\n",
    "lin_df.Sun = lin_df.Sun.astype(\"int\")\n",
    "lin_df[\"Mon-Fri\"] = lin_df[\"Mon-Fri\"].astype(\"int\")\n",
    "lin_df.Fast = lin_df.Fast.astype(\"int\")\n",
    "lin_df.Medium = lin_df.Medium.astype(\"int\")\n",
    "lin_df.Slow = lin_df.Slow.astype(\"int\")\n",
    "\n",
    "lin_df.TravelTime = lin_df.TravelTime.astype(\"float\")\n",
    "lin_df.Distance = lin_df.Distance.astype(\"float\")"
   ]
  },
  {
   "cell_type": "code",
   "execution_count": 60,
   "metadata": {
    "collapsed": true
   },
   "outputs": [],
   "source": [
    "import matplotlib.pyplot as plt\n",
    "import numpy as np\n",
    "from sklearn import datasets, linear_model"
   ]
  },
  {
   "cell_type": "code",
   "execution_count": 61,
   "metadata": {
    "collapsed": true
   },
   "outputs": [],
   "source": [
    "# Split the data into training/testing sets\n",
    "X_train = lin_df[lin_df['TimeFrame'] < '2013-01-15']\n",
    "X_test = lin_df[lin_df['TimeFrame'] >= '2013-01-15']"
   ]
  },
  {
   "cell_type": "code",
   "execution_count": 62,
   "metadata": {
    "collapsed": true
   },
   "outputs": [],
   "source": [
    "# Split the targets into training/testing sets\n",
    "y_train = X_train.TravelTime\n",
    "y_test = X_test.TravelTime"
   ]
  },
  {
   "cell_type": "code",
   "execution_count": 63,
   "metadata": {
    "collapsed": false
   },
   "outputs": [
    {
     "data": {
      "text/html": [
       "<div>\n",
       "<style>\n",
       "    .dataframe thead tr:only-child th {\n",
       "        text-align: right;\n",
       "    }\n",
       "\n",
       "    .dataframe thead th {\n",
       "        text-align: left;\n",
       "    }\n",
       "\n",
       "    .dataframe tbody tr th {\n",
       "        vertical-align: top;\n",
       "    }\n",
       "</style>\n",
       "<table border=\"1\" class=\"dataframe\">\n",
       "  <thead>\n",
       "    <tr style=\"text-align: right;\">\n",
       "      <th></th>\n",
       "      <th>Timestamp</th>\n",
       "      <th>JourneyPatternId</th>\n",
       "      <th>TimeFrame</th>\n",
       "      <th>VehicleJourneyId</th>\n",
       "      <th>Day</th>\n",
       "      <th>Distance</th>\n",
       "      <th>TravelTime</th>\n",
       "      <th>Speed</th>\n",
       "      <th>Rain</th>\n",
       "      <th>Mon-Fri</th>\n",
       "      <th>Sat</th>\n",
       "      <th>Sun</th>\n",
       "      <th>Fast</th>\n",
       "      <th>Medium</th>\n",
       "      <th>Slow</th>\n",
       "    </tr>\n",
       "  </thead>\n",
       "  <tbody>\n",
       "    <tr>\n",
       "      <th>0</th>\n",
       "      <td>2012-11-06 12:40:39</td>\n",
       "      <td>00401001</td>\n",
       "      <td>2012-11-06</td>\n",
       "      <td>6320</td>\n",
       "      <td>Mon-Fri</td>\n",
       "      <td>0.000000</td>\n",
       "      <td>0.0</td>\n",
       "      <td>Medium</td>\n",
       "      <td>0.0</td>\n",
       "      <td>1</td>\n",
       "      <td>0</td>\n",
       "      <td>0</td>\n",
       "      <td>0</td>\n",
       "      <td>1</td>\n",
       "      <td>0</td>\n",
       "    </tr>\n",
       "    <tr>\n",
       "      <th>1</th>\n",
       "      <td>2012-11-06 12:42:58</td>\n",
       "      <td>00401001</td>\n",
       "      <td>2012-11-06</td>\n",
       "      <td>6320</td>\n",
       "      <td>Mon-Fri</td>\n",
       "      <td>1.288087</td>\n",
       "      <td>139.0</td>\n",
       "      <td>Medium</td>\n",
       "      <td>0.0</td>\n",
       "      <td>1</td>\n",
       "      <td>0</td>\n",
       "      <td>0</td>\n",
       "      <td>0</td>\n",
       "      <td>1</td>\n",
       "      <td>0</td>\n",
       "    </tr>\n",
       "    <tr>\n",
       "      <th>2</th>\n",
       "      <td>2012-11-06 12:43:41</td>\n",
       "      <td>00401001</td>\n",
       "      <td>2012-11-06</td>\n",
       "      <td>6320</td>\n",
       "      <td>Mon-Fri</td>\n",
       "      <td>1.539224</td>\n",
       "      <td>182.0</td>\n",
       "      <td>Medium</td>\n",
       "      <td>0.0</td>\n",
       "      <td>1</td>\n",
       "      <td>0</td>\n",
       "      <td>0</td>\n",
       "      <td>0</td>\n",
       "      <td>1</td>\n",
       "      <td>0</td>\n",
       "    </tr>\n",
       "    <tr>\n",
       "      <th>3</th>\n",
       "      <td>2012-11-06 12:43:59</td>\n",
       "      <td>00401001</td>\n",
       "      <td>2012-11-06</td>\n",
       "      <td>6320</td>\n",
       "      <td>Mon-Fri</td>\n",
       "      <td>1.860739</td>\n",
       "      <td>200.0</td>\n",
       "      <td>Medium</td>\n",
       "      <td>0.0</td>\n",
       "      <td>1</td>\n",
       "      <td>0</td>\n",
       "      <td>0</td>\n",
       "      <td>0</td>\n",
       "      <td>1</td>\n",
       "      <td>0</td>\n",
       "    </tr>\n",
       "    <tr>\n",
       "      <th>4</th>\n",
       "      <td>2012-11-06 12:44:20</td>\n",
       "      <td>00401001</td>\n",
       "      <td>2012-11-06</td>\n",
       "      <td>6320</td>\n",
       "      <td>Mon-Fri</td>\n",
       "      <td>2.188079</td>\n",
       "      <td>221.0</td>\n",
       "      <td>Medium</td>\n",
       "      <td>0.0</td>\n",
       "      <td>1</td>\n",
       "      <td>0</td>\n",
       "      <td>0</td>\n",
       "      <td>0</td>\n",
       "      <td>1</td>\n",
       "      <td>0</td>\n",
       "    </tr>\n",
       "  </tbody>\n",
       "</table>\n",
       "</div>"
      ],
      "text/plain": [
       "            Timestamp JourneyPatternId   TimeFrame VehicleJourneyId      Day  \\\n",
       "0 2012-11-06 12:40:39         00401001  2012-11-06             6320  Mon-Fri   \n",
       "1 2012-11-06 12:42:58         00401001  2012-11-06             6320  Mon-Fri   \n",
       "2 2012-11-06 12:43:41         00401001  2012-11-06             6320  Mon-Fri   \n",
       "3 2012-11-06 12:43:59         00401001  2012-11-06             6320  Mon-Fri   \n",
       "4 2012-11-06 12:44:20         00401001  2012-11-06             6320  Mon-Fri   \n",
       "\n",
       "   Distance  TravelTime   Speed  Rain  Mon-Fri  Sat  Sun  Fast  Medium  Slow  \n",
       "0  0.000000         0.0  Medium   0.0        1    0    0     0       1     0  \n",
       "1  1.288087       139.0  Medium   0.0        1    0    0     0       1     0  \n",
       "2  1.539224       182.0  Medium   0.0        1    0    0     0       1     0  \n",
       "3  1.860739       200.0  Medium   0.0        1    0    0     0       1     0  \n",
       "4  2.188079       221.0  Medium   0.0        1    0    0     0       1     0  "
      ]
     },
     "execution_count": 63,
     "metadata": {},
     "output_type": "execute_result"
    }
   ],
   "source": [
    "X_train.head()"
   ]
  },
  {
   "cell_type": "code",
   "execution_count": 64,
   "metadata": {
    "collapsed": false
   },
   "outputs": [],
   "source": [
    "# Erase columns from X which are not part of the reggression\n",
    "del X_train[\"Timestamp\"]\n",
    "del X_train[\"JourneyPatternId\"]\n",
    "del X_train[\"TimeFrame\"]\n",
    "del X_train[\"VehicleJourneyId\"]\n",
    "del X_train[\"Day\"]\n",
    "del X_train[\"Speed\"]\n",
    "# del X_train[\"Rain\"]\n",
    "del X_train[\"TravelTime\"]\n",
    "\n",
    "\n",
    "del X_test[\"Timestamp\"]\n",
    "del X_test[\"JourneyPatternId\"]\n",
    "del X_test[\"TimeFrame\"]\n",
    "del X_test[\"VehicleJourneyId\"]\n",
    "del X_test[\"Day\"]\n",
    "del X_test[\"Speed\"]\n",
    "# del X_test[\"Rain\"]\n",
    "del X_test[\"TravelTime\"]"
   ]
  },
  {
   "cell_type": "code",
   "execution_count": 65,
   "metadata": {
    "collapsed": false
   },
   "outputs": [
    {
     "data": {
      "text/html": [
       "<div>\n",
       "<style>\n",
       "    .dataframe thead tr:only-child th {\n",
       "        text-align: right;\n",
       "    }\n",
       "\n",
       "    .dataframe thead th {\n",
       "        text-align: left;\n",
       "    }\n",
       "\n",
       "    .dataframe tbody tr th {\n",
       "        vertical-align: top;\n",
       "    }\n",
       "</style>\n",
       "<table border=\"1\" class=\"dataframe\">\n",
       "  <thead>\n",
       "    <tr style=\"text-align: right;\">\n",
       "      <th></th>\n",
       "      <th>Distance</th>\n",
       "      <th>Rain</th>\n",
       "      <th>Mon-Fri</th>\n",
       "      <th>Sat</th>\n",
       "      <th>Sun</th>\n",
       "      <th>Fast</th>\n",
       "      <th>Medium</th>\n",
       "      <th>Slow</th>\n",
       "    </tr>\n",
       "  </thead>\n",
       "  <tbody>\n",
       "    <tr>\n",
       "      <th>0</th>\n",
       "      <td>0.000000</td>\n",
       "      <td>0.0</td>\n",
       "      <td>1</td>\n",
       "      <td>0</td>\n",
       "      <td>0</td>\n",
       "      <td>0</td>\n",
       "      <td>1</td>\n",
       "      <td>0</td>\n",
       "    </tr>\n",
       "    <tr>\n",
       "      <th>1</th>\n",
       "      <td>1.288087</td>\n",
       "      <td>0.0</td>\n",
       "      <td>1</td>\n",
       "      <td>0</td>\n",
       "      <td>0</td>\n",
       "      <td>0</td>\n",
       "      <td>1</td>\n",
       "      <td>0</td>\n",
       "    </tr>\n",
       "    <tr>\n",
       "      <th>2</th>\n",
       "      <td>1.539224</td>\n",
       "      <td>0.0</td>\n",
       "      <td>1</td>\n",
       "      <td>0</td>\n",
       "      <td>0</td>\n",
       "      <td>0</td>\n",
       "      <td>1</td>\n",
       "      <td>0</td>\n",
       "    </tr>\n",
       "    <tr>\n",
       "      <th>3</th>\n",
       "      <td>1.860739</td>\n",
       "      <td>0.0</td>\n",
       "      <td>1</td>\n",
       "      <td>0</td>\n",
       "      <td>0</td>\n",
       "      <td>0</td>\n",
       "      <td>1</td>\n",
       "      <td>0</td>\n",
       "    </tr>\n",
       "    <tr>\n",
       "      <th>4</th>\n",
       "      <td>2.188079</td>\n",
       "      <td>0.0</td>\n",
       "      <td>1</td>\n",
       "      <td>0</td>\n",
       "      <td>0</td>\n",
       "      <td>0</td>\n",
       "      <td>1</td>\n",
       "      <td>0</td>\n",
       "    </tr>\n",
       "  </tbody>\n",
       "</table>\n",
       "</div>"
      ],
      "text/plain": [
       "   Distance  Rain  Mon-Fri  Sat  Sun  Fast  Medium  Slow\n",
       "0  0.000000   0.0        1    0    0     0       1     0\n",
       "1  1.288087   0.0        1    0    0     0       1     0\n",
       "2  1.539224   0.0        1    0    0     0       1     0\n",
       "3  1.860739   0.0        1    0    0     0       1     0\n",
       "4  2.188079   0.0        1    0    0     0       1     0"
      ]
     },
     "execution_count": 65,
     "metadata": {},
     "output_type": "execute_result"
    }
   ],
   "source": [
    "X_train.head()"
   ]
  },
  {
   "cell_type": "code",
   "execution_count": 66,
   "metadata": {
    "collapsed": true
   },
   "outputs": [],
   "source": [
    "# Create linear regression object\n",
    "regr = linear_model.LinearRegression()"
   ]
  },
  {
   "cell_type": "code",
   "execution_count": 67,
   "metadata": {
    "collapsed": false
   },
   "outputs": [
    {
     "data": {
      "text/plain": [
       "LinearRegression(copy_X=True, fit_intercept=True, n_jobs=1, normalize=False)"
      ]
     },
     "execution_count": 67,
     "metadata": {},
     "output_type": "execute_result"
    }
   ],
   "source": [
    "# Train the model using the training sets\n",
    "regr.fit(X_train, y_train)"
   ]
  },
  {
   "cell_type": "code",
   "execution_count": 68,
   "metadata": {
    "collapsed": false
   },
   "outputs": [
    {
     "name": "stdout",
     "output_type": "stream",
     "text": [
      "Coefficients: \n",
      " [ 205.6853305    71.96746592  101.4253776    14.15351674 -115.57889434\n",
      " -474.1360628    97.43120888  376.70485392]\n"
     ]
    }
   ],
   "source": [
    "# The coefficients\n",
    "print('Coefficients: \\n', regr.coef_)"
   ]
  },
  {
   "cell_type": "code",
   "execution_count": 69,
   "metadata": {
    "collapsed": false
   },
   "outputs": [
    {
     "data": {
      "text/plain": [
       "338.33463804600444"
      ]
     },
     "execution_count": 69,
     "metadata": {},
     "output_type": "execute_result"
    }
   ],
   "source": [
    "# Custom Metric\n",
    "np.mean(abs(abs(regr.predict(X_test)) - abs(y_test)))"
   ]
  },
  {
   "cell_type": "code",
   "execution_count": 70,
   "metadata": {
    "collapsed": false
   },
   "outputs": [
    {
     "name": "stdout",
     "output_type": "stream",
     "text": [
      "Mean squared error: 209754.00\n"
     ]
    }
   ],
   "source": [
    "print(\"Mean squared error: %.2f\"\n",
    "      % np.mean((regr.predict(X_test) - y_test) ** 2))"
   ]
  },
  {
   "cell_type": "code",
   "execution_count": 71,
   "metadata": {
    "collapsed": false
   },
   "outputs": [
    {
     "name": "stdout",
     "output_type": "stream",
     "text": [
      "Root mean squared error: 457.989085927\n"
     ]
    }
   ],
   "source": [
    "mse = np.mean((regr.predict(X_test) - y_test) ** 2)\n",
    "\n",
    "print(\"Root mean squared error:\", np.sqrt(mse))"
   ]
  },
  {
   "cell_type": "code",
   "execution_count": 72,
   "metadata": {
    "collapsed": false
   },
   "outputs": [
    {
     "name": "stdout",
     "output_type": "stream",
     "text": [
      "Variance score: 0.92\n"
     ]
    }
   ],
   "source": [
    "# Explained variance score: 1 is perfect prediction\n",
    "print('Variance score: %.2f' % regr.score(X_test, y_test))"
   ]
  },
  {
   "cell_type": "markdown",
   "metadata": {},
   "source": [
    "# Random Forest Sklearn"
   ]
  },
  {
   "cell_type": "code",
   "execution_count": 73,
   "metadata": {
    "collapsed": true
   },
   "outputs": [],
   "source": [
    "from sklearn.ensemble import RandomForestRegressor"
   ]
  },
  {
   "cell_type": "code",
   "execution_count": 74,
   "metadata": {
    "collapsed": true
   },
   "outputs": [],
   "source": [
    "# Create linear regression object\n",
    "regr = RandomForestRegressor(n_estimators=15)"
   ]
  },
  {
   "cell_type": "code",
   "execution_count": 75,
   "metadata": {
    "collapsed": false
   },
   "outputs": [
    {
     "data": {
      "text/plain": [
       "RandomForestRegressor(bootstrap=True, criterion='mse', max_depth=None,\n",
       "           max_features='auto', max_leaf_nodes=None,\n",
       "           min_impurity_split=1e-07, min_samples_leaf=1,\n",
       "           min_samples_split=2, min_weight_fraction_leaf=0.0,\n",
       "           n_estimators=15, n_jobs=1, oob_score=False, random_state=None,\n",
       "           verbose=0, warm_start=False)"
      ]
     },
     "execution_count": 75,
     "metadata": {},
     "output_type": "execute_result"
    }
   ],
   "source": [
    "# Train the model using the training sets\n",
    "regr.fit(X_train, y_train)"
   ]
  },
  {
   "cell_type": "code",
   "execution_count": 76,
   "metadata": {
    "collapsed": false
   },
   "outputs": [
    {
     "data": {
      "text/plain": [
       "333.96737323097756"
      ]
     },
     "execution_count": 76,
     "metadata": {},
     "output_type": "execute_result"
    }
   ],
   "source": [
    "# Custom Metric\n",
    "np.mean(abs(abs(regr.predict(X_test)) - abs(y_test)))"
   ]
  },
  {
   "cell_type": "code",
   "execution_count": 77,
   "metadata": {
    "collapsed": false
   },
   "outputs": [
    {
     "name": "stdout",
     "output_type": "stream",
     "text": [
      "Mean squared error: 228959.63\n"
     ]
    }
   ],
   "source": [
    "print(\"Mean squared error: %.2f\"\n",
    "      % np.mean((regr.predict(X_test) - y_test) ** 2))"
   ]
  },
  {
   "cell_type": "code",
   "execution_count": 78,
   "metadata": {
    "collapsed": false
   },
   "outputs": [
    {
     "name": "stdout",
     "output_type": "stream",
     "text": [
      "Root mean squared error: 478.497261161\n"
     ]
    }
   ],
   "source": [
    "mse = np.mean((regr.predict(X_test) - y_test) ** 2)\n",
    "\n",
    "print(\"Root mean squared error:\", np.sqrt(mse))"
   ]
  },
  {
   "cell_type": "code",
   "execution_count": 79,
   "metadata": {
    "collapsed": false
   },
   "outputs": [
    {
     "name": "stdout",
     "output_type": "stream",
     "text": [
      "Variance score: 0.91\n"
     ]
    }
   ],
   "source": [
    "# Explained variance score: 1 is perfect prediction\n",
    "print('Variance score: %.2f' % regr.score(X_test, y_test))"
   ]
  },
  {
   "cell_type": "markdown",
   "metadata": {},
   "source": [
    "# Sklearn Adaboost"
   ]
  },
  {
   "cell_type": "code",
   "execution_count": 80,
   "metadata": {
    "collapsed": true
   },
   "outputs": [],
   "source": [
    "from sklearn.ensemble import AdaBoostRegressor"
   ]
  },
  {
   "cell_type": "code",
   "execution_count": 81,
   "metadata": {
    "collapsed": true
   },
   "outputs": [],
   "source": [
    "# Create linear regression object\n",
    "regr = AdaBoostRegressor()"
   ]
  },
  {
   "cell_type": "code",
   "execution_count": 82,
   "metadata": {
    "collapsed": false
   },
   "outputs": [
    {
     "data": {
      "text/plain": [
       "AdaBoostRegressor(base_estimator=None, learning_rate=1.0, loss='linear',\n",
       "         n_estimators=50, random_state=None)"
      ]
     },
     "execution_count": 82,
     "metadata": {},
     "output_type": "execute_result"
    }
   ],
   "source": [
    "# Train the model using the training sets\n",
    "regr.fit(X_train, y_train)"
   ]
  },
  {
   "cell_type": "code",
   "execution_count": 83,
   "metadata": {
    "collapsed": false
   },
   "outputs": [
    {
     "data": {
      "text/plain": [
       "379.20607448077425"
      ]
     },
     "execution_count": 83,
     "metadata": {},
     "output_type": "execute_result"
    }
   ],
   "source": [
    "# Custom Metric\n",
    "np.mean(abs(abs(regr.predict(X_test)) - abs(y_test)))"
   ]
  },
  {
   "cell_type": "code",
   "execution_count": 84,
   "metadata": {
    "collapsed": false
   },
   "outputs": [
    {
     "name": "stdout",
     "output_type": "stream",
     "text": [
      "Mean squared error: 243694.01\n"
     ]
    }
   ],
   "source": [
    "print(\"Mean squared error: %.2f\"\n",
    "      % np.mean((regr.predict(X_test) - y_test) ** 2))"
   ]
  },
  {
   "cell_type": "code",
   "execution_count": 85,
   "metadata": {
    "collapsed": false
   },
   "outputs": [
    {
     "name": "stdout",
     "output_type": "stream",
     "text": [
      "Root mean squared error: 493.653735258\n"
     ]
    }
   ],
   "source": [
    "mse = np.mean((regr.predict(X_test) - y_test) ** 2)\n",
    "\n",
    "print(\"Root mean squared error:\", np.sqrt(mse))"
   ]
  },
  {
   "cell_type": "code",
   "execution_count": 86,
   "metadata": {
    "collapsed": false
   },
   "outputs": [
    {
     "name": "stdout",
     "output_type": "stream",
     "text": [
      "Variance score: 0.91\n"
     ]
    }
   ],
   "source": [
    "# Explained variance score: 1 is perfect prediction\n",
    "print('Variance score: %.2f' % regr.score(X_test, y_test))"
   ]
  },
  {
   "cell_type": "markdown",
   "metadata": {},
   "source": [
    "# Sklearn KNN"
   ]
  },
  {
   "cell_type": "code",
   "execution_count": 87,
   "metadata": {
    "collapsed": false
   },
   "outputs": [],
   "source": [
    "from sklearn.neighbors import KNeighborsRegressor"
   ]
  },
  {
   "cell_type": "code",
   "execution_count": 88,
   "metadata": {
    "collapsed": true
   },
   "outputs": [],
   "source": [
    "# Create linear regression object\n",
    "regr = KNeighborsRegressor()"
   ]
  },
  {
   "cell_type": "code",
   "execution_count": 89,
   "metadata": {
    "collapsed": false
   },
   "outputs": [
    {
     "data": {
      "text/plain": [
       "KNeighborsRegressor(algorithm='auto', leaf_size=30, metric='minkowski',\n",
       "          metric_params=None, n_jobs=1, n_neighbors=5, p=2,\n",
       "          weights='uniform')"
      ]
     },
     "execution_count": 89,
     "metadata": {},
     "output_type": "execute_result"
    }
   ],
   "source": [
    "# Train the model using the training sets\n",
    "regr.fit(X_train, y_train)"
   ]
  },
  {
   "cell_type": "code",
   "execution_count": 90,
   "metadata": {
    "collapsed": false
   },
   "outputs": [
    {
     "data": {
      "text/plain": [
       "310.56661890269146"
      ]
     },
     "execution_count": 90,
     "metadata": {},
     "output_type": "execute_result"
    }
   ],
   "source": [
    "# Custom Metric\n",
    "np.mean(abs(abs(regr.predict(X_test)) - abs(y_test)))"
   ]
  },
  {
   "cell_type": "code",
   "execution_count": 91,
   "metadata": {
    "collapsed": false
   },
   "outputs": [
    {
     "name": "stdout",
     "output_type": "stream",
     "text": [
      "Mean squared error: 196921.72\n"
     ]
    }
   ],
   "source": [
    "print(\"Mean squared error: %.2f\"\n",
    "      % np.mean((regr.predict(X_test) - y_test) ** 2))"
   ]
  },
  {
   "cell_type": "code",
   "execution_count": 92,
   "metadata": {
    "collapsed": false
   },
   "outputs": [
    {
     "name": "stdout",
     "output_type": "stream",
     "text": [
      "Root mean squared error: 443.758631586\n"
     ]
    }
   ],
   "source": [
    "mse = np.mean((regr.predict(X_test) - y_test) ** 2)\n",
    "\n",
    "print(\"Root mean squared error:\", np.sqrt(mse))"
   ]
  },
  {
   "cell_type": "code",
   "execution_count": 93,
   "metadata": {
    "collapsed": false
   },
   "outputs": [
    {
     "name": "stdout",
     "output_type": "stream",
     "text": [
      "Variance score: 0.93\n"
     ]
    }
   ],
   "source": [
    "# Explained variance score: 1 is perfect prediction\n",
    "print('Variance score: %.2f' % regr.score(X_test, y_test))"
   ]
  },
  {
   "cell_type": "markdown",
   "metadata": {},
   "source": [
    "# Sklearn SVM Regressor"
   ]
  },
  {
   "cell_type": "code",
   "execution_count": 325,
   "metadata": {
    "collapsed": false
   },
   "outputs": [],
   "source": [
    "from sklearn.svm import SVR"
   ]
  },
  {
   "cell_type": "code",
   "execution_count": null,
   "metadata": {
    "collapsed": true
   },
   "outputs": [],
   "source": [
    "# Create linear regression object\n",
    "regr = SVR()"
   ]
  },
  {
   "cell_type": "code",
   "execution_count": null,
   "metadata": {
    "collapsed": false
   },
   "outputs": [],
   "source": [
    "# Train the model using the training sets\n",
    "regr.fit(X_train, y_train)"
   ]
  },
  {
   "cell_type": "code",
   "execution_count": null,
   "metadata": {
    "collapsed": false
   },
   "outputs": [],
   "source": [
    "# Custom Metric\n",
    "np.mean(abs(abs(regr.predict(X_test)) - abs(y_test)))"
   ]
  },
  {
   "cell_type": "code",
   "execution_count": null,
   "metadata": {
    "collapsed": false
   },
   "outputs": [],
   "source": [
    "print(\"Mean squared error: %.2f\"\n",
    "      % np.mean((regr.predict(X_test) - y_test) ** 2))"
   ]
  },
  {
   "cell_type": "code",
   "execution_count": null,
   "metadata": {
    "collapsed": false
   },
   "outputs": [],
   "source": [
    "mse = np.mean((regr.predict(X_test) - y_test) ** 2)\n",
    "\n",
    "print(\"Root mean squared error:\", np.sqrt(mse))"
   ]
  },
  {
   "cell_type": "code",
   "execution_count": null,
   "metadata": {
    "collapsed": false
   },
   "outputs": [],
   "source": [
    "# Explained variance score: 1 is perfect prediction\n",
    "print('Variance score: %.2f' % regr.score(X_test, y_test))"
   ]
  },
  {
   "cell_type": "markdown",
   "metadata": {},
   "source": [
    "# ANN Regressor"
   ]
  },
  {
   "cell_type": "code",
   "execution_count": 94,
   "metadata": {
    "collapsed": true
   },
   "outputs": [],
   "source": [
    "from sklearn.neural_network import MLPRegressor"
   ]
  },
  {
   "cell_type": "code",
   "execution_count": 95,
   "metadata": {
    "collapsed": true
   },
   "outputs": [],
   "source": [
    "# Create linear regression object\n",
    "regr = MLPRegressor()"
   ]
  },
  {
   "cell_type": "code",
   "execution_count": 96,
   "metadata": {
    "collapsed": false
   },
   "outputs": [
    {
     "data": {
      "text/plain": [
       "MLPRegressor(activation='relu', alpha=0.0001, batch_size='auto', beta_1=0.9,\n",
       "       beta_2=0.999, early_stopping=False, epsilon=1e-08,\n",
       "       hidden_layer_sizes=(100,), learning_rate='constant',\n",
       "       learning_rate_init=0.001, max_iter=200, momentum=0.9,\n",
       "       nesterovs_momentum=True, power_t=0.5, random_state=None,\n",
       "       shuffle=True, solver='adam', tol=0.0001, validation_fraction=0.1,\n",
       "       verbose=False, warm_start=False)"
      ]
     },
     "execution_count": 96,
     "metadata": {},
     "output_type": "execute_result"
    }
   ],
   "source": [
    "# Train the model using the training sets\n",
    "regr.fit(X_train, y_train)"
   ]
  },
  {
   "cell_type": "code",
   "execution_count": 97,
   "metadata": {
    "collapsed": false
   },
   "outputs": [
    {
     "data": {
      "text/plain": [
       "318.11698729391094"
      ]
     },
     "execution_count": 97,
     "metadata": {},
     "output_type": "execute_result"
    }
   ],
   "source": [
    "# Custom Metric\n",
    "np.mean(abs(abs(regr.predict(X_test)) - abs(y_test)))"
   ]
  },
  {
   "cell_type": "code",
   "execution_count": 98,
   "metadata": {
    "collapsed": false
   },
   "outputs": [
    {
     "name": "stdout",
     "output_type": "stream",
     "text": [
      "Mean squared error: 181976.99\n"
     ]
    }
   ],
   "source": [
    "print(\"Mean squared error: %.2f\"\n",
    "      % np.mean((regr.predict(X_test) - y_test) ** 2))"
   ]
  },
  {
   "cell_type": "code",
   "execution_count": 99,
   "metadata": {
    "collapsed": false
   },
   "outputs": [
    {
     "name": "stdout",
     "output_type": "stream",
     "text": [
      "Root mean squared error: 426.587614474\n"
     ]
    }
   ],
   "source": [
    "mse = np.mean((regr.predict(X_test) - y_test) ** 2)\n",
    "\n",
    "print(\"Root mean squared error:\", np.sqrt(mse))"
   ]
  },
  {
   "cell_type": "code",
   "execution_count": 100,
   "metadata": {
    "collapsed": false
   },
   "outputs": [
    {
     "name": "stdout",
     "output_type": "stream",
     "text": [
      "Variance score: 0.93\n"
     ]
    }
   ],
   "source": [
    "# Explained variance score: 1 is perfect prediction\n",
    "print('Variance score: %.2f' % regr.score(X_test, y_test))"
   ]
  }
 ],
 "metadata": {
  "anaconda-cloud": {},
  "kernelspec": {
   "display_name": "Python [conda root]",
   "language": "python",
   "name": "conda-root-py"
  },
  "language_info": {
   "codemirror_mode": {
    "name": "ipython",
    "version": 3
   },
   "file_extension": ".py",
   "mimetype": "text/x-python",
   "name": "python",
   "nbconvert_exporter": "python",
   "pygments_lexer": "ipython3",
   "version": "3.5.2"
  }
 },
 "nbformat": 4,
 "nbformat_minor": 1
}
